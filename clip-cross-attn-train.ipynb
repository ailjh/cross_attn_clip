{
 "cells": [
  {
   "cell_type": "code",
   "execution_count": 1,
   "id": "0619ba3e",
   "metadata": {
    "_cell_guid": "b1076dfc-b9ad-4769-8c92-a6c4dae69d19",
    "_uuid": "8f2839f25d086af736a60e9eeb907d3b93b6e0e5",
    "execution": {
     "iopub.execute_input": "2025-06-08T18:58:45.876391Z",
     "iopub.status.busy": "2025-06-08T18:58:45.876103Z",
     "iopub.status.idle": "2025-06-08T19:00:20.146971Z",
     "shell.execute_reply": "2025-06-08T19:00:20.146172Z"
    },
    "papermill": {
     "duration": 94.276916,
     "end_time": "2025-06-08T19:00:20.148472",
     "exception": false,
     "start_time": "2025-06-08T18:58:45.871556",
     "status": "completed"
    },
    "tags": []
   },
   "outputs": [
    {
     "name": "stdout",
     "output_type": "stream",
     "text": [
      "Collecting open_clip_torch\r\n",
      "  Downloading open_clip_torch-2.32.0-py3-none-any.whl.metadata (31 kB)\r\n",
      "Requirement already satisfied: torch>=1.9.0 in /usr/local/lib/python3.11/dist-packages (from open_clip_torch) (2.6.0+cu124)\r\n",
      "Requirement already satisfied: torchvision in /usr/local/lib/python3.11/dist-packages (from open_clip_torch) (0.21.0+cu124)\r\n",
      "Requirement already satisfied: regex in /usr/local/lib/python3.11/dist-packages (from open_clip_torch) (2024.11.6)\r\n",
      "Collecting ftfy (from open_clip_torch)\r\n",
      "  Downloading ftfy-6.3.1-py3-none-any.whl.metadata (7.3 kB)\r\n",
      "Requirement already satisfied: tqdm in /usr/local/lib/python3.11/dist-packages (from open_clip_torch) (4.67.1)\r\n",
      "Requirement already satisfied: huggingface-hub in /usr/local/lib/python3.11/dist-packages (from open_clip_torch) (0.31.1)\r\n",
      "Requirement already satisfied: safetensors in /usr/local/lib/python3.11/dist-packages (from open_clip_torch) (0.5.3)\r\n",
      "Requirement already satisfied: timm in /usr/local/lib/python3.11/dist-packages (from open_clip_torch) (1.0.15)\r\n",
      "Requirement already satisfied: filelock in /usr/local/lib/python3.11/dist-packages (from torch>=1.9.0->open_clip_torch) (3.18.0)\r\n",
      "Requirement already satisfied: typing-extensions>=4.10.0 in /usr/local/lib/python3.11/dist-packages (from torch>=1.9.0->open_clip_torch) (4.13.2)\r\n",
      "Requirement already satisfied: networkx in /usr/local/lib/python3.11/dist-packages (from torch>=1.9.0->open_clip_torch) (3.4.2)\r\n",
      "Requirement already satisfied: jinja2 in /usr/local/lib/python3.11/dist-packages (from torch>=1.9.0->open_clip_torch) (3.1.6)\r\n",
      "Requirement already satisfied: fsspec in /usr/local/lib/python3.11/dist-packages (from torch>=1.9.0->open_clip_torch) (2025.3.2)\r\n",
      "Requirement already satisfied: nvidia-cuda-nvrtc-cu12==12.4.127 in /usr/local/lib/python3.11/dist-packages (from torch>=1.9.0->open_clip_torch) (12.4.127)\r\n",
      "Requirement already satisfied: nvidia-cuda-runtime-cu12==12.4.127 in /usr/local/lib/python3.11/dist-packages (from torch>=1.9.0->open_clip_torch) (12.4.127)\r\n",
      "Requirement already satisfied: nvidia-cuda-cupti-cu12==12.4.127 in /usr/local/lib/python3.11/dist-packages (from torch>=1.9.0->open_clip_torch) (12.4.127)\r\n",
      "Collecting nvidia-cudnn-cu12==9.1.0.70 (from torch>=1.9.0->open_clip_torch)\r\n",
      "  Downloading nvidia_cudnn_cu12-9.1.0.70-py3-none-manylinux2014_x86_64.whl.metadata (1.6 kB)\r\n",
      "Collecting nvidia-cublas-cu12==12.4.5.8 (from torch>=1.9.0->open_clip_torch)\r\n",
      "  Downloading nvidia_cublas_cu12-12.4.5.8-py3-none-manylinux2014_x86_64.whl.metadata (1.5 kB)\r\n",
      "Collecting nvidia-cufft-cu12==11.2.1.3 (from torch>=1.9.0->open_clip_torch)\r\n",
      "  Downloading nvidia_cufft_cu12-11.2.1.3-py3-none-manylinux2014_x86_64.whl.metadata (1.5 kB)\r\n",
      "Collecting nvidia-curand-cu12==10.3.5.147 (from torch>=1.9.0->open_clip_torch)\r\n",
      "  Downloading nvidia_curand_cu12-10.3.5.147-py3-none-manylinux2014_x86_64.whl.metadata (1.5 kB)\r\n",
      "Collecting nvidia-cusolver-cu12==11.6.1.9 (from torch>=1.9.0->open_clip_torch)\r\n",
      "  Downloading nvidia_cusolver_cu12-11.6.1.9-py3-none-manylinux2014_x86_64.whl.metadata (1.6 kB)\r\n",
      "Collecting nvidia-cusparse-cu12==12.3.1.170 (from torch>=1.9.0->open_clip_torch)\r\n",
      "  Downloading nvidia_cusparse_cu12-12.3.1.170-py3-none-manylinux2014_x86_64.whl.metadata (1.6 kB)\r\n",
      "Requirement already satisfied: nvidia-cusparselt-cu12==0.6.2 in /usr/local/lib/python3.11/dist-packages (from torch>=1.9.0->open_clip_torch) (0.6.2)\r\n",
      "Requirement already satisfied: nvidia-nccl-cu12==2.21.5 in /usr/local/lib/python3.11/dist-packages (from torch>=1.9.0->open_clip_torch) (2.21.5)\r\n",
      "Requirement already satisfied: nvidia-nvtx-cu12==12.4.127 in /usr/local/lib/python3.11/dist-packages (from torch>=1.9.0->open_clip_torch) (12.4.127)\r\n",
      "Collecting nvidia-nvjitlink-cu12==12.4.127 (from torch>=1.9.0->open_clip_torch)\r\n",
      "  Downloading nvidia_nvjitlink_cu12-12.4.127-py3-none-manylinux2014_x86_64.whl.metadata (1.5 kB)\r\n",
      "Requirement already satisfied: triton==3.2.0 in /usr/local/lib/python3.11/dist-packages (from torch>=1.9.0->open_clip_torch) (3.2.0)\r\n",
      "Requirement already satisfied: sympy==1.13.1 in /usr/local/lib/python3.11/dist-packages (from torch>=1.9.0->open_clip_torch) (1.13.1)\r\n",
      "Requirement already satisfied: mpmath<1.4,>=1.1.0 in /usr/local/lib/python3.11/dist-packages (from sympy==1.13.1->torch>=1.9.0->open_clip_torch) (1.3.0)\r\n",
      "Requirement already satisfied: wcwidth in /usr/local/lib/python3.11/dist-packages (from ftfy->open_clip_torch) (0.2.13)\r\n",
      "Requirement already satisfied: packaging>=20.9 in /usr/local/lib/python3.11/dist-packages (from huggingface-hub->open_clip_torch) (25.0)\r\n",
      "Requirement already satisfied: pyyaml>=5.1 in /usr/local/lib/python3.11/dist-packages (from huggingface-hub->open_clip_torch) (6.0.2)\r\n",
      "Requirement already satisfied: requests in /usr/local/lib/python3.11/dist-packages (from huggingface-hub->open_clip_torch) (2.32.3)\r\n",
      "Requirement already satisfied: hf-xet<2.0.0,>=1.1.0 in /usr/local/lib/python3.11/dist-packages (from huggingface-hub->open_clip_torch) (1.1.0)\r\n",
      "Requirement already satisfied: numpy in /usr/local/lib/python3.11/dist-packages (from torchvision->open_clip_torch) (1.26.4)\r\n",
      "Requirement already satisfied: pillow!=8.3.*,>=5.3.0 in /usr/local/lib/python3.11/dist-packages (from torchvision->open_clip_torch) (11.1.0)\r\n",
      "Requirement already satisfied: MarkupSafe>=2.0 in /usr/local/lib/python3.11/dist-packages (from jinja2->torch>=1.9.0->open_clip_torch) (3.0.2)\r\n",
      "Requirement already satisfied: mkl_fft in /usr/local/lib/python3.11/dist-packages (from numpy->torchvision->open_clip_torch) (1.3.8)\r\n",
      "Requirement already satisfied: mkl_random in /usr/local/lib/python3.11/dist-packages (from numpy->torchvision->open_clip_torch) (1.2.4)\r\n",
      "Requirement already satisfied: mkl_umath in /usr/local/lib/python3.11/dist-packages (from numpy->torchvision->open_clip_torch) (0.1.1)\r\n",
      "Requirement already satisfied: mkl in /usr/local/lib/python3.11/dist-packages (from numpy->torchvision->open_clip_torch) (2025.1.0)\r\n",
      "Requirement already satisfied: tbb4py in /usr/local/lib/python3.11/dist-packages (from numpy->torchvision->open_clip_torch) (2022.1.0)\r\n",
      "Requirement already satisfied: mkl-service in /usr/local/lib/python3.11/dist-packages (from numpy->torchvision->open_clip_torch) (2.4.1)\r\n",
      "Requirement already satisfied: charset-normalizer<4,>=2 in /usr/local/lib/python3.11/dist-packages (from requests->huggingface-hub->open_clip_torch) (3.4.2)\r\n",
      "Requirement already satisfied: idna<4,>=2.5 in /usr/local/lib/python3.11/dist-packages (from requests->huggingface-hub->open_clip_torch) (3.10)\r\n",
      "Requirement already satisfied: urllib3<3,>=1.21.1 in /usr/local/lib/python3.11/dist-packages (from requests->huggingface-hub->open_clip_torch) (2.4.0)\r\n",
      "Requirement already satisfied: certifi>=2017.4.17 in /usr/local/lib/python3.11/dist-packages (from requests->huggingface-hub->open_clip_torch) (2025.4.26)\r\n",
      "Requirement already satisfied: intel-openmp<2026,>=2024 in /usr/local/lib/python3.11/dist-packages (from mkl->numpy->torchvision->open_clip_torch) (2024.2.0)\r\n",
      "Requirement already satisfied: tbb==2022.* in /usr/local/lib/python3.11/dist-packages (from mkl->numpy->torchvision->open_clip_torch) (2022.1.0)\r\n",
      "Requirement already satisfied: tcmlib==1.* in /usr/local/lib/python3.11/dist-packages (from tbb==2022.*->mkl->numpy->torchvision->open_clip_torch) (1.3.0)\r\n",
      "Requirement already satisfied: intel-cmplr-lib-rt in /usr/local/lib/python3.11/dist-packages (from mkl_umath->numpy->torchvision->open_clip_torch) (2024.2.0)\r\n",
      "Requirement already satisfied: intel-cmplr-lib-ur==2024.2.0 in /usr/local/lib/python3.11/dist-packages (from intel-openmp<2026,>=2024->mkl->numpy->torchvision->open_clip_torch) (2024.2.0)\r\n",
      "Downloading open_clip_torch-2.32.0-py3-none-any.whl (1.5 MB)\r\n",
      "\u001b[2K   \u001b[90m━━━━━━━━━━━━━━━━━━━━━━━━━━━━━━━━━━━━━━━━\u001b[0m \u001b[32m1.5/1.5 MB\u001b[0m \u001b[31m20.0 MB/s\u001b[0m eta \u001b[36m0:00:00\u001b[0m\r\n",
      "\u001b[?25hDownloading nvidia_cublas_cu12-12.4.5.8-py3-none-manylinux2014_x86_64.whl (363.4 MB)\r\n",
      "\u001b[2K   \u001b[90m━━━━━━━━━━━━━━━━━━━━━━━━━━━━━━━━━━━━━━━━\u001b[0m \u001b[32m363.4/363.4 MB\u001b[0m \u001b[31m4.5 MB/s\u001b[0m eta \u001b[36m0:00:00\u001b[0m\r\n",
      "\u001b[?25hDownloading nvidia_cudnn_cu12-9.1.0.70-py3-none-manylinux2014_x86_64.whl (664.8 MB)\r\n",
      "\u001b[2K   \u001b[90m━━━━━━━━━━━━━━━━━━━━━━━━━━━━━━━━━━━━━━━━\u001b[0m \u001b[32m664.8/664.8 MB\u001b[0m \u001b[31m2.4 MB/s\u001b[0m eta \u001b[36m0:00:00\u001b[0m\r\n",
      "\u001b[?25hDownloading nvidia_cufft_cu12-11.2.1.3-py3-none-manylinux2014_x86_64.whl (211.5 MB)\r\n",
      "\u001b[2K   \u001b[90m━━━━━━━━━━━━━━━━━━━━━━━━━━━━━━━━━━━━━━━━\u001b[0m \u001b[32m211.5/211.5 MB\u001b[0m \u001b[31m7.5 MB/s\u001b[0m eta \u001b[36m0:00:00\u001b[0m\r\n",
      "\u001b[?25hDownloading nvidia_curand_cu12-10.3.5.147-py3-none-manylinux2014_x86_64.whl (56.3 MB)\r\n",
      "\u001b[2K   \u001b[90m━━━━━━━━━━━━━━━━━━━━━━━━━━━━━━━━━━━━━━━━\u001b[0m \u001b[32m56.3/56.3 MB\u001b[0m \u001b[31m11.6 MB/s\u001b[0m eta \u001b[36m0:00:00\u001b[0m\r\n",
      "\u001b[?25hDownloading nvidia_cusolver_cu12-11.6.1.9-py3-none-manylinux2014_x86_64.whl (127.9 MB)\r\n",
      "\u001b[2K   \u001b[90m━━━━━━━━━━━━━━━━━━━━━━━━━━━━━━━━━━━━━━━━\u001b[0m \u001b[32m127.9/127.9 MB\u001b[0m \u001b[31m12.8 MB/s\u001b[0m eta \u001b[36m0:00:00\u001b[0m\r\n",
      "\u001b[?25hDownloading nvidia_cusparse_cu12-12.3.1.170-py3-none-manylinux2014_x86_64.whl (207.5 MB)\r\n",
      "\u001b[2K   \u001b[90m━━━━━━━━━━━━━━━━━━━━━━━━━━━━━━━━━━━━━━━━\u001b[0m \u001b[32m207.5/207.5 MB\u001b[0m \u001b[31m7.8 MB/s\u001b[0m eta \u001b[36m0:00:00\u001b[0m\r\n",
      "\u001b[?25hDownloading nvidia_nvjitlink_cu12-12.4.127-py3-none-manylinux2014_x86_64.whl (21.1 MB)\r\n",
      "\u001b[2K   \u001b[90m━━━━━━━━━━━━━━━━━━━━━━━━━━━━━━━━━━━━━━━━\u001b[0m \u001b[32m21.1/21.1 MB\u001b[0m \u001b[31m7.2 MB/s\u001b[0m eta \u001b[36m0:00:00\u001b[0m\r\n",
      "\u001b[?25hDownloading ftfy-6.3.1-py3-none-any.whl (44 kB)\r\n",
      "\u001b[2K   \u001b[90m━━━━━━━━━━━━━━━━━━━━━━━━━━━━━━━━━━━━━━━━\u001b[0m \u001b[32m44.8/44.8 kB\u001b[0m \u001b[31m41.3 kB/s\u001b[0m eta \u001b[36m0:00:00\u001b[0m\r\n",
      "\u001b[?25hInstalling collected packages: nvidia-nvjitlink-cu12, nvidia-curand-cu12, nvidia-cufft-cu12, nvidia-cublas-cu12, ftfy, nvidia-cusparse-cu12, nvidia-cudnn-cu12, nvidia-cusolver-cu12, open_clip_torch\r\n",
      "  Attempting uninstall: nvidia-nvjitlink-cu12\r\n",
      "    Found existing installation: nvidia-nvjitlink-cu12 12.9.41\r\n",
      "    Uninstalling nvidia-nvjitlink-cu12-12.9.41:\r\n",
      "      Successfully uninstalled nvidia-nvjitlink-cu12-12.9.41\r\n",
      "  Attempting uninstall: nvidia-curand-cu12\r\n",
      "    Found existing installation: nvidia-curand-cu12 10.3.10.19\r\n",
      "    Uninstalling nvidia-curand-cu12-10.3.10.19:\r\n",
      "      Successfully uninstalled nvidia-curand-cu12-10.3.10.19\r\n",
      "  Attempting uninstall: nvidia-cufft-cu12\r\n",
      "    Found existing installation: nvidia-cufft-cu12 11.4.0.6\r\n",
      "    Uninstalling nvidia-cufft-cu12-11.4.0.6:\r\n",
      "      Successfully uninstalled nvidia-cufft-cu12-11.4.0.6\r\n",
      "  Attempting uninstall: nvidia-cublas-cu12\r\n",
      "    Found existing installation: nvidia-cublas-cu12 12.9.0.13\r\n",
      "    Uninstalling nvidia-cublas-cu12-12.9.0.13:\r\n",
      "      Successfully uninstalled nvidia-cublas-cu12-12.9.0.13\r\n",
      "  Attempting uninstall: nvidia-cusparse-cu12\r\n",
      "    Found existing installation: nvidia-cusparse-cu12 12.5.9.5\r\n",
      "    Uninstalling nvidia-cusparse-cu12-12.5.9.5:\r\n",
      "      Successfully uninstalled nvidia-cusparse-cu12-12.5.9.5\r\n",
      "  Attempting uninstall: nvidia-cudnn-cu12\r\n",
      "    Found existing installation: nvidia-cudnn-cu12 9.3.0.75\r\n",
      "    Uninstalling nvidia-cudnn-cu12-9.3.0.75:\r\n",
      "      Successfully uninstalled nvidia-cudnn-cu12-9.3.0.75\r\n",
      "  Attempting uninstall: nvidia-cusolver-cu12\r\n",
      "    Found existing installation: nvidia-cusolver-cu12 11.7.4.40\r\n",
      "    Uninstalling nvidia-cusolver-cu12-11.7.4.40:\r\n",
      "      Successfully uninstalled nvidia-cusolver-cu12-11.7.4.40\r\n",
      "Successfully installed ftfy-6.3.1 nvidia-cublas-cu12-12.4.5.8 nvidia-cudnn-cu12-9.1.0.70 nvidia-cufft-cu12-11.2.1.3 nvidia-curand-cu12-10.3.5.147 nvidia-cusolver-cu12-11.6.1.9 nvidia-cusparse-cu12-12.3.1.170 nvidia-nvjitlink-cu12-12.4.127 open_clip_torch-2.32.0\r\n"
     ]
    }
   ],
   "source": [
    "!pip install open_clip_torch"
   ]
  },
  {
   "cell_type": "code",
   "execution_count": 2,
   "id": "f837b243",
   "metadata": {
    "execution": {
     "iopub.execute_input": "2025-06-08T19:00:20.199281Z",
     "iopub.status.busy": "2025-06-08T19:00:20.198982Z",
     "iopub.status.idle": "2025-06-08T19:00:25.662335Z",
     "shell.execute_reply": "2025-06-08T19:00:25.661638Z"
    },
    "papermill": {
     "duration": 5.490189,
     "end_time": "2025-06-08T19:00:25.664056",
     "exception": false,
     "start_time": "2025-06-08T19:00:20.173867",
     "status": "completed"
    },
    "tags": []
   },
   "outputs": [],
   "source": [
    "import torch\n",
    "torch.cuda.empty_cache()\n",
    "torch.cuda.ipc_collect()"
   ]
  },
  {
   "cell_type": "code",
   "execution_count": 3,
   "id": "bffc7b3e",
   "metadata": {
    "execution": {
     "iopub.execute_input": "2025-06-08T19:00:25.718636Z",
     "iopub.status.busy": "2025-06-08T19:00:25.718181Z",
     "iopub.status.idle": "2025-06-08T19:00:46.138247Z",
     "shell.execute_reply": "2025-06-08T19:00:46.137582Z"
    },
    "papermill": {
     "duration": 20.44822,
     "end_time": "2025-06-08T19:00:46.139793",
     "exception": false,
     "start_time": "2025-06-08T19:00:25.691573",
     "status": "completed"
    },
    "tags": []
   },
   "outputs": [],
   "source": [
    "import open_clip\n",
    "from open_clip import tokenize\n",
    "import torch\n",
    "import torch.nn as nn\n",
    "import torch.nn.functional as F\n",
    "from torch.utils.data import DataLoader, Dataset\n",
    "from PIL import Image\n",
    "from tqdm import tqdm\n",
    "import json"
   ]
  },
  {
   "cell_type": "code",
   "execution_count": 4,
   "id": "796832ed",
   "metadata": {
    "execution": {
     "iopub.execute_input": "2025-06-08T19:00:46.192344Z",
     "iopub.status.busy": "2025-06-08T19:00:46.191339Z",
     "iopub.status.idle": "2025-06-08T19:01:46.093872Z",
     "shell.execute_reply": "2025-06-08T19:01:46.092953Z"
    },
    "papermill": {
     "duration": 59.954132,
     "end_time": "2025-06-08T19:01:46.119298",
     "exception": false,
     "start_time": "2025-06-08T19:00:46.165166",
     "status": "completed"
    },
    "tags": []
   },
   "outputs": [
    {
     "data": {
      "application/vnd.jupyter.widget-view+json": {
       "model_id": "1864272e211444a6b26635e66860fc24",
       "version_major": 2,
       "version_minor": 0
      },
      "text/plain": [
       "open_clip_model.safetensors:   0%|          | 0.00/1.71G [00:00<?, ?B/s]"
      ]
     },
     "metadata": {},
     "output_type": "display_data"
    },
    {
     "name": "stderr",
     "output_type": "stream",
     "text": [
      "/usr/local/lib/python3.11/dist-packages/open_clip/factory.py:388: UserWarning: These pretrained weights were trained with QuickGELU activation but the model config does not have that enabled. Consider using a model config with a \"-quickgelu\" suffix or enable with a flag.\n",
      "  warnings.warn(\n"
     ]
    },
    {
     "data": {
      "text/plain": [
       "<All keys matched successfully>"
      ]
     },
     "execution_count": 4,
     "metadata": {},
     "output_type": "execute_result"
    }
   ],
   "source": [
    "device = torch.device(\"cuda:0\" if torch.cuda.is_available() else \"cpu\")\n",
    "\n",
    "model, _, preprocess = open_clip.create_model_and_transforms('ViT-L-14', pretrained='openai')\n",
    "model.to(device)\n",
    "\n",
    "model_path = \"/kaggle/input/clip_model/pytorch/default/1/clip_model.pt\"\n",
    "checkpoints = torch.load(model_path, map_location=device)\n",
    "model.load_state_dict(checkpoints['model_state_dict'])\n"
   ]
  },
  {
   "cell_type": "code",
   "execution_count": 5,
   "id": "f9915618",
   "metadata": {
    "execution": {
     "iopub.execute_input": "2025-06-08T19:01:46.170888Z",
     "iopub.status.busy": "2025-06-08T19:01:46.169970Z",
     "iopub.status.idle": "2025-06-08T19:01:46.175200Z",
     "shell.execute_reply": "2025-06-08T19:01:46.174618Z"
    },
    "papermill": {
     "duration": 0.031322,
     "end_time": "2025-06-08T19:01:46.176284",
     "exception": false,
     "start_time": "2025-06-08T19:01:46.144962",
     "status": "completed"
    },
    "tags": []
   },
   "outputs": [],
   "source": [
    "for param in model.parameters():\n",
    "    param.requires_grad = False"
   ]
  },
  {
   "cell_type": "code",
   "execution_count": 6,
   "id": "70e6d8b4",
   "metadata": {
    "execution": {
     "iopub.execute_input": "2025-06-08T19:01:46.228328Z",
     "iopub.status.busy": "2025-06-08T19:01:46.227656Z",
     "iopub.status.idle": "2025-06-08T19:01:46.361241Z",
     "shell.execute_reply": "2025-06-08T19:01:46.360512Z"
    },
    "papermill": {
     "duration": 0.162067,
     "end_time": "2025-06-08T19:01:46.363294",
     "exception": false,
     "start_time": "2025-06-08T19:01:46.201227",
     "status": "completed"
    },
    "tags": []
   },
   "outputs": [
    {
     "name": "stdout",
     "output_type": "stream",
     "text": [
      "positional_embedding norm: 2.0288569927215576\n",
      "text_projection norm: 11.265134811401367\n",
      "logit_scale norm: 4.605087757110596\n",
      "visual.class_embedding norm: 5.109840393066406\n",
      "visual.positional_embedding norm: 11.497537612915039\n",
      "visual.proj norm: 12.942944526672363\n",
      "visual.conv1.weight norm: 13.028203010559082\n",
      "visual.ln_pre.weight norm: 21.016136169433594\n",
      "visual.ln_pre.bias norm: 2.6796717643737793\n",
      "visual.transformer.resblocks.0.ln_1.weight norm: 14.776494026184082\n",
      "visual.transformer.resblocks.0.ln_1.bias norm: 3.969780683517456\n",
      "visual.transformer.resblocks.0.attn.in_proj_weight norm: 17.87546157836914\n",
      "visual.transformer.resblocks.0.attn.in_proj_bias norm: 35.37779235839844\n",
      "visual.transformer.resblocks.0.attn.out_proj.weight norm: 12.688957214355469\n",
      "visual.transformer.resblocks.0.attn.out_proj.bias norm: 2.594679355621338\n",
      "visual.transformer.resblocks.0.ln_2.weight norm: 32.28483581542969\n",
      "visual.transformer.resblocks.0.ln_2.bias norm: 4.974412441253662\n",
      "visual.transformer.resblocks.0.mlp.c_fc.weight norm: 22.41454315185547\n",
      "visual.transformer.resblocks.0.mlp.c_fc.bias norm: 40.293209075927734\n",
      "visual.transformer.resblocks.0.mlp.c_proj.weight norm: 17.935123443603516\n",
      "visual.transformer.resblocks.0.mlp.c_proj.bias norm: 2.591205358505249\n",
      "visual.transformer.resblocks.1.ln_1.weight norm: 16.513586044311523\n",
      "visual.transformer.resblocks.1.ln_1.bias norm: 4.174954891204834\n",
      "visual.transformer.resblocks.1.attn.in_proj_weight norm: 23.088850021362305\n",
      "visual.transformer.resblocks.1.attn.in_proj_bias norm: 31.58916473388672\n",
      "visual.transformer.resblocks.1.attn.out_proj.weight norm: 12.85926342010498\n",
      "visual.transformer.resblocks.1.attn.out_proj.bias norm: 1.8682760000228882\n",
      "visual.transformer.resblocks.1.ln_2.weight norm: 22.851858139038086\n",
      "visual.transformer.resblocks.1.ln_2.bias norm: 4.953126430511475\n",
      "visual.transformer.resblocks.1.mlp.c_fc.weight norm: 27.319562911987305\n",
      "visual.transformer.resblocks.1.mlp.c_fc.bias norm: 26.168777465820312\n",
      "visual.transformer.resblocks.1.mlp.c_proj.weight norm: 21.351511001586914\n",
      "visual.transformer.resblocks.1.mlp.c_proj.bias norm: 1.9278687238693237\n",
      "visual.transformer.resblocks.2.ln_1.weight norm: 19.759090423583984\n",
      "visual.transformer.resblocks.2.ln_1.bias norm: 5.244530200958252\n",
      "visual.transformer.resblocks.2.attn.in_proj_weight norm: 24.85835075378418\n",
      "visual.transformer.resblocks.2.attn.in_proj_bias norm: 26.972454071044922\n",
      "visual.transformer.resblocks.2.attn.out_proj.weight norm: 12.443117141723633\n",
      "visual.transformer.resblocks.2.attn.out_proj.bias norm: 1.716761827468872\n",
      "visual.transformer.resblocks.2.ln_2.weight norm: 32.57644271850586\n",
      "visual.transformer.resblocks.2.ln_2.bias norm: 3.425961494445801\n",
      "visual.transformer.resblocks.2.mlp.c_fc.weight norm: 26.479209899902344\n",
      "visual.transformer.resblocks.2.mlp.c_fc.bias norm: 23.702072143554688\n",
      "visual.transformer.resblocks.2.mlp.c_proj.weight norm: 21.34030532836914\n",
      "visual.transformer.resblocks.2.mlp.c_proj.bias norm: 2.2575411796569824\n",
      "visual.transformer.resblocks.3.ln_1.weight norm: 22.479475021362305\n",
      "visual.transformer.resblocks.3.ln_1.bias norm: 6.615069389343262\n",
      "visual.transformer.resblocks.3.attn.in_proj_weight norm: 26.44070053100586\n",
      "visual.transformer.resblocks.3.attn.in_proj_bias norm: 22.787216186523438\n",
      "visual.transformer.resblocks.3.attn.out_proj.weight norm: 12.965727806091309\n",
      "visual.transformer.resblocks.3.attn.out_proj.bias norm: 2.6015121936798096\n",
      "visual.transformer.resblocks.3.ln_2.weight norm: 33.607784271240234\n",
      "visual.transformer.resblocks.3.ln_2.bias norm: 4.099748134613037\n",
      "visual.transformer.resblocks.3.mlp.c_fc.weight norm: 28.022859573364258\n",
      "visual.transformer.resblocks.3.mlp.c_fc.bias norm: 21.04411506652832\n",
      "visual.transformer.resblocks.3.mlp.c_proj.weight norm: 22.75672721862793\n",
      "visual.transformer.resblocks.3.mlp.c_proj.bias norm: 2.3421566486358643\n",
      "visual.transformer.resblocks.4.ln_1.weight norm: 23.601699829101562\n",
      "visual.transformer.resblocks.4.ln_1.bias norm: 5.186129093170166\n",
      "visual.transformer.resblocks.4.attn.in_proj_weight norm: 26.27352523803711\n",
      "visual.transformer.resblocks.4.attn.in_proj_bias norm: 21.78907585144043\n",
      "visual.transformer.resblocks.4.attn.out_proj.weight norm: 12.915279388427734\n",
      "visual.transformer.resblocks.4.attn.out_proj.bias norm: 2.1214020252227783\n",
      "visual.transformer.resblocks.4.ln_2.weight norm: 36.46551513671875\n",
      "visual.transformer.resblocks.4.ln_2.bias norm: 3.3481998443603516\n",
      "visual.transformer.resblocks.4.mlp.c_fc.weight norm: 29.77733039855957\n",
      "visual.transformer.resblocks.4.mlp.c_fc.bias norm: 19.025434494018555\n",
      "visual.transformer.resblocks.4.mlp.c_proj.weight norm: 24.541088104248047\n",
      "visual.transformer.resblocks.4.mlp.c_proj.bias norm: 2.166346788406372\n",
      "visual.transformer.resblocks.5.ln_1.weight norm: 27.957101821899414\n",
      "visual.transformer.resblocks.5.ln_1.bias norm: 6.1103668212890625\n",
      "visual.transformer.resblocks.5.attn.in_proj_weight norm: 25.836088180541992\n",
      "visual.transformer.resblocks.5.attn.in_proj_bias norm: 19.669301986694336\n",
      "visual.transformer.resblocks.5.attn.out_proj.weight norm: 13.43117904663086\n",
      "visual.transformer.resblocks.5.attn.out_proj.bias norm: 1.8144367933273315\n",
      "visual.transformer.resblocks.5.ln_2.weight norm: 35.79679489135742\n",
      "visual.transformer.resblocks.5.ln_2.bias norm: 5.016000747680664\n",
      "visual.transformer.resblocks.5.mlp.c_fc.weight norm: 30.911836624145508\n",
      "visual.transformer.resblocks.5.mlp.c_fc.bias norm: 16.552013397216797\n",
      "visual.transformer.resblocks.5.mlp.c_proj.weight norm: 25.509424209594727\n",
      "visual.transformer.resblocks.5.mlp.c_proj.bias norm: 1.7628974914550781\n",
      "visual.transformer.resblocks.6.ln_1.weight norm: 30.899761199951172\n",
      "visual.transformer.resblocks.6.ln_1.bias norm: 7.583768367767334\n",
      "visual.transformer.resblocks.6.attn.in_proj_weight norm: 27.762636184692383\n",
      "visual.transformer.resblocks.6.attn.in_proj_bias norm: 17.347620010375977\n",
      "visual.transformer.resblocks.6.attn.out_proj.weight norm: 14.10318660736084\n",
      "visual.transformer.resblocks.6.attn.out_proj.bias norm: 2.4496498107910156\n",
      "visual.transformer.resblocks.6.ln_2.weight norm: 36.78116989135742\n",
      "visual.transformer.resblocks.6.ln_2.bias norm: 4.87166166305542\n",
      "visual.transformer.resblocks.6.mlp.c_fc.weight norm: 30.58543586730957\n",
      "visual.transformer.resblocks.6.mlp.c_fc.bias norm: 16.240947723388672\n",
      "visual.transformer.resblocks.6.mlp.c_proj.weight norm: 25.799753189086914\n",
      "visual.transformer.resblocks.6.mlp.c_proj.bias norm: 1.995492935180664\n",
      "visual.transformer.resblocks.7.ln_1.weight norm: 35.940860748291016\n",
      "visual.transformer.resblocks.7.ln_1.bias norm: 6.508787631988525\n",
      "visual.transformer.resblocks.7.attn.in_proj_weight norm: 27.27517318725586\n",
      "visual.transformer.resblocks.7.attn.in_proj_bias norm: 16.009187698364258\n",
      "visual.transformer.resblocks.7.attn.out_proj.weight norm: 14.246922492980957\n",
      "visual.transformer.resblocks.7.attn.out_proj.bias norm: 2.018068552017212\n",
      "visual.transformer.resblocks.7.ln_2.weight norm: 38.110111236572266\n",
      "visual.transformer.resblocks.7.ln_2.bias norm: 5.9679670333862305\n",
      "visual.transformer.resblocks.7.mlp.c_fc.weight norm: 30.927471160888672\n",
      "visual.transformer.resblocks.7.mlp.c_fc.bias norm: 16.15559196472168\n",
      "visual.transformer.resblocks.7.mlp.c_proj.weight norm: 26.569217681884766\n",
      "visual.transformer.resblocks.7.mlp.c_proj.bias norm: 1.883933424949646\n",
      "visual.transformer.resblocks.8.ln_1.weight norm: 36.630706787109375\n",
      "visual.transformer.resblocks.8.ln_1.bias norm: 7.033275127410889\n",
      "visual.transformer.resblocks.8.attn.in_proj_weight norm: 27.77443504333496\n",
      "visual.transformer.resblocks.8.attn.in_proj_bias norm: 15.830535888671875\n",
      "visual.transformer.resblocks.8.attn.out_proj.weight norm: 14.34008502960205\n",
      "visual.transformer.resblocks.8.attn.out_proj.bias norm: 1.8848096132278442\n",
      "visual.transformer.resblocks.8.ln_2.weight norm: 38.49237060546875\n",
      "visual.transformer.resblocks.8.ln_2.bias norm: 6.368034362792969\n",
      "visual.transformer.resblocks.8.mlp.c_fc.weight norm: 31.144397735595703\n",
      "visual.transformer.resblocks.8.mlp.c_fc.bias norm: 16.655725479125977\n",
      "visual.transformer.resblocks.8.mlp.c_proj.weight norm: 27.351276397705078\n",
      "visual.transformer.resblocks.8.mlp.c_proj.bias norm: 1.7833755016326904\n",
      "visual.transformer.resblocks.9.ln_1.weight norm: 36.06562805175781\n",
      "visual.transformer.resblocks.9.ln_1.bias norm: 6.934856414794922\n",
      "visual.transformer.resblocks.9.attn.in_proj_weight norm: 27.67609214782715\n",
      "visual.transformer.resblocks.9.attn.in_proj_bias norm: 15.336235046386719\n",
      "visual.transformer.resblocks.9.attn.out_proj.weight norm: 14.53307819366455\n",
      "visual.transformer.resblocks.9.attn.out_proj.bias norm: 1.9333301782608032\n",
      "visual.transformer.resblocks.9.ln_2.weight norm: 39.52178192138672\n",
      "visual.transformer.resblocks.9.ln_2.bias norm: 7.415387153625488\n",
      "visual.transformer.resblocks.9.mlp.c_fc.weight norm: 31.35125160217285\n",
      "visual.transformer.resblocks.9.mlp.c_fc.bias norm: 17.057382583618164\n",
      "visual.transformer.resblocks.9.mlp.c_proj.weight norm: 27.25922203063965\n",
      "visual.transformer.resblocks.9.mlp.c_proj.bias norm: 1.8149681091308594\n",
      "visual.transformer.resblocks.10.ln_1.weight norm: 37.85416030883789\n",
      "visual.transformer.resblocks.10.ln_1.bias norm: 6.24210786819458\n",
      "visual.transformer.resblocks.10.attn.in_proj_weight norm: 28.111276626586914\n",
      "visual.transformer.resblocks.10.attn.in_proj_bias norm: 14.957064628601074\n",
      "visual.transformer.resblocks.10.attn.out_proj.weight norm: 14.23216724395752\n",
      "visual.transformer.resblocks.10.attn.out_proj.bias norm: 1.906280517578125\n",
      "visual.transformer.resblocks.10.ln_2.weight norm: 41.51412582397461\n",
      "visual.transformer.resblocks.10.ln_2.bias norm: 9.094938278198242\n",
      "visual.transformer.resblocks.10.mlp.c_fc.weight norm: 31.74209976196289\n",
      "visual.transformer.resblocks.10.mlp.c_fc.bias norm: 17.758872985839844\n",
      "visual.transformer.resblocks.10.mlp.c_proj.weight norm: 28.09585189819336\n",
      "visual.transformer.resblocks.10.mlp.c_proj.bias norm: 1.6964079141616821\n",
      "visual.transformer.resblocks.11.ln_1.weight norm: 37.957618713378906\n",
      "visual.transformer.resblocks.11.ln_1.bias norm: 5.849092483520508\n",
      "visual.transformer.resblocks.11.attn.in_proj_weight norm: 28.297426223754883\n",
      "visual.transformer.resblocks.11.attn.in_proj_bias norm: 14.546358108520508\n",
      "visual.transformer.resblocks.11.attn.out_proj.weight norm: 14.16706657409668\n",
      "visual.transformer.resblocks.11.attn.out_proj.bias norm: 2.2310802936553955\n",
      "visual.transformer.resblocks.11.ln_2.weight norm: 44.00398635864258\n",
      "visual.transformer.resblocks.11.ln_2.bias norm: 10.174318313598633\n",
      "visual.transformer.resblocks.11.mlp.c_fc.weight norm: 31.899620056152344\n",
      "visual.transformer.resblocks.11.mlp.c_fc.bias norm: 18.130266189575195\n",
      "visual.transformer.resblocks.11.mlp.c_proj.weight norm: 28.389596939086914\n",
      "visual.transformer.resblocks.11.mlp.c_proj.bias norm: 1.4893938302993774\n",
      "visual.transformer.resblocks.12.ln_1.weight norm: 38.740535736083984\n",
      "visual.transformer.resblocks.12.ln_1.bias norm: 4.7105841636657715\n",
      "visual.transformer.resblocks.12.attn.in_proj_weight norm: 28.462779998779297\n",
      "visual.transformer.resblocks.12.attn.in_proj_bias norm: 16.331541061401367\n",
      "visual.transformer.resblocks.12.attn.out_proj.weight norm: 13.766447067260742\n",
      "visual.transformer.resblocks.12.attn.out_proj.bias norm: 2.3832151889801025\n",
      "visual.transformer.resblocks.12.ln_2.weight norm: 45.030460357666016\n",
      "visual.transformer.resblocks.12.ln_2.bias norm: 10.249150276184082\n",
      "visual.transformer.resblocks.12.mlp.c_fc.weight norm: 32.21853256225586\n",
      "visual.transformer.resblocks.12.mlp.c_fc.bias norm: 18.22588539123535\n",
      "visual.transformer.resblocks.12.mlp.c_proj.weight norm: 28.27147102355957\n",
      "visual.transformer.resblocks.12.mlp.c_proj.bias norm: 1.3401497602462769\n",
      "visual.transformer.resblocks.13.ln_1.weight norm: 40.54048156738281\n",
      "visual.transformer.resblocks.13.ln_1.bias norm: 4.904412269592285\n",
      "visual.transformer.resblocks.13.attn.in_proj_weight norm: 28.254375457763672\n",
      "visual.transformer.resblocks.13.attn.in_proj_bias norm: 17.341819763183594\n",
      "visual.transformer.resblocks.13.attn.out_proj.weight norm: 14.169167518615723\n",
      "visual.transformer.resblocks.13.attn.out_proj.bias norm: 2.3735506534576416\n",
      "visual.transformer.resblocks.13.ln_2.weight norm: 47.13090515136719\n",
      "visual.transformer.resblocks.13.ln_2.bias norm: 10.195941925048828\n",
      "visual.transformer.resblocks.13.mlp.c_fc.weight norm: 31.643003463745117\n",
      "visual.transformer.resblocks.13.mlp.c_fc.bias norm: 18.132909774780273\n",
      "visual.transformer.resblocks.13.mlp.c_proj.weight norm: 29.106334686279297\n",
      "visual.transformer.resblocks.13.mlp.c_proj.bias norm: 1.6899365186691284\n",
      "visual.transformer.resblocks.14.ln_1.weight norm: 40.671470642089844\n",
      "visual.transformer.resblocks.14.ln_1.bias norm: 4.323755264282227\n",
      "visual.transformer.resblocks.14.attn.in_proj_weight norm: 28.71218490600586\n",
      "visual.transformer.resblocks.14.attn.in_proj_bias norm: 17.204601287841797\n",
      "visual.transformer.resblocks.14.attn.out_proj.weight norm: 13.999547004699707\n",
      "visual.transformer.resblocks.14.attn.out_proj.bias norm: 1.7508419752120972\n",
      "visual.transformer.resblocks.14.ln_2.weight norm: 50.72053909301758\n",
      "visual.transformer.resblocks.14.ln_2.bias norm: 11.613776206970215\n",
      "visual.transformer.resblocks.14.mlp.c_fc.weight norm: 31.58254623413086\n",
      "visual.transformer.resblocks.14.mlp.c_fc.bias norm: 18.3216495513916\n",
      "visual.transformer.resblocks.14.mlp.c_proj.weight norm: 30.280210494995117\n",
      "visual.transformer.resblocks.14.mlp.c_proj.bias norm: 1.8941216468811035\n",
      "visual.transformer.resblocks.15.ln_1.weight norm: 41.34160614013672\n",
      "visual.transformer.resblocks.15.ln_1.bias norm: 4.1495280265808105\n",
      "visual.transformer.resblocks.15.attn.in_proj_weight norm: 28.76788330078125\n",
      "visual.transformer.resblocks.15.attn.in_proj_bias norm: 18.028167724609375\n",
      "visual.transformer.resblocks.15.attn.out_proj.weight norm: 14.02329158782959\n",
      "visual.transformer.resblocks.15.attn.out_proj.bias norm: 1.849316954612732\n",
      "visual.transformer.resblocks.15.ln_2.weight norm: 54.88736343383789\n",
      "visual.transformer.resblocks.15.ln_2.bias norm: 9.768153190612793\n",
      "visual.transformer.resblocks.15.mlp.c_fc.weight norm: 31.431283950805664\n",
      "visual.transformer.resblocks.15.mlp.c_fc.bias norm: 18.023605346679688\n",
      "visual.transformer.resblocks.15.mlp.c_proj.weight norm: 30.46934700012207\n",
      "visual.transformer.resblocks.15.mlp.c_proj.bias norm: 1.7220458984375\n",
      "visual.transformer.resblocks.16.ln_1.weight norm: 44.43754577636719\n",
      "visual.transformer.resblocks.16.ln_1.bias norm: 4.334395885467529\n",
      "visual.transformer.resblocks.16.attn.in_proj_weight norm: 28.6203556060791\n",
      "visual.transformer.resblocks.16.attn.in_proj_bias norm: 21.7856388092041\n",
      "visual.transformer.resblocks.16.attn.out_proj.weight norm: 14.52053451538086\n",
      "visual.transformer.resblocks.16.attn.out_proj.bias norm: 1.503234624862671\n",
      "visual.transformer.resblocks.16.ln_2.weight norm: 64.79186248779297\n",
      "visual.transformer.resblocks.16.ln_2.bias norm: 11.037487030029297\n",
      "visual.transformer.resblocks.16.mlp.c_fc.weight norm: 30.92313575744629\n",
      "visual.transformer.resblocks.16.mlp.c_fc.bias norm: 17.93734359741211\n",
      "visual.transformer.resblocks.16.mlp.c_proj.weight norm: 32.07493591308594\n",
      "visual.transformer.resblocks.16.mlp.c_proj.bias norm: 1.9910792112350464\n",
      "visual.transformer.resblocks.17.ln_1.weight norm: 45.576683044433594\n",
      "visual.transformer.resblocks.17.ln_1.bias norm: 4.434880256652832\n",
      "visual.transformer.resblocks.17.attn.in_proj_weight norm: 28.88271141052246\n",
      "visual.transformer.resblocks.17.attn.in_proj_bias norm: 18.6353759765625\n",
      "visual.transformer.resblocks.17.attn.out_proj.weight norm: 14.541595458984375\n",
      "visual.transformer.resblocks.17.attn.out_proj.bias norm: 1.371951937675476\n",
      "visual.transformer.resblocks.17.ln_2.weight norm: 77.84754943847656\n",
      "visual.transformer.resblocks.17.ln_2.bias norm: 12.3207426071167\n",
      "visual.transformer.resblocks.17.mlp.c_fc.weight norm: 30.711721420288086\n",
      "visual.transformer.resblocks.17.mlp.c_fc.bias norm: 17.62626075744629\n",
      "visual.transformer.resblocks.17.mlp.c_proj.weight norm: 32.66929244995117\n",
      "visual.transformer.resblocks.17.mlp.c_proj.bias norm: 1.9425207376480103\n",
      "visual.transformer.resblocks.18.ln_1.weight norm: 48.85292053222656\n",
      "visual.transformer.resblocks.18.ln_1.bias norm: 5.305089473724365\n",
      "visual.transformer.resblocks.18.attn.in_proj_weight norm: 28.798879623413086\n",
      "visual.transformer.resblocks.18.attn.in_proj_bias norm: 36.3265495300293\n",
      "visual.transformer.resblocks.18.attn.out_proj.weight norm: 14.922161102294922\n",
      "visual.transformer.resblocks.18.attn.out_proj.bias norm: 1.3433667421340942\n",
      "visual.transformer.resblocks.18.ln_2.weight norm: 85.27828979492188\n",
      "visual.transformer.resblocks.18.ln_2.bias norm: 13.052431106567383\n",
      "visual.transformer.resblocks.18.mlp.c_fc.weight norm: 30.759885787963867\n",
      "visual.transformer.resblocks.18.mlp.c_fc.bias norm: 17.587282180786133\n",
      "visual.transformer.resblocks.18.mlp.c_proj.weight norm: 32.94742965698242\n",
      "visual.transformer.resblocks.18.mlp.c_proj.bias norm: 2.210947036743164\n",
      "visual.transformer.resblocks.19.ln_1.weight norm: 49.10882568359375\n",
      "visual.transformer.resblocks.19.ln_1.bias norm: 5.97845458984375\n",
      "visual.transformer.resblocks.19.attn.in_proj_weight norm: 29.071212768554688\n",
      "visual.transformer.resblocks.19.attn.in_proj_bias norm: 20.61051368713379\n",
      "visual.transformer.resblocks.19.attn.out_proj.weight norm: 15.201722145080566\n",
      "visual.transformer.resblocks.19.attn.out_proj.bias norm: 1.8189492225646973\n",
      "visual.transformer.resblocks.19.ln_2.weight norm: 89.2220687866211\n",
      "visual.transformer.resblocks.19.ln_2.bias norm: 11.083148956298828\n",
      "visual.transformer.resblocks.19.mlp.c_fc.weight norm: 31.032556533813477\n",
      "visual.transformer.resblocks.19.mlp.c_fc.bias norm: 17.890308380126953\n",
      "visual.transformer.resblocks.19.mlp.c_proj.weight norm: 33.57172775268555\n",
      "visual.transformer.resblocks.19.mlp.c_proj.bias norm: 2.114365339279175\n",
      "visual.transformer.resblocks.20.ln_1.weight norm: 50.39672088623047\n",
      "visual.transformer.resblocks.20.ln_1.bias norm: 6.922916889190674\n",
      "visual.transformer.resblocks.20.attn.in_proj_weight norm: 28.830366134643555\n",
      "visual.transformer.resblocks.20.attn.in_proj_bias norm: 26.197052001953125\n",
      "visual.transformer.resblocks.20.attn.out_proj.weight norm: 15.774913787841797\n",
      "visual.transformer.resblocks.20.attn.out_proj.bias norm: 2.367065191268921\n",
      "visual.transformer.resblocks.20.ln_2.weight norm: 101.0567855834961\n",
      "visual.transformer.resblocks.20.ln_2.bias norm: 10.948442459106445\n",
      "visual.transformer.resblocks.20.mlp.c_fc.weight norm: 31.606534957885742\n",
      "visual.transformer.resblocks.20.mlp.c_fc.bias norm: 17.93798828125\n",
      "visual.transformer.resblocks.20.mlp.c_proj.weight norm: 36.0960578918457\n",
      "visual.transformer.resblocks.20.mlp.c_proj.bias norm: 2.467040777206421\n",
      "visual.transformer.resblocks.21.ln_1.weight norm: 50.02408218383789\n",
      "visual.transformer.resblocks.21.ln_1.bias norm: 7.538011074066162\n",
      "visual.transformer.resblocks.21.attn.in_proj_weight norm: 29.148988723754883\n",
      "visual.transformer.resblocks.21.attn.in_proj_bias norm: 57.67101287841797\n",
      "visual.transformer.resblocks.21.attn.out_proj.weight norm: 16.172718048095703\n",
      "visual.transformer.resblocks.21.attn.out_proj.bias norm: 2.7637670040130615\n",
      "visual.transformer.resblocks.21.ln_2.weight norm: 96.56489562988281\n",
      "visual.transformer.resblocks.21.ln_2.bias norm: 11.981264114379883\n",
      "visual.transformer.resblocks.21.mlp.c_fc.weight norm: 31.901424407958984\n",
      "visual.transformer.resblocks.21.mlp.c_fc.bias norm: 18.461257934570312\n",
      "visual.transformer.resblocks.21.mlp.c_proj.weight norm: 37.01428985595703\n",
      "visual.transformer.resblocks.21.mlp.c_proj.bias norm: 2.8051722049713135\n",
      "visual.transformer.resblocks.22.ln_1.weight norm: 53.31977462768555\n",
      "visual.transformer.resblocks.22.ln_1.bias norm: 12.421880722045898\n",
      "visual.transformer.resblocks.22.attn.in_proj_weight norm: 39.97884750366211\n",
      "visual.transformer.resblocks.22.attn.in_proj_bias norm: 178.88648986816406\n",
      "visual.transformer.resblocks.22.attn.out_proj.weight norm: 15.429447174072266\n",
      "visual.transformer.resblocks.22.attn.out_proj.bias norm: 3.386183738708496\n",
      "visual.transformer.resblocks.22.ln_2.weight norm: 79.85762023925781\n",
      "visual.transformer.resblocks.22.ln_2.bias norm: 12.664437294006348\n",
      "visual.transformer.resblocks.22.mlp.c_fc.weight norm: 31.314098358154297\n",
      "visual.transformer.resblocks.22.mlp.c_fc.bias norm: 19.342973709106445\n",
      "visual.transformer.resblocks.22.mlp.c_proj.weight norm: 35.9650764465332\n",
      "visual.transformer.resblocks.22.mlp.c_proj.bias norm: 6.298226833343506\n",
      "visual.transformer.resblocks.23.ln_1.weight norm: 46.64555740356445\n",
      "visual.transformer.resblocks.23.ln_1.bias norm: 6.8445725440979\n",
      "visual.transformer.resblocks.23.attn.in_proj_weight norm: 28.303388595581055\n",
      "visual.transformer.resblocks.23.attn.in_proj_bias norm: 8.663172721862793\n",
      "visual.transformer.resblocks.23.attn.out_proj.weight norm: 18.294157028198242\n",
      "visual.transformer.resblocks.23.attn.out_proj.bias norm: 4.277795791625977\n",
      "visual.transformer.resblocks.23.ln_2.weight norm: 51.70710372924805\n",
      "visual.transformer.resblocks.23.ln_2.bias norm: 6.0322265625\n",
      "visual.transformer.resblocks.23.mlp.c_fc.weight norm: 31.654632568359375\n",
      "visual.transformer.resblocks.23.mlp.c_fc.bias norm: 19.27204704284668\n",
      "visual.transformer.resblocks.23.mlp.c_proj.weight norm: 30.333984375\n",
      "visual.transformer.resblocks.23.mlp.c_proj.bias norm: 3.6816046237945557\n",
      "visual.ln_post.weight norm: 32.20553207397461\n",
      "visual.ln_post.bias norm: 7.6549763679504395\n",
      "transformer.resblocks.0.ln_1.weight norm: 48.23323440551758\n",
      "transformer.resblocks.0.ln_1.bias norm: 6.487492084503174\n",
      "transformer.resblocks.0.attn.in_proj_weight norm: 25.31568145751953\n",
      "transformer.resblocks.0.attn.in_proj_bias norm: 10.052103042602539\n",
      "transformer.resblocks.0.attn.out_proj.weight norm: 9.7584228515625\n",
      "transformer.resblocks.0.attn.out_proj.bias norm: 2.1496410369873047\n",
      "transformer.resblocks.0.ln_2.weight norm: 46.30031204223633\n",
      "transformer.resblocks.0.ln_2.bias norm: 11.89057731628418\n",
      "transformer.resblocks.0.mlp.c_fc.weight norm: 26.1268253326416\n",
      "transformer.resblocks.0.mlp.c_fc.bias norm: 20.5567684173584\n",
      "transformer.resblocks.0.mlp.c_proj.weight norm: 18.84624481201172\n",
      "transformer.resblocks.0.mlp.c_proj.bias norm: 2.4048094749450684\n",
      "transformer.resblocks.1.ln_1.weight norm: 31.20911979675293\n",
      "transformer.resblocks.1.ln_1.bias norm: 4.714117527008057\n",
      "transformer.resblocks.1.attn.in_proj_weight norm: 25.374189376831055\n",
      "transformer.resblocks.1.attn.in_proj_bias norm: 12.573801040649414\n",
      "transformer.resblocks.1.attn.out_proj.weight norm: 9.551695823669434\n",
      "transformer.resblocks.1.attn.out_proj.bias norm: 1.0124244689941406\n",
      "transformer.resblocks.1.ln_2.weight norm: 52.48035430908203\n",
      "transformer.resblocks.1.ln_2.bias norm: 14.386946678161621\n",
      "transformer.resblocks.1.mlp.c_fc.weight norm: 25.452096939086914\n",
      "transformer.resblocks.1.mlp.c_fc.bias norm: 17.421449661254883\n",
      "transformer.resblocks.1.mlp.c_proj.weight norm: 19.617820739746094\n",
      "transformer.resblocks.1.mlp.c_proj.bias norm: 1.6287388801574707\n",
      "transformer.resblocks.2.ln_1.weight norm: 37.02851867675781\n",
      "transformer.resblocks.2.ln_1.bias norm: 7.309730052947998\n",
      "transformer.resblocks.2.attn.in_proj_weight norm: 24.4049015045166\n",
      "transformer.resblocks.2.attn.in_proj_bias norm: 10.607417106628418\n",
      "transformer.resblocks.2.attn.out_proj.weight norm: 10.491559982299805\n",
      "transformer.resblocks.2.attn.out_proj.bias norm: 1.1078767776489258\n",
      "transformer.resblocks.2.ln_2.weight norm: 55.71249771118164\n",
      "transformer.resblocks.2.ln_2.bias norm: 13.692480087280273\n",
      "transformer.resblocks.2.mlp.c_fc.weight norm: 25.36627960205078\n",
      "transformer.resblocks.2.mlp.c_fc.bias norm: 17.371397018432617\n",
      "transformer.resblocks.2.mlp.c_proj.weight norm: 20.14874839782715\n",
      "transformer.resblocks.2.mlp.c_proj.bias norm: 1.5081334114074707\n",
      "transformer.resblocks.3.ln_1.weight norm: 37.29906463623047\n",
      "transformer.resblocks.3.ln_1.bias norm: 7.101716041564941\n",
      "transformer.resblocks.3.attn.in_proj_weight norm: 24.500667572021484\n",
      "transformer.resblocks.3.attn.in_proj_bias norm: 9.969091415405273\n",
      "transformer.resblocks.3.attn.out_proj.weight norm: 10.468145370483398\n",
      "transformer.resblocks.3.attn.out_proj.bias norm: 0.8911875486373901\n",
      "transformer.resblocks.3.ln_2.weight norm: 57.620269775390625\n",
      "transformer.resblocks.3.ln_2.bias norm: 13.916260719299316\n",
      "transformer.resblocks.3.mlp.c_fc.weight norm: 25.274356842041016\n",
      "transformer.resblocks.3.mlp.c_fc.bias norm: 17.09723663330078\n",
      "transformer.resblocks.3.mlp.c_proj.weight norm: 20.51967430114746\n",
      "transformer.resblocks.3.mlp.c_proj.bias norm: 1.5442782640457153\n",
      "transformer.resblocks.4.ln_1.weight norm: 39.916358947753906\n",
      "transformer.resblocks.4.ln_1.bias norm: 6.772028923034668\n",
      "transformer.resblocks.4.attn.in_proj_weight norm: 24.01230812072754\n",
      "transformer.resblocks.4.attn.in_proj_bias norm: 10.050741195678711\n",
      "transformer.resblocks.4.attn.out_proj.weight norm: 10.835052490234375\n",
      "transformer.resblocks.4.attn.out_proj.bias norm: 0.8907585144042969\n",
      "transformer.resblocks.4.ln_2.weight norm: 58.98666763305664\n",
      "transformer.resblocks.4.ln_2.bias norm: 14.629817008972168\n",
      "transformer.resblocks.4.mlp.c_fc.weight norm: 25.087203979492188\n",
      "transformer.resblocks.4.mlp.c_fc.bias norm: 17.319917678833008\n",
      "transformer.resblocks.4.mlp.c_proj.weight norm: 21.12583351135254\n",
      "transformer.resblocks.4.mlp.c_proj.bias norm: 1.4901920557022095\n",
      "transformer.resblocks.5.ln_1.weight norm: 41.546939849853516\n",
      "transformer.resblocks.5.ln_1.bias norm: 6.88997220993042\n",
      "transformer.resblocks.5.attn.in_proj_weight norm: 23.686521530151367\n",
      "transformer.resblocks.5.attn.in_proj_bias norm: 9.883766174316406\n",
      "transformer.resblocks.5.attn.out_proj.weight norm: 10.938239097595215\n",
      "transformer.resblocks.5.attn.out_proj.bias norm: 0.8925686478614807\n",
      "transformer.resblocks.5.ln_2.weight norm: 58.95792770385742\n",
      "transformer.resblocks.5.ln_2.bias norm: 14.04976749420166\n",
      "transformer.resblocks.5.mlp.c_fc.weight norm: 25.04279327392578\n",
      "transformer.resblocks.5.mlp.c_fc.bias norm: 17.291414260864258\n",
      "transformer.resblocks.5.mlp.c_proj.weight norm: 21.72531509399414\n",
      "transformer.resblocks.5.mlp.c_proj.bias norm: 1.5384501218795776\n",
      "transformer.resblocks.6.ln_1.weight norm: 44.03043746948242\n",
      "transformer.resblocks.6.ln_1.bias norm: 7.139475345611572\n",
      "transformer.resblocks.6.attn.in_proj_weight norm: 23.417329788208008\n",
      "transformer.resblocks.6.attn.in_proj_bias norm: 10.32133960723877\n",
      "transformer.resblocks.6.attn.out_proj.weight norm: 11.119423866271973\n",
      "transformer.resblocks.6.attn.out_proj.bias norm: 1.113033413887024\n",
      "transformer.resblocks.6.ln_2.weight norm: 60.38026809692383\n",
      "transformer.resblocks.6.ln_2.bias norm: 14.309654235839844\n",
      "transformer.resblocks.6.mlp.c_fc.weight norm: 24.851621627807617\n",
      "transformer.resblocks.6.mlp.c_fc.bias norm: 17.307729721069336\n",
      "transformer.resblocks.6.mlp.c_proj.weight norm: 23.021390914916992\n",
      "transformer.resblocks.6.mlp.c_proj.bias norm: 1.6239269971847534\n",
      "transformer.resblocks.7.ln_1.weight norm: 44.2908821105957\n",
      "transformer.resblocks.7.ln_1.bias norm: 6.823606967926025\n",
      "transformer.resblocks.7.attn.in_proj_weight norm: 23.38243865966797\n",
      "transformer.resblocks.7.attn.in_proj_bias norm: 10.4410982131958\n",
      "transformer.resblocks.7.attn.out_proj.weight norm: 11.35149097442627\n",
      "transformer.resblocks.7.attn.out_proj.bias norm: 1.100996732711792\n",
      "transformer.resblocks.7.ln_2.weight norm: 62.28268814086914\n",
      "transformer.resblocks.7.ln_2.bias norm: 12.409381866455078\n",
      "transformer.resblocks.7.mlp.c_fc.weight norm: 24.660541534423828\n",
      "transformer.resblocks.7.mlp.c_fc.bias norm: 17.184707641601562\n",
      "transformer.resblocks.7.mlp.c_proj.weight norm: 23.80385971069336\n",
      "transformer.resblocks.7.mlp.c_proj.bias norm: 1.6553961038589478\n",
      "transformer.resblocks.8.ln_1.weight norm: 48.477745056152344\n",
      "transformer.resblocks.8.ln_1.bias norm: 8.063379287719727\n",
      "transformer.resblocks.8.attn.in_proj_weight norm: 23.144563674926758\n",
      "transformer.resblocks.8.attn.in_proj_bias norm: 9.833728790283203\n",
      "transformer.resblocks.8.attn.out_proj.weight norm: 11.71756649017334\n",
      "transformer.resblocks.8.attn.out_proj.bias norm: 1.5300424098968506\n",
      "transformer.resblocks.8.ln_2.weight norm: 63.996768951416016\n",
      "transformer.resblocks.8.ln_2.bias norm: 11.714378356933594\n",
      "transformer.resblocks.8.mlp.c_fc.weight norm: 24.54339027404785\n",
      "transformer.resblocks.8.mlp.c_fc.bias norm: 17.41006851196289\n",
      "transformer.resblocks.8.mlp.c_proj.weight norm: 24.719154357910156\n",
      "transformer.resblocks.8.mlp.c_proj.bias norm: 1.9036481380462646\n",
      "transformer.resblocks.9.ln_1.weight norm: 47.42156982421875\n",
      "transformer.resblocks.9.ln_1.bias norm: 7.029470920562744\n",
      "transformer.resblocks.9.attn.in_proj_weight norm: 22.861127853393555\n",
      "transformer.resblocks.9.attn.in_proj_bias norm: 10.54754638671875\n",
      "transformer.resblocks.9.attn.out_proj.weight norm: 11.896199226379395\n",
      "transformer.resblocks.9.attn.out_proj.bias norm: 2.1859169006347656\n",
      "transformer.resblocks.9.ln_2.weight norm: 67.09716796875\n",
      "transformer.resblocks.9.ln_2.bias norm: 10.61978530883789\n",
      "transformer.resblocks.9.mlp.c_fc.weight norm: 24.455961227416992\n",
      "transformer.resblocks.9.mlp.c_fc.bias norm: 16.998361587524414\n",
      "transformer.resblocks.9.mlp.c_proj.weight norm: 25.792116165161133\n",
      "transformer.resblocks.9.mlp.c_proj.bias norm: 2.532953977584839\n",
      "transformer.resblocks.10.ln_1.weight norm: 48.9234733581543\n",
      "transformer.resblocks.10.ln_1.bias norm: 5.942650318145752\n",
      "transformer.resblocks.10.attn.in_proj_weight norm: 22.533143997192383\n",
      "transformer.resblocks.10.attn.in_proj_bias norm: 10.329341888427734\n",
      "transformer.resblocks.10.attn.out_proj.weight norm: 12.913084983825684\n",
      "transformer.resblocks.10.attn.out_proj.bias norm: 3.3537888526916504\n",
      "transformer.resblocks.10.ln_2.weight norm: 65.28447723388672\n",
      "transformer.resblocks.10.ln_2.bias norm: 5.865417957305908\n",
      "transformer.resblocks.10.mlp.c_fc.weight norm: 24.611610412597656\n",
      "transformer.resblocks.10.mlp.c_fc.bias norm: 16.153093338012695\n",
      "transformer.resblocks.10.mlp.c_proj.weight norm: 25.921674728393555\n",
      "transformer.resblocks.10.mlp.c_proj.bias norm: 2.361626625061035\n",
      "transformer.resblocks.11.ln_1.weight norm: 52.20705032348633\n",
      "transformer.resblocks.11.ln_1.bias norm: 5.2628936767578125\n",
      "transformer.resblocks.11.attn.in_proj_weight norm: 22.79184341430664\n",
      "transformer.resblocks.11.attn.in_proj_bias norm: 8.058107376098633\n",
      "transformer.resblocks.11.attn.out_proj.weight norm: 14.671961784362793\n",
      "transformer.resblocks.11.attn.out_proj.bias norm: 5.717508316040039\n",
      "transformer.resblocks.11.ln_2.weight norm: 48.804264068603516\n",
      "transformer.resblocks.11.ln_2.bias norm: 4.60460090637207\n",
      "transformer.resblocks.11.mlp.c_fc.weight norm: 24.89081573486328\n",
      "transformer.resblocks.11.mlp.c_fc.bias norm: 16.412071228027344\n",
      "transformer.resblocks.11.mlp.c_proj.weight norm: 25.19438362121582\n",
      "transformer.resblocks.11.mlp.c_proj.bias norm: 4.40059757232666\n",
      "token_embedding.weight norm: 85.4888916015625\n",
      "ln_final.weight norm: 27.67142105102539\n",
      "ln_final.bias norm: 4.976181983947754\n"
     ]
    }
   ],
   "source": [
    "\n",
    "for name, param in model.named_parameters():\n",
    "    print(f\"{name} norm: {param.norm().item()}\")"
   ]
  },
  {
   "cell_type": "code",
   "execution_count": 7,
   "id": "b7667493",
   "metadata": {
    "execution": {
     "iopub.execute_input": "2025-06-08T19:01:46.471617Z",
     "iopub.status.busy": "2025-06-08T19:01:46.471290Z",
     "iopub.status.idle": "2025-06-08T19:01:46.475195Z",
     "shell.execute_reply": "2025-06-08T19:01:46.474596Z"
    },
    "papermill": {
     "duration": 0.086017,
     "end_time": "2025-06-08T19:01:46.476261",
     "exception": false,
     "start_time": "2025-06-08T19:01:46.390244",
     "status": "completed"
    },
    "tags": []
   },
   "outputs": [],
   "source": [
    "json_path=\"/kaggle/input/data-info1/output.json\"\n",
    "image_path=\"/kaggle/input/images/images/\""
   ]
  },
  {
   "cell_type": "code",
   "execution_count": 8,
   "id": "849cd6b2",
   "metadata": {
    "execution": {
     "iopub.execute_input": "2025-06-08T19:01:46.528794Z",
     "iopub.status.busy": "2025-06-08T19:01:46.528248Z",
     "iopub.status.idle": "2025-06-08T19:01:52.539974Z",
     "shell.execute_reply": "2025-06-08T19:01:52.539119Z"
    },
    "papermill": {
     "duration": 6.039593,
     "end_time": "2025-06-08T19:01:52.541498",
     "exception": false,
     "start_time": "2025-06-08T19:01:46.501905",
     "status": "completed"
    },
    "tags": []
   },
   "outputs": [],
   "source": [
    "with open(json_path,\"r\",encoding=\"utf-8\") as f:\n",
    "    data=json.load(f)\n",
    "\n",
    "image_list = []\n",
    "title_list = []\n",
    "\n",
    "for i in data:\n",
    "    image_list.append(image_path + i['image'])\n",
    "    title_list.append(i['caption'])\n",
    "class MyDataset(Dataset):\n",
    "    def __init__(self, list_image_path, list_txt):\n",
    "        self.image_path = list_image_path\n",
    "        self.title = tokenize(list_txt)\n",
    "    def __len__(self):\n",
    "        return len(self.image_path)\n",
    "    def __getitem__(self, idx):\n",
    "        image = preprocess(Image.open(self.image_path[idx]).convert('RGB'))\n",
    "        title = self.title[idx]\n",
    "        return image, title\n",
    "\n",
    "\n",
    "dataset=MyDataset(image_list,title_list)\n",
    "dataloader=DataLoader(dataset, batch_size=4, shuffle=False)"
   ]
  },
  {
   "cell_type": "code",
   "execution_count": 9,
   "id": "aee734dc",
   "metadata": {
    "execution": {
     "iopub.execute_input": "2025-06-08T19:01:52.594174Z",
     "iopub.status.busy": "2025-06-08T19:01:52.593546Z",
     "iopub.status.idle": "2025-06-08T19:01:52.605112Z",
     "shell.execute_reply": "2025-06-08T19:01:52.604500Z"
    },
    "papermill": {
     "duration": 0.038675,
     "end_time": "2025-06-08T19:01:52.606266",
     "exception": false,
     "start_time": "2025-06-08T19:01:52.567591",
     "status": "completed"
    },
    "tags": []
   },
   "outputs": [],
   "source": [
    "\n",
    "class CrossAttention(nn.Module):\n",
    "    def __init__(self, embed_dim, num_heads, dropout=0.0):\n",
    "        super().__init__()\n",
    "        self.multihead_attn = nn.MultiheadAttention(embed_dim, num_heads, dropout=dropout)\n",
    "        self.norm1 = nn.LayerNorm(embed_dim)\n",
    "        self.norm2 = nn.LayerNorm(embed_dim)\n",
    "        self.dropout = nn.Dropout(dropout)\n",
    "        self.mlp = nn.Sequential(\n",
    "            nn.Linear(embed_dim, 4 * embed_dim),\n",
    "            nn.GELU(),\n",
    "            nn.Dropout(dropout),\n",
    "            nn.Linear(4 * embed_dim, embed_dim),\n",
    "            nn.Dropout(dropout)\n",
    "        )\n",
    "        \n",
    "    def forward(self, q, k, v):\n",
    "        attn_output, _ = self.multihead_attn(\n",
    "            q.transpose(0, 1),\n",
    "            k.transpose(0, 1),\n",
    "            v.transpose(0, 1)\n",
    "        )\n",
    "        attn_output = attn_output.transpose(0, 1)\n",
    "        q = q + self.dropout(attn_output)\n",
    "        q = self.norm1(q)\n",
    "        \n",
    "        q2 = self.mlp(q)\n",
    "        q = q + self.dropout(q2)\n",
    "        q = self.norm2(q)\n",
    "        \n",
    "        return q\n",
    "\n",
    "class CLIPCrossAttentionWrapper(nn.Module):\n",
    "    def __init__(self, clip_model, embed_dim=768, num_heads=8, dropout=0.1):\n",
    "        super().__init__()\n",
    "        self.clip_model = clip_model\n",
    "        self.clip_embed_dim = embed_dim  \n",
    "        \n",
    "        self.img_to_text_attn = CrossAttention(embed_dim, num_heads, dropout)\n",
    "        \n",
    "        self.text_to_img_attn = CrossAttention(embed_dim, num_heads, dropout)\n",
    "        \n",
    "        self.img_proj = nn.Linear(self.clip_model.visual.output_dim, embed_dim)\n",
    "        self.text_proj = nn.Linear(self.clip_model.transformer.resblocks[-1].attn.out_proj.out_features, embed_dim)\n",
    "        \n",
    "        self.final_img_proj = nn.Linear(embed_dim, self.clip_model.visual.output_dim)\n",
    "        self.final_text_proj = nn.Linear(embed_dim, self.clip_model.transformer.resblocks[-1].attn.out_proj.out_features)\n",
    "        \n",
    "        self.logit_scale = self.clip_model.logit_scale\n",
    "        \n",
    "    def forward(self, images, texts):\n",
    "        image_features = self.clip_model.encode_image(images)\n",
    "        text_features = self.clip_model.encode_text(texts)\n",
    "        \n",
    "        img_features_proj = self.img_proj(image_features.unsqueeze(1))  \n",
    "        text_features_proj = self.text_proj(text_features.unsqueeze(1))  \n",
    "        \n",
    "        img_attended = self.img_to_text_attn(img_features_proj, text_features_proj, text_features_proj)\n",
    "        text_attended = self.text_to_img_attn(text_features_proj, img_features_proj, img_features_proj)\n",
    "        \n",
    "        img_features_final = self.final_img_proj(img_attended.squeeze(1))\n",
    "        text_features_final = self.final_text_proj(text_attended.squeeze(1))\n",
    "        \n",
    "\n",
    "        image_features = F.normalize(img_features_final, dim=-1)\n",
    "        text_features = F.normalize(text_features_final, dim=-1)\n",
    "        \n",
    "        return image_features, text_features, self.logit_scale\n",
    "\n",
    "def clip_loss(logits_per_image, logits_per_text):\n",
    "    ground_truth = torch.arange(len(logits_per_image), dtype=torch.long, device=device)\n",
    "    loss_i = F.cross_entropy(logits_per_image, ground_truth)\n",
    "    loss_t = F.cross_entropy(logits_per_text, ground_truth)\n",
    "    return (loss_i + loss_t) / 2"
   ]
  },
  {
   "cell_type": "code",
   "execution_count": 10,
   "id": "0a88e57e",
   "metadata": {
    "execution": {
     "iopub.execute_input": "2025-06-08T19:01:52.656720Z",
     "iopub.status.busy": "2025-06-08T19:01:52.656393Z",
     "iopub.status.idle": "2025-06-08T19:01:52.794219Z",
     "shell.execute_reply": "2025-06-08T19:01:52.793502Z"
    },
    "papermill": {
     "duration": 0.16431,
     "end_time": "2025-06-08T19:01:52.795609",
     "exception": false,
     "start_time": "2025-06-08T19:01:52.631299",
     "status": "completed"
    },
    "tags": []
   },
   "outputs": [
    {
     "data": {
      "text/plain": [
       "CLIPCrossAttentionWrapper(\n",
       "  (clip_model): CLIP(\n",
       "    (visual): VisionTransformer(\n",
       "      (conv1): Conv2d(3, 1024, kernel_size=(14, 14), stride=(14, 14), bias=False)\n",
       "      (patch_dropout): Identity()\n",
       "      (ln_pre): LayerNorm((1024,), eps=1e-05, elementwise_affine=True)\n",
       "      (transformer): Transformer(\n",
       "        (resblocks): ModuleList(\n",
       "          (0-23): 24 x ResidualAttentionBlock(\n",
       "            (ln_1): LayerNorm((1024,), eps=1e-05, elementwise_affine=True)\n",
       "            (attn): MultiheadAttention(\n",
       "              (out_proj): NonDynamicallyQuantizableLinear(in_features=1024, out_features=1024, bias=True)\n",
       "            )\n",
       "            (ls_1): Identity()\n",
       "            (ln_2): LayerNorm((1024,), eps=1e-05, elementwise_affine=True)\n",
       "            (mlp): Sequential(\n",
       "              (c_fc): Linear(in_features=1024, out_features=4096, bias=True)\n",
       "              (gelu): GELU(approximate='none')\n",
       "              (c_proj): Linear(in_features=4096, out_features=1024, bias=True)\n",
       "            )\n",
       "            (ls_2): Identity()\n",
       "          )\n",
       "        )\n",
       "      )\n",
       "      (ln_post): LayerNorm((1024,), eps=1e-05, elementwise_affine=True)\n",
       "    )\n",
       "    (transformer): Transformer(\n",
       "      (resblocks): ModuleList(\n",
       "        (0-11): 12 x ResidualAttentionBlock(\n",
       "          (ln_1): LayerNorm((768,), eps=1e-05, elementwise_affine=True)\n",
       "          (attn): MultiheadAttention(\n",
       "            (out_proj): NonDynamicallyQuantizableLinear(in_features=768, out_features=768, bias=True)\n",
       "          )\n",
       "          (ls_1): Identity()\n",
       "          (ln_2): LayerNorm((768,), eps=1e-05, elementwise_affine=True)\n",
       "          (mlp): Sequential(\n",
       "            (c_fc): Linear(in_features=768, out_features=3072, bias=True)\n",
       "            (gelu): GELU(approximate='none')\n",
       "            (c_proj): Linear(in_features=3072, out_features=768, bias=True)\n",
       "          )\n",
       "          (ls_2): Identity()\n",
       "        )\n",
       "      )\n",
       "    )\n",
       "    (token_embedding): Embedding(49408, 768)\n",
       "    (ln_final): LayerNorm((768,), eps=1e-05, elementwise_affine=True)\n",
       "  )\n",
       "  (img_to_text_attn): CrossAttention(\n",
       "    (multihead_attn): MultiheadAttention(\n",
       "      (out_proj): NonDynamicallyQuantizableLinear(in_features=768, out_features=768, bias=True)\n",
       "    )\n",
       "    (norm1): LayerNorm((768,), eps=1e-05, elementwise_affine=True)\n",
       "    (norm2): LayerNorm((768,), eps=1e-05, elementwise_affine=True)\n",
       "    (dropout): Dropout(p=0.1, inplace=False)\n",
       "    (mlp): Sequential(\n",
       "      (0): Linear(in_features=768, out_features=3072, bias=True)\n",
       "      (1): GELU(approximate='none')\n",
       "      (2): Dropout(p=0.1, inplace=False)\n",
       "      (3): Linear(in_features=3072, out_features=768, bias=True)\n",
       "      (4): Dropout(p=0.1, inplace=False)\n",
       "    )\n",
       "  )\n",
       "  (text_to_img_attn): CrossAttention(\n",
       "    (multihead_attn): MultiheadAttention(\n",
       "      (out_proj): NonDynamicallyQuantizableLinear(in_features=768, out_features=768, bias=True)\n",
       "    )\n",
       "    (norm1): LayerNorm((768,), eps=1e-05, elementwise_affine=True)\n",
       "    (norm2): LayerNorm((768,), eps=1e-05, elementwise_affine=True)\n",
       "    (dropout): Dropout(p=0.1, inplace=False)\n",
       "    (mlp): Sequential(\n",
       "      (0): Linear(in_features=768, out_features=3072, bias=True)\n",
       "      (1): GELU(approximate='none')\n",
       "      (2): Dropout(p=0.1, inplace=False)\n",
       "      (3): Linear(in_features=3072, out_features=768, bias=True)\n",
       "      (4): Dropout(p=0.1, inplace=False)\n",
       "    )\n",
       "  )\n",
       "  (img_proj): Linear(in_features=768, out_features=768, bias=True)\n",
       "  (text_proj): Linear(in_features=768, out_features=768, bias=True)\n",
       "  (final_img_proj): Linear(in_features=768, out_features=768, bias=True)\n",
       "  (final_text_proj): Linear(in_features=768, out_features=768, bias=True)\n",
       ")"
      ]
     },
     "execution_count": 10,
     "metadata": {},
     "output_type": "execute_result"
    }
   ],
   "source": [
    "clip_model = CLIPCrossAttentionWrapper(model).to(device)\n",
    "clip_model"
   ]
  },
  {
   "cell_type": "code",
   "execution_count": 11,
   "id": "271465af",
   "metadata": {
    "execution": {
     "iopub.execute_input": "2025-06-08T19:01:52.846797Z",
     "iopub.status.busy": "2025-06-08T19:01:52.846517Z",
     "iopub.status.idle": "2025-06-08T19:01:52.851178Z",
     "shell.execute_reply": "2025-06-08T19:01:52.850593Z"
    },
    "papermill": {
     "duration": 0.031738,
     "end_time": "2025-06-08T19:01:52.852363",
     "exception": false,
     "start_time": "2025-06-08T19:01:52.820625",
     "status": "completed"
    },
    "tags": []
   },
   "outputs": [],
   "source": [
    "\n",
    "optimizer = torch.optim.AdamW([\n",
    "    {'params':clip_model.img_to_text_attn.parameters()},\n",
    "    {'params':clip_model.text_to_img_attn.parameters()},\n",
    "    {'params':clip_model.img_proj.parameters()},\n",
    "    {'params':clip_model.text_proj.parameters()},\n",
    "    {'params':clip_model.final_img_proj.parameters()},\n",
    "    {'params':clip_model.final_text_proj.parameters()}\n",
    "], lr=1e-6)"
   ]
  },
  {
   "cell_type": "code",
   "execution_count": 12,
   "id": "3bc92c1f",
   "metadata": {
    "execution": {
     "iopub.execute_input": "2025-06-08T19:01:52.903814Z",
     "iopub.status.busy": "2025-06-08T19:01:52.903181Z",
     "iopub.status.idle": "2025-06-08T22:47:37.068095Z",
     "shell.execute_reply": "2025-06-08T22:47:37.067094Z"
    },
    "papermill": {
     "duration": 13544.192511,
     "end_time": "2025-06-08T22:47:37.069606",
     "exception": false,
     "start_time": "2025-06-08T19:01:52.877095",
     "status": "completed"
    },
    "tags": []
   },
   "outputs": [
    {
     "name": "stderr",
     "output_type": "stream",
     "text": [
      "  0%|          | 1/16359 [00:01<7:52:48,  1.73s/it]"
     ]
    },
    {
     "name": "stdout",
     "output_type": "stream",
     "text": [
      "New best loss: 1.3757402896881104 (previous: inf)\n"
     ]
    },
    {
     "name": "stderr",
     "output_type": "stream",
     "text": [
      "  0%|          | 4/16359 [00:03<3:22:31,  1.35it/s]"
     ]
    },
    {
     "name": "stdout",
     "output_type": "stream",
     "text": [
      "New best loss: 1.3747957944869995 (previous: 1.3757402896881104)\n"
     ]
    },
    {
     "name": "stderr",
     "output_type": "stream",
     "text": [
      "  0%|          | 6/16359 [00:04<2:58:01,  1.53it/s]"
     ]
    },
    {
     "name": "stdout",
     "output_type": "stream",
     "text": [
      "New best loss: 1.3680009841918945 (previous: 1.3747957944869995)\n"
     ]
    },
    {
     "name": "stderr",
     "output_type": "stream",
     "text": [
      "  0%|          | 27/16359 [00:17<2:42:04,  1.68it/s]"
     ]
    },
    {
     "name": "stdout",
     "output_type": "stream",
     "text": [
      "New best loss: 1.3469129800796509 (previous: 1.3680009841918945)\n"
     ]
    },
    {
     "name": "stderr",
     "output_type": "stream",
     "text": [
      "  0%|          | 43/16359 [00:26<2:44:37,  1.65it/s]"
     ]
    },
    {
     "name": "stdout",
     "output_type": "stream",
     "text": [
      "New best loss: 1.3447465896606445 (previous: 1.3469129800796509)\n"
     ]
    },
    {
     "name": "stderr",
     "output_type": "stream",
     "text": [
      "  0%|          | 68/16359 [00:42<2:52:29,  1.57it/s]"
     ]
    },
    {
     "name": "stdout",
     "output_type": "stream",
     "text": [
      "New best loss: 1.343186855316162 (previous: 1.3447465896606445)\n"
     ]
    },
    {
     "name": "stderr",
     "output_type": "stream",
     "text": [
      "  1%|          | 99/16359 [01:02<2:58:47,  1.52it/s]"
     ]
    },
    {
     "name": "stdout",
     "output_type": "stream",
     "text": [
      "Step 100, total_loss: 1.3786380290985107\n"
     ]
    },
    {
     "name": "stderr",
     "output_type": "stream",
     "text": [
      "  1%|          | 158/16359 [01:46<3:12:17,  1.40it/s]"
     ]
    },
    {
     "name": "stdout",
     "output_type": "stream",
     "text": [
      "New best loss: 1.314701795578003 (previous: 1.343186855316162)\n"
     ]
    },
    {
     "name": "stderr",
     "output_type": "stream",
     "text": [
      "  1%|          | 199/16359 [02:16<3:29:06,  1.29it/s]"
     ]
    },
    {
     "name": "stdout",
     "output_type": "stream",
     "text": [
      "Step 200, total_loss: 1.383666753768921\n"
     ]
    },
    {
     "name": "stderr",
     "output_type": "stream",
     "text": [
      "  1%|▏         | 218/16359 [02:37<3:33:31,  1.26it/s]"
     ]
    },
    {
     "name": "stdout",
     "output_type": "stream",
     "text": [
      "New best loss: 1.300710916519165 (previous: 1.314701795578003)\n"
     ]
    },
    {
     "name": "stderr",
     "output_type": "stream",
     "text": [
      "  2%|▏         | 299/16359 [03:39<3:21:17,  1.33it/s]"
     ]
    },
    {
     "name": "stdout",
     "output_type": "stream",
     "text": [
      "Step 300, total_loss: 1.3797162771224976\n"
     ]
    },
    {
     "name": "stderr",
     "output_type": "stream",
     "text": [
      "  2%|▏         | 399/16359 [05:01<3:18:09,  1.34it/s]"
     ]
    },
    {
     "name": "stdout",
     "output_type": "stream",
     "text": [
      "Step 400, total_loss: 1.3965859413146973\n"
     ]
    },
    {
     "name": "stderr",
     "output_type": "stream",
     "text": [
      "  3%|▎         | 499/16359 [06:25<3:17:58,  1.34it/s]"
     ]
    },
    {
     "name": "stdout",
     "output_type": "stream",
     "text": [
      "Step 500, total_loss: 1.3923895359039307\n"
     ]
    },
    {
     "name": "stderr",
     "output_type": "stream",
     "text": [
      "  4%|▎         | 598/16359 [07:46<3:18:15,  1.32it/s]"
     ]
    },
    {
     "name": "stdout",
     "output_type": "stream",
     "text": [
      "New best loss: 1.2680070400238037 (previous: 1.300710916519165)\n"
     ]
    },
    {
     "name": "stderr",
     "output_type": "stream",
     "text": [
      "  4%|▎         | 599/16359 [07:47<3:17:34,  1.33it/s]"
     ]
    },
    {
     "name": "stdout",
     "output_type": "stream",
     "text": [
      "Step 600, total_loss: 1.3924286365509033\n"
     ]
    },
    {
     "name": "stderr",
     "output_type": "stream",
     "text": [
      "  4%|▍         | 699/16359 [09:09<3:18:34,  1.31it/s]"
     ]
    },
    {
     "name": "stdout",
     "output_type": "stream",
     "text": [
      "Step 700, total_loss: 1.3853884935379028\n"
     ]
    },
    {
     "name": "stderr",
     "output_type": "stream",
     "text": [
      "  5%|▍         | 799/16359 [10:32<3:23:03,  1.28it/s]"
     ]
    },
    {
     "name": "stdout",
     "output_type": "stream",
     "text": [
      "Step 800, total_loss: 1.378734827041626\n"
     ]
    },
    {
     "name": "stderr",
     "output_type": "stream",
     "text": [
      "  5%|▌         | 899/16359 [11:55<3:14:08,  1.33it/s]"
     ]
    },
    {
     "name": "stdout",
     "output_type": "stream",
     "text": [
      "Step 900, total_loss: 1.3760240077972412\n"
     ]
    },
    {
     "name": "stderr",
     "output_type": "stream",
     "text": [
      "  6%|▌         | 999/16359 [13:18<3:12:17,  1.33it/s]"
     ]
    },
    {
     "name": "stdout",
     "output_type": "stream",
     "text": [
      "Step 1000, total_loss: 1.3928844928741455\n"
     ]
    },
    {
     "name": "stderr",
     "output_type": "stream",
     "text": [
      "  6%|▌         | 1013/16359 [13:33<3:14:12,  1.32it/s]"
     ]
    },
    {
     "name": "stdout",
     "output_type": "stream",
     "text": [
      "New best loss: 1.2360457181930542 (previous: 1.2680070400238037)\n"
     ]
    },
    {
     "name": "stderr",
     "output_type": "stream",
     "text": [
      "  7%|▋         | 1099/16359 [14:40<3:12:25,  1.32it/s]"
     ]
    },
    {
     "name": "stdout",
     "output_type": "stream",
     "text": [
      "Step 1100, total_loss: 1.3813016414642334\n"
     ]
    },
    {
     "name": "stderr",
     "output_type": "stream",
     "text": [
      "  7%|▋         | 1113/16359 [14:56<3:11:08,  1.33it/s]"
     ]
    },
    {
     "name": "stdout",
     "output_type": "stream",
     "text": [
      "New best loss: 1.2029707431793213 (previous: 1.2360457181930542)\n"
     ]
    },
    {
     "name": "stderr",
     "output_type": "stream",
     "text": [
      "  7%|▋         | 1199/16359 [16:03<3:08:37,  1.34it/s]"
     ]
    },
    {
     "name": "stdout",
     "output_type": "stream",
     "text": [
      "Step 1200, total_loss: 1.3618552684783936\n"
     ]
    },
    {
     "name": "stderr",
     "output_type": "stream",
     "text": [
      "  8%|▊         | 1299/16359 [17:25<3:10:27,  1.32it/s]"
     ]
    },
    {
     "name": "stdout",
     "output_type": "stream",
     "text": [
      "Step 1300, total_loss: 1.3702573776245117\n"
     ]
    },
    {
     "name": "stderr",
     "output_type": "stream",
     "text": [
      "  9%|▊         | 1399/16359 [18:47<3:14:35,  1.28it/s]"
     ]
    },
    {
     "name": "stdout",
     "output_type": "stream",
     "text": [
      "Step 1400, total_loss: 1.3506860733032227\n"
     ]
    },
    {
     "name": "stderr",
     "output_type": "stream",
     "text": [
      "  9%|▉         | 1483/16359 [19:57<3:12:03,  1.29it/s]"
     ]
    },
    {
     "name": "stdout",
     "output_type": "stream",
     "text": [
      "New best loss: 1.186737298965454 (previous: 1.2029707431793213)\n"
     ]
    },
    {
     "name": "stderr",
     "output_type": "stream",
     "text": [
      "  9%|▉         | 1499/16359 [20:09<3:09:31,  1.31it/s]"
     ]
    },
    {
     "name": "stdout",
     "output_type": "stream",
     "text": [
      "Step 1500, total_loss: 1.3775677680969238\n"
     ]
    },
    {
     "name": "stderr",
     "output_type": "stream",
     "text": [
      "  9%|▉         | 1503/16359 [20:17<5:02:11,  1.22s/it]"
     ]
    },
    {
     "name": "stdout",
     "output_type": "stream",
     "text": [
      "New best loss: 1.1835392713546753 (previous: 1.186737298965454)\n"
     ]
    },
    {
     "name": "stderr",
     "output_type": "stream",
     "text": [
      " 10%|▉         | 1573/16359 [21:12<3:14:30,  1.27it/s]"
     ]
    },
    {
     "name": "stdout",
     "output_type": "stream",
     "text": [
      "New best loss: 1.130072832107544 (previous: 1.1835392713546753)\n"
     ]
    },
    {
     "name": "stderr",
     "output_type": "stream",
     "text": [
      " 10%|▉         | 1599/16359 [21:32<3:09:23,  1.30it/s]"
     ]
    },
    {
     "name": "stdout",
     "output_type": "stream",
     "text": [
      "Step 1600, total_loss: 1.3671098947525024\n"
     ]
    },
    {
     "name": "stderr",
     "output_type": "stream",
     "text": [
      " 10%|▉         | 1603/16359 [21:40<5:05:01,  1.24s/it]"
     ]
    },
    {
     "name": "stdout",
     "output_type": "stream",
     "text": [
      "New best loss: 1.1157636642456055 (previous: 1.130072832107544)\n"
     ]
    },
    {
     "name": "stderr",
     "output_type": "stream",
     "text": [
      " 10%|█         | 1688/16359 [22:47<3:07:04,  1.31it/s]"
     ]
    },
    {
     "name": "stdout",
     "output_type": "stream",
     "text": [
      "New best loss: 1.0736465454101562 (previous: 1.1157636642456055)\n"
     ]
    },
    {
     "name": "stderr",
     "output_type": "stream",
     "text": [
      " 10%|█         | 1699/16359 [22:55<3:17:45,  1.24it/s]"
     ]
    },
    {
     "name": "stdout",
     "output_type": "stream",
     "text": [
      "Step 1700, total_loss: 1.379514455795288\n"
     ]
    },
    {
     "name": "stderr",
     "output_type": "stream",
     "text": [
      " 11%|█         | 1799/16359 [24:20<3:11:05,  1.27it/s]"
     ]
    },
    {
     "name": "stdout",
     "output_type": "stream",
     "text": [
      "Step 1800, total_loss: 1.383650541305542\n"
     ]
    },
    {
     "name": "stderr",
     "output_type": "stream",
     "text": [
      " 11%|█▏        | 1878/16359 [25:27<3:12:43,  1.25it/s]"
     ]
    },
    {
     "name": "stdout",
     "output_type": "stream",
     "text": [
      "New best loss: 1.0656883716583252 (previous: 1.0736465454101562)\n"
     ]
    },
    {
     "name": "stderr",
     "output_type": "stream",
     "text": [
      " 12%|█▏        | 1899/16359 [25:44<3:08:51,  1.28it/s]"
     ]
    },
    {
     "name": "stdout",
     "output_type": "stream",
     "text": [
      "Step 1900, total_loss: 1.3818011283874512\n"
     ]
    },
    {
     "name": "stderr",
     "output_type": "stream",
     "text": [
      " 12%|█▏        | 1928/16359 [26:10<3:09:02,  1.27it/s]"
     ]
    },
    {
     "name": "stdout",
     "output_type": "stream",
     "text": [
      "New best loss: 1.0134153366088867 (previous: 1.0656883716583252)\n"
     ]
    },
    {
     "name": "stderr",
     "output_type": "stream",
     "text": [
      " 12%|█▏        | 1938/16359 [26:18<3:17:08,  1.22it/s]"
     ]
    },
    {
     "name": "stdout",
     "output_type": "stream",
     "text": [
      "New best loss: 0.9871490001678467 (previous: 1.0134153366088867)\n"
     ]
    },
    {
     "name": "stderr",
     "output_type": "stream",
     "text": [
      " 12%|█▏        | 1999/16359 [27:07<3:02:45,  1.31it/s]"
     ]
    },
    {
     "name": "stdout",
     "output_type": "stream",
     "text": [
      "Step 2000, total_loss: 1.3554348945617676\n"
     ]
    },
    {
     "name": "stderr",
     "output_type": "stream",
     "text": [
      " 13%|█▎        | 2099/16359 [28:30<3:13:51,  1.23it/s]"
     ]
    },
    {
     "name": "stdout",
     "output_type": "stream",
     "text": [
      "Step 2100, total_loss: 1.3708897829055786\n"
     ]
    },
    {
     "name": "stderr",
     "output_type": "stream",
     "text": [
      " 13%|█▎        | 2199/16359 [29:53<3:01:12,  1.30it/s]"
     ]
    },
    {
     "name": "stdout",
     "output_type": "stream",
     "text": [
      "Step 2200, total_loss: 1.3465462923049927\n"
     ]
    },
    {
     "name": "stderr",
     "output_type": "stream",
     "text": [
      " 14%|█▍        | 2299/16359 [31:15<2:58:58,  1.31it/s]"
     ]
    },
    {
     "name": "stdout",
     "output_type": "stream",
     "text": [
      "Step 2300, total_loss: 1.3609870672225952\n"
     ]
    },
    {
     "name": "stderr",
     "output_type": "stream",
     "text": [
      " 14%|█▍        | 2369/16359 [32:15<3:03:54,  1.27it/s]"
     ]
    },
    {
     "name": "stdout",
     "output_type": "stream",
     "text": [
      "New best loss: 0.9681435227394104 (previous: 0.9871490001678467)\n"
     ]
    },
    {
     "name": "stderr",
     "output_type": "stream",
     "text": [
      " 15%|█▍        | 2399/16359 [32:38<3:04:07,  1.26it/s]"
     ]
    },
    {
     "name": "stdout",
     "output_type": "stream",
     "text": [
      "Step 2400, total_loss: 1.3611416816711426\n"
     ]
    },
    {
     "name": "stderr",
     "output_type": "stream",
     "text": [
      " 15%|█▌        | 2483/16359 [33:47<2:56:56,  1.31it/s]"
     ]
    },
    {
     "name": "stdout",
     "output_type": "stream",
     "text": [
      "New best loss: 0.9173741340637207 (previous: 0.9681435227394104)\n"
     ]
    },
    {
     "name": "stderr",
     "output_type": "stream",
     "text": [
      " 15%|█▌        | 2499/16359 [34:00<2:55:54,  1.31it/s]"
     ]
    },
    {
     "name": "stdout",
     "output_type": "stream",
     "text": [
      "Step 2500, total_loss: 1.343855857849121\n"
     ]
    },
    {
     "name": "stderr",
     "output_type": "stream",
     "text": [
      " 16%|█▌        | 2578/16359 [35:05<2:56:40,  1.30it/s]"
     ]
    },
    {
     "name": "stdout",
     "output_type": "stream",
     "text": [
      "New best loss: 0.908983051776886 (previous: 0.9173741340637207)\n"
     ]
    },
    {
     "name": "stderr",
     "output_type": "stream",
     "text": [
      " 16%|█▌        | 2599/16359 [35:21<2:53:16,  1.32it/s]"
     ]
    },
    {
     "name": "stdout",
     "output_type": "stream",
     "text": [
      "Step 2600, total_loss: 1.3576991558074951\n"
     ]
    },
    {
     "name": "stderr",
     "output_type": "stream",
     "text": [
      " 16%|█▋        | 2699/16359 [36:43<2:56:07,  1.29it/s]"
     ]
    },
    {
     "name": "stdout",
     "output_type": "stream",
     "text": [
      "Step 2700, total_loss: 1.3509268760681152\n"
     ]
    },
    {
     "name": "stderr",
     "output_type": "stream",
     "text": [
      " 17%|█▋        | 2763/16359 [37:37<2:59:23,  1.26it/s]"
     ]
    },
    {
     "name": "stdout",
     "output_type": "stream",
     "text": [
      "New best loss: 0.8386680483818054 (previous: 0.908983051776886)\n"
     ]
    },
    {
     "name": "stderr",
     "output_type": "stream",
     "text": [
      " 17%|█▋        | 2799/16359 [38:05<2:50:36,  1.32it/s]"
     ]
    },
    {
     "name": "stdout",
     "output_type": "stream",
     "text": [
      "Step 2800, total_loss: 1.367249846458435\n"
     ]
    },
    {
     "name": "stderr",
     "output_type": "stream",
     "text": [
      " 18%|█▊        | 2899/16359 [39:27<2:51:37,  1.31it/s]"
     ]
    },
    {
     "name": "stdout",
     "output_type": "stream",
     "text": [
      "Step 2900, total_loss: 1.280134916305542\n"
     ]
    },
    {
     "name": "stderr",
     "output_type": "stream",
     "text": [
      " 18%|█▊        | 2953/16359 [40:13<2:56:39,  1.26it/s]"
     ]
    },
    {
     "name": "stdout",
     "output_type": "stream",
     "text": [
      "New best loss: 0.8324097394943237 (previous: 0.8386680483818054)\n"
     ]
    },
    {
     "name": "stderr",
     "output_type": "stream",
     "text": [
      " 18%|█▊        | 2998/16359 [40:47<2:48:13,  1.32it/s]"
     ]
    },
    {
     "name": "stdout",
     "output_type": "stream",
     "text": [
      "New best loss: 0.8305566310882568 (previous: 0.8324097394943237)\n"
     ]
    },
    {
     "name": "stderr",
     "output_type": "stream",
     "text": [
      " 18%|█▊        | 2999/16359 [40:48<2:49:00,  1.32it/s]"
     ]
    },
    {
     "name": "stdout",
     "output_type": "stream",
     "text": [
      "Step 3000, total_loss: 1.3744707107543945\n"
     ]
    },
    {
     "name": "stderr",
     "output_type": "stream",
     "text": [
      " 18%|█▊        | 3013/16359 [41:03<2:49:27,  1.31it/s]"
     ]
    },
    {
     "name": "stdout",
     "output_type": "stream",
     "text": [
      "New best loss: 0.7681369781494141 (previous: 0.8305566310882568)\n"
     ]
    },
    {
     "name": "stderr",
     "output_type": "stream",
     "text": [
      " 19%|█▉        | 3099/16359 [42:10<2:46:43,  1.33it/s]"
     ]
    },
    {
     "name": "stdout",
     "output_type": "stream",
     "text": [
      "Step 3100, total_loss: 1.3318116664886475\n"
     ]
    },
    {
     "name": "stderr",
     "output_type": "stream",
     "text": [
      " 20%|█▉        | 3199/16359 [43:32<2:45:04,  1.33it/s]"
     ]
    },
    {
     "name": "stdout",
     "output_type": "stream",
     "text": [
      "Step 3200, total_loss: 1.22950279712677\n"
     ]
    },
    {
     "name": "stderr",
     "output_type": "stream",
     "text": [
      " 20%|█▉        | 3228/16359 [43:58<2:47:31,  1.31it/s]"
     ]
    },
    {
     "name": "stdout",
     "output_type": "stream",
     "text": [
      "New best loss: 0.7537909746170044 (previous: 0.7681369781494141)\n"
     ]
    },
    {
     "name": "stderr",
     "output_type": "stream",
     "text": [
      " 20%|█▉        | 3268/16359 [44:30<2:51:46,  1.27it/s]"
     ]
    },
    {
     "name": "stdout",
     "output_type": "stream",
     "text": [
      "New best loss: 0.7497565746307373 (previous: 0.7537909746170044)\n"
     ]
    },
    {
     "name": "stderr",
     "output_type": "stream",
     "text": [
      " 20%|██        | 3278/16359 [44:37<2:47:41,  1.30it/s]"
     ]
    },
    {
     "name": "stdout",
     "output_type": "stream",
     "text": [
      "New best loss: 0.7394378185272217 (previous: 0.7497565746307373)\n"
     ]
    },
    {
     "name": "stderr",
     "output_type": "stream",
     "text": [
      " 20%|██        | 3299/16359 [44:53<2:44:36,  1.32it/s]"
     ]
    },
    {
     "name": "stdout",
     "output_type": "stream",
     "text": [
      "Step 3300, total_loss: 1.3118896484375\n"
     ]
    },
    {
     "name": "stderr",
     "output_type": "stream",
     "text": [
      " 21%|██        | 3393/16359 [46:11<2:43:24,  1.32it/s]"
     ]
    },
    {
     "name": "stdout",
     "output_type": "stream",
     "text": [
      "New best loss: 0.7227813005447388 (previous: 0.7394378185272217)\n"
     ]
    },
    {
     "name": "stderr",
     "output_type": "stream",
     "text": [
      " 21%|██        | 3399/16359 [46:15<2:43:05,  1.32it/s]"
     ]
    },
    {
     "name": "stdout",
     "output_type": "stream",
     "text": [
      "Step 3400, total_loss: 1.3383970260620117\n"
     ]
    },
    {
     "name": "stderr",
     "output_type": "stream",
     "text": [
      " 21%|██▏       | 3478/16359 [47:20<2:46:23,  1.29it/s]"
     ]
    },
    {
     "name": "stdout",
     "output_type": "stream",
     "text": [
      "New best loss: 0.7119156718254089 (previous: 0.7227813005447388)\n"
     ]
    },
    {
     "name": "stderr",
     "output_type": "stream",
     "text": [
      " 21%|██▏       | 3499/16359 [47:36<2:42:53,  1.32it/s]"
     ]
    },
    {
     "name": "stdout",
     "output_type": "stream",
     "text": [
      "Step 3500, total_loss: 1.3579866886138916\n"
     ]
    },
    {
     "name": "stderr",
     "output_type": "stream",
     "text": [
      " 22%|██▏       | 3599/16359 [48:58<2:41:06,  1.32it/s]"
     ]
    },
    {
     "name": "stdout",
     "output_type": "stream",
     "text": [
      "Step 3600, total_loss: 1.3281282186508179\n"
     ]
    },
    {
     "name": "stderr",
     "output_type": "stream",
     "text": [
      " 23%|██▎       | 3688/16359 [50:11<2:41:05,  1.31it/s]"
     ]
    },
    {
     "name": "stdout",
     "output_type": "stream",
     "text": [
      "New best loss: 0.7098078727722168 (previous: 0.7119156718254089)\n"
     ]
    },
    {
     "name": "stderr",
     "output_type": "stream",
     "text": [
      " 23%|██▎       | 3699/16359 [50:19<2:39:51,  1.32it/s]"
     ]
    },
    {
     "name": "stdout",
     "output_type": "stream",
     "text": [
      "Step 3700, total_loss: 1.348804235458374\n"
     ]
    },
    {
     "name": "stderr",
     "output_type": "stream",
     "text": [
      " 23%|██▎       | 3799/16359 [51:41<2:39:38,  1.31it/s]"
     ]
    },
    {
     "name": "stdout",
     "output_type": "stream",
     "text": [
      "Step 3800, total_loss: 1.336711049079895\n"
     ]
    },
    {
     "name": "stderr",
     "output_type": "stream",
     "text": [
      " 24%|██▍       | 3899/16359 [53:02<2:37:40,  1.32it/s]"
     ]
    },
    {
     "name": "stdout",
     "output_type": "stream",
     "text": [
      "Step 3900, total_loss: 1.334659457206726\n"
     ]
    },
    {
     "name": "stderr",
     "output_type": "stream",
     "text": [
      " 24%|██▍       | 3999/16359 [54:25<2:35:30,  1.32it/s]"
     ]
    },
    {
     "name": "stdout",
     "output_type": "stream",
     "text": [
      "Step 4000, total_loss: 1.3005081415176392\n"
     ]
    },
    {
     "name": "stderr",
     "output_type": "stream",
     "text": [
      " 25%|██▌       | 4099/16359 [55:47<2:37:42,  1.30it/s]"
     ]
    },
    {
     "name": "stdout",
     "output_type": "stream",
     "text": [
      "Step 4100, total_loss: 1.26384699344635\n"
     ]
    },
    {
     "name": "stderr",
     "output_type": "stream",
     "text": [
      " 26%|██▌       | 4199/16359 [57:09<2:32:33,  1.33it/s]"
     ]
    },
    {
     "name": "stdout",
     "output_type": "stream",
     "text": [
      "Step 4200, total_loss: 1.3468416929244995\n"
     ]
    },
    {
     "name": "stderr",
     "output_type": "stream",
     "text": [
      " 26%|██▋       | 4299/16359 [58:32<2:31:09,  1.33it/s]"
     ]
    },
    {
     "name": "stdout",
     "output_type": "stream",
     "text": [
      "Step 4300, total_loss: 1.2766938209533691\n"
     ]
    },
    {
     "name": "stderr",
     "output_type": "stream",
     "text": [
      " 27%|██▋       | 4358/16359 [59:22<2:41:08,  1.24it/s]"
     ]
    },
    {
     "name": "stdout",
     "output_type": "stream",
     "text": [
      "New best loss: 0.6805641055107117 (previous: 0.7098078727722168)\n"
     ]
    },
    {
     "name": "stderr",
     "output_type": "stream",
     "text": [
      " 27%|██▋       | 4399/16359 [59:54<2:30:23,  1.33it/s]"
     ]
    },
    {
     "name": "stdout",
     "output_type": "stream",
     "text": [
      "Step 4400, total_loss: 1.3146283626556396\n"
     ]
    },
    {
     "name": "stderr",
     "output_type": "stream",
     "text": [
      " 28%|██▊       | 4499/16359 [1:01:16<2:30:11,  1.32it/s]"
     ]
    },
    {
     "name": "stdout",
     "output_type": "stream",
     "text": [
      "Step 4500, total_loss: 1.284731149673462\n"
     ]
    },
    {
     "name": "stderr",
     "output_type": "stream",
     "text": [
      " 28%|██▊       | 4599/16359 [1:02:38<2:30:07,  1.31it/s]"
     ]
    },
    {
     "name": "stdout",
     "output_type": "stream",
     "text": [
      "Step 4600, total_loss: 1.226114273071289\n"
     ]
    },
    {
     "name": "stderr",
     "output_type": "stream",
     "text": [
      " 28%|██▊       | 4638/16359 [1:03:13<2:35:25,  1.26it/s]"
     ]
    },
    {
     "name": "stdout",
     "output_type": "stream",
     "text": [
      "New best loss: 0.6608313918113708 (previous: 0.6805641055107117)\n"
     ]
    },
    {
     "name": "stderr",
     "output_type": "stream",
     "text": [
      " 29%|██▊       | 4699/16359 [1:04:00<2:27:53,  1.31it/s]"
     ]
    },
    {
     "name": "stdout",
     "output_type": "stream",
     "text": [
      "Step 4700, total_loss: 1.2402360439300537\n"
     ]
    },
    {
     "name": "stderr",
     "output_type": "stream",
     "text": [
      " 29%|██▉       | 4799/16359 [1:05:22<2:26:43,  1.31it/s]"
     ]
    },
    {
     "name": "stdout",
     "output_type": "stream",
     "text": [
      "Step 4800, total_loss: 1.2763668298721313\n"
     ]
    },
    {
     "name": "stderr",
     "output_type": "stream",
     "text": [
      " 30%|██▉       | 4899/16359 [1:06:44<2:25:59,  1.31it/s]"
     ]
    },
    {
     "name": "stdout",
     "output_type": "stream",
     "text": [
      "Step 4900, total_loss: 1.298356056213379\n"
     ]
    },
    {
     "name": "stderr",
     "output_type": "stream",
     "text": [
      " 30%|███       | 4953/16359 [1:07:31<2:32:25,  1.25it/s]"
     ]
    },
    {
     "name": "stdout",
     "output_type": "stream",
     "text": [
      "New best loss: 0.58295738697052 (previous: 0.6608313918113708)\n"
     ]
    },
    {
     "name": "stderr",
     "output_type": "stream",
     "text": [
      " 31%|███       | 4999/16359 [1:08:06<2:22:25,  1.33it/s]"
     ]
    },
    {
     "name": "stdout",
     "output_type": "stream",
     "text": [
      "Step 5000, total_loss: 1.2730212211608887\n"
     ]
    },
    {
     "name": "stderr",
     "output_type": "stream",
     "text": [
      " 31%|███       | 5099/16359 [1:09:27<2:22:26,  1.32it/s]"
     ]
    },
    {
     "name": "stdout",
     "output_type": "stream",
     "text": [
      "Step 5100, total_loss: 1.216477632522583\n"
     ]
    },
    {
     "name": "stderr",
     "output_type": "stream",
     "text": [
      " 32%|███▏      | 5199/16359 [1:10:49<2:21:01,  1.32it/s]"
     ]
    },
    {
     "name": "stdout",
     "output_type": "stream",
     "text": [
      "Step 5200, total_loss: 1.362165093421936\n"
     ]
    },
    {
     "name": "stderr",
     "output_type": "stream",
     "text": [
      " 32%|███▏      | 5299/16359 [1:12:11<2:18:14,  1.33it/s]"
     ]
    },
    {
     "name": "stdout",
     "output_type": "stream",
     "text": [
      "Step 5300, total_loss: 1.2534687519073486\n"
     ]
    },
    {
     "name": "stderr",
     "output_type": "stream",
     "text": [
      " 33%|███▎      | 5399/16359 [1:13:33<2:17:47,  1.33it/s]"
     ]
    },
    {
     "name": "stdout",
     "output_type": "stream",
     "text": [
      "Step 5400, total_loss: 1.216454267501831\n"
     ]
    },
    {
     "name": "stderr",
     "output_type": "stream",
     "text": [
      " 34%|███▎      | 5499/16359 [1:14:56<2:17:19,  1.32it/s]"
     ]
    },
    {
     "name": "stdout",
     "output_type": "stream",
     "text": [
      "Step 5500, total_loss: 1.3094244003295898\n"
     ]
    },
    {
     "name": "stderr",
     "output_type": "stream",
     "text": [
      " 34%|███▍      | 5599/16359 [1:16:18<2:16:17,  1.32it/s]"
     ]
    },
    {
     "name": "stdout",
     "output_type": "stream",
     "text": [
      "Step 5600, total_loss: 1.2208542823791504\n"
     ]
    },
    {
     "name": "stderr",
     "output_type": "stream",
     "text": [
      " 35%|███▍      | 5699/16359 [1:17:40<2:14:47,  1.32it/s]"
     ]
    },
    {
     "name": "stdout",
     "output_type": "stream",
     "text": [
      "Step 5700, total_loss: 1.2099196910858154\n"
     ]
    },
    {
     "name": "stderr",
     "output_type": "stream",
     "text": [
      " 35%|███▌      | 5799/16359 [1:19:02<2:12:44,  1.33it/s]"
     ]
    },
    {
     "name": "stdout",
     "output_type": "stream",
     "text": [
      "Step 5800, total_loss: 1.0163447856903076\n"
     ]
    },
    {
     "name": "stderr",
     "output_type": "stream",
     "text": [
      " 36%|███▌      | 5899/16359 [1:20:24<2:12:52,  1.31it/s]"
     ]
    },
    {
     "name": "stdout",
     "output_type": "stream",
     "text": [
      "Step 5900, total_loss: 1.1360101699829102\n"
     ]
    },
    {
     "name": "stderr",
     "output_type": "stream",
     "text": [
      " 37%|███▋      | 5999/16359 [1:21:46<2:10:53,  1.32it/s]"
     ]
    },
    {
     "name": "stdout",
     "output_type": "stream",
     "text": [
      "Step 6000, total_loss: 1.2617275714874268\n"
     ]
    },
    {
     "name": "stderr",
     "output_type": "stream",
     "text": [
      " 37%|███▋      | 6074/16359 [1:22:49<2:12:22,  1.30it/s]"
     ]
    },
    {
     "name": "stdout",
     "output_type": "stream",
     "text": [
      "New best loss: 0.568085789680481 (previous: 0.58295738697052)\n"
     ]
    },
    {
     "name": "stderr",
     "output_type": "stream",
     "text": [
      " 37%|███▋      | 6099/16359 [1:23:08<2:08:43,  1.33it/s]"
     ]
    },
    {
     "name": "stdout",
     "output_type": "stream",
     "text": [
      "Step 6100, total_loss: 1.3137774467468262\n"
     ]
    },
    {
     "name": "stderr",
     "output_type": "stream",
     "text": [
      " 38%|███▊      | 6199/16359 [1:24:29<2:08:32,  1.32it/s]"
     ]
    },
    {
     "name": "stdout",
     "output_type": "stream",
     "text": [
      "Step 6200, total_loss: 1.3609641790390015\n"
     ]
    },
    {
     "name": "stderr",
     "output_type": "stream",
     "text": [
      " 39%|███▊      | 6299/16359 [1:25:51<2:06:27,  1.33it/s]"
     ]
    },
    {
     "name": "stdout",
     "output_type": "stream",
     "text": [
      "Step 6300, total_loss: 1.1375641822814941\n"
     ]
    },
    {
     "name": "stderr",
     "output_type": "stream",
     "text": [
      " 39%|███▊      | 6314/16359 [1:26:07<2:06:06,  1.33it/s]"
     ]
    },
    {
     "name": "stdout",
     "output_type": "stream",
     "text": [
      "New best loss: 0.5246502161026001 (previous: 0.568085789680481)\n"
     ]
    },
    {
     "name": "stderr",
     "output_type": "stream",
     "text": [
      " 39%|███▉      | 6399/16359 [1:27:12<2:04:47,  1.33it/s]"
     ]
    },
    {
     "name": "stdout",
     "output_type": "stream",
     "text": [
      "Step 6400, total_loss: 1.1908892393112183\n"
     ]
    },
    {
     "name": "stderr",
     "output_type": "stream",
     "text": [
      " 40%|███▉      | 6478/16359 [1:28:18<2:06:24,  1.30it/s]"
     ]
    },
    {
     "name": "stdout",
     "output_type": "stream",
     "text": [
      "New best loss: 0.4982089698314667 (previous: 0.5246502161026001)\n"
     ]
    },
    {
     "name": "stderr",
     "output_type": "stream",
     "text": [
      " 40%|███▉      | 6499/16359 [1:28:34<2:05:58,  1.30it/s]"
     ]
    },
    {
     "name": "stdout",
     "output_type": "stream",
     "text": [
      "Step 6500, total_loss: 1.1792371273040771\n"
     ]
    },
    {
     "name": "stderr",
     "output_type": "stream",
     "text": [
      " 40%|████      | 6599/16359 [1:29:55<2:03:09,  1.32it/s]"
     ]
    },
    {
     "name": "stdout",
     "output_type": "stream",
     "text": [
      "Step 6600, total_loss: 1.1769956350326538\n"
     ]
    },
    {
     "name": "stderr",
     "output_type": "stream",
     "text": [
      " 41%|████      | 6699/16359 [1:31:16<2:01:54,  1.32it/s]"
     ]
    },
    {
     "name": "stdout",
     "output_type": "stream",
     "text": [
      "Step 6700, total_loss: 1.0939701795578003\n"
     ]
    },
    {
     "name": "stderr",
     "output_type": "stream",
     "text": [
      " 41%|████      | 6748/16359 [1:31:58<2:06:17,  1.27it/s]"
     ]
    },
    {
     "name": "stdout",
     "output_type": "stream",
     "text": [
      "New best loss: 0.495275616645813 (previous: 0.4982089698314667)\n"
     ]
    },
    {
     "name": "stderr",
     "output_type": "stream",
     "text": [
      " 42%|████▏     | 6799/16359 [1:32:38<2:00:05,  1.33it/s]"
     ]
    },
    {
     "name": "stdout",
     "output_type": "stream",
     "text": [
      "Step 6800, total_loss: 1.1050002574920654\n"
     ]
    },
    {
     "name": "stderr",
     "output_type": "stream",
     "text": [
      " 42%|████▏     | 6899/16359 [1:33:59<1:58:53,  1.33it/s]"
     ]
    },
    {
     "name": "stdout",
     "output_type": "stream",
     "text": [
      "Step 6900, total_loss: 1.0919311046600342\n"
     ]
    },
    {
     "name": "stderr",
     "output_type": "stream",
     "text": [
      " 43%|████▎     | 6998/16359 [1:35:20<1:57:41,  1.33it/s]"
     ]
    },
    {
     "name": "stdout",
     "output_type": "stream",
     "text": [
      "New best loss: 0.4596462845802307 (previous: 0.495275616645813)\n"
     ]
    },
    {
     "name": "stderr",
     "output_type": "stream",
     "text": [
      " 43%|████▎     | 6999/16359 [1:35:21<1:57:47,  1.32it/s]"
     ]
    },
    {
     "name": "stdout",
     "output_type": "stream",
     "text": [
      "Step 7000, total_loss: 0.8239762783050537\n"
     ]
    },
    {
     "name": "stderr",
     "output_type": "stream",
     "text": [
      " 43%|████▎     | 7083/16359 [1:36:30<1:58:02,  1.31it/s]"
     ]
    },
    {
     "name": "stdout",
     "output_type": "stream",
     "text": [
      "New best loss: 0.4382830560207367 (previous: 0.4596462845802307)\n"
     ]
    },
    {
     "name": "stderr",
     "output_type": "stream",
     "text": [
      " 43%|████▎     | 7099/16359 [1:36:42<1:57:30,  1.31it/s]"
     ]
    },
    {
     "name": "stdout",
     "output_type": "stream",
     "text": [
      "Step 7100, total_loss: 1.1059041023254395\n"
     ]
    },
    {
     "name": "stderr",
     "output_type": "stream",
     "text": [
      " 44%|████▎     | 7129/16359 [1:37:09<1:58:14,  1.30it/s]"
     ]
    },
    {
     "name": "stdout",
     "output_type": "stream",
     "text": [
      "New best loss: 0.43080049753189087 (previous: 0.4382830560207367)\n"
     ]
    },
    {
     "name": "stderr",
     "output_type": "stream",
     "text": [
      " 44%|████▍     | 7199/16359 [1:38:04<1:56:37,  1.31it/s]"
     ]
    },
    {
     "name": "stdout",
     "output_type": "stream",
     "text": [
      "Step 7200, total_loss: 1.2304344177246094\n"
     ]
    },
    {
     "name": "stderr",
     "output_type": "stream",
     "text": [
      " 45%|████▍     | 7299/16359 [1:39:25<1:54:11,  1.32it/s]"
     ]
    },
    {
     "name": "stdout",
     "output_type": "stream",
     "text": [
      "Step 7300, total_loss: 1.1427186727523804\n"
     ]
    },
    {
     "name": "stderr",
     "output_type": "stream",
     "text": [
      " 45%|████▌     | 7399/16359 [1:40:47<1:53:03,  1.32it/s]"
     ]
    },
    {
     "name": "stdout",
     "output_type": "stream",
     "text": [
      "Step 7400, total_loss: 1.1113924980163574\n"
     ]
    },
    {
     "name": "stderr",
     "output_type": "stream",
     "text": [
      " 46%|████▌     | 7499/16359 [1:42:08<1:51:15,  1.33it/s]"
     ]
    },
    {
     "name": "stdout",
     "output_type": "stream",
     "text": [
      "Step 7500, total_loss: 1.0370632410049438\n"
     ]
    },
    {
     "name": "stderr",
     "output_type": "stream",
     "text": [
      " 46%|████▋     | 7599/16359 [1:43:29<1:50:17,  1.32it/s]"
     ]
    },
    {
     "name": "stdout",
     "output_type": "stream",
     "text": [
      "Step 7600, total_loss: 0.7377674579620361\n"
     ]
    },
    {
     "name": "stderr",
     "output_type": "stream",
     "text": [
      " 47%|████▋     | 7699/16359 [1:44:51<1:48:55,  1.33it/s]"
     ]
    },
    {
     "name": "stdout",
     "output_type": "stream",
     "text": [
      "Step 7700, total_loss: 1.2778041362762451\n"
     ]
    },
    {
     "name": "stderr",
     "output_type": "stream",
     "text": [
      " 48%|████▊     | 7799/16359 [1:46:13<1:47:30,  1.33it/s]"
     ]
    },
    {
     "name": "stdout",
     "output_type": "stream",
     "text": [
      "Step 7800, total_loss: 1.3023353815078735\n"
     ]
    },
    {
     "name": "stderr",
     "output_type": "stream",
     "text": [
      " 48%|████▊     | 7899/16359 [1:47:34<1:47:50,  1.31it/s]"
     ]
    },
    {
     "name": "stdout",
     "output_type": "stream",
     "text": [
      "Step 7900, total_loss: 1.2265980243682861\n"
     ]
    },
    {
     "name": "stderr",
     "output_type": "stream",
     "text": [
      " 49%|████▉     | 7999/16359 [1:48:56<1:45:32,  1.32it/s]"
     ]
    },
    {
     "name": "stdout",
     "output_type": "stream",
     "text": [
      "Step 8000, total_loss: 1.1550544500350952\n"
     ]
    },
    {
     "name": "stderr",
     "output_type": "stream",
     "text": [
      " 50%|████▉     | 8099/16359 [1:50:18<1:43:46,  1.33it/s]"
     ]
    },
    {
     "name": "stdout",
     "output_type": "stream",
     "text": [
      "Step 8100, total_loss: 1.0486305952072144\n"
     ]
    },
    {
     "name": "stderr",
     "output_type": "stream",
     "text": [
      " 50%|█████     | 8199/16359 [1:51:40<1:43:00,  1.32it/s]"
     ]
    },
    {
     "name": "stdout",
     "output_type": "stream",
     "text": [
      "Step 8200, total_loss: 1.327019453048706\n"
     ]
    },
    {
     "name": "stderr",
     "output_type": "stream",
     "text": [
      " 51%|█████     | 8299/16359 [1:53:01<1:41:25,  1.32it/s]"
     ]
    },
    {
     "name": "stdout",
     "output_type": "stream",
     "text": [
      "Step 8300, total_loss: 0.9464402198791504\n"
     ]
    },
    {
     "name": "stderr",
     "output_type": "stream",
     "text": [
      " 51%|█████▏    | 8399/16359 [1:54:23<1:40:23,  1.32it/s]"
     ]
    },
    {
     "name": "stdout",
     "output_type": "stream",
     "text": [
      "Step 8400, total_loss: 0.8139749765396118\n"
     ]
    },
    {
     "name": "stderr",
     "output_type": "stream",
     "text": [
      " 52%|█████▏    | 8463/16359 [1:55:17<1:42:33,  1.28it/s]"
     ]
    },
    {
     "name": "stdout",
     "output_type": "stream",
     "text": [
      "New best loss: 0.35412347316741943 (previous: 0.43080049753189087)\n"
     ]
    },
    {
     "name": "stderr",
     "output_type": "stream",
     "text": [
      " 52%|█████▏    | 8499/16359 [1:55:44<1:39:06,  1.32it/s]"
     ]
    },
    {
     "name": "stdout",
     "output_type": "stream",
     "text": [
      "Step 8500, total_loss: 0.9561963081359863\n"
     ]
    },
    {
     "name": "stderr",
     "output_type": "stream",
     "text": [
      " 53%|█████▎    | 8599/16359 [1:57:06<1:39:09,  1.30it/s]"
     ]
    },
    {
     "name": "stdout",
     "output_type": "stream",
     "text": [
      "Step 8600, total_loss: 1.114651083946228\n"
     ]
    },
    {
     "name": "stderr",
     "output_type": "stream",
     "text": [
      " 53%|█████▎    | 8699/16359 [1:58:29<1:36:46,  1.32it/s]"
     ]
    },
    {
     "name": "stdout",
     "output_type": "stream",
     "text": [
      "Step 8700, total_loss: 0.874369204044342\n"
     ]
    },
    {
     "name": "stderr",
     "output_type": "stream",
     "text": [
      " 53%|█████▎    | 8723/16359 [1:58:52<1:37:43,  1.30it/s]"
     ]
    },
    {
     "name": "stdout",
     "output_type": "stream",
     "text": [
      "New best loss: 0.32611382007598877 (previous: 0.35412347316741943)\n"
     ]
    },
    {
     "name": "stderr",
     "output_type": "stream",
     "text": [
      " 54%|█████▍    | 8799/16359 [1:59:51<1:35:29,  1.32it/s]"
     ]
    },
    {
     "name": "stdout",
     "output_type": "stream",
     "text": [
      "Step 8800, total_loss: 1.0362887382507324\n"
     ]
    },
    {
     "name": "stderr",
     "output_type": "stream",
     "text": [
      " 54%|█████▍    | 8899/16359 [2:01:13<1:34:24,  1.32it/s]"
     ]
    },
    {
     "name": "stdout",
     "output_type": "stream",
     "text": [
      "Step 8900, total_loss: 0.9726827144622803\n"
     ]
    },
    {
     "name": "stderr",
     "output_type": "stream",
     "text": [
      " 55%|█████▍    | 8928/16359 [2:01:40<1:36:36,  1.28it/s]"
     ]
    },
    {
     "name": "stdout",
     "output_type": "stream",
     "text": [
      "New best loss: 0.32181516289711 (previous: 0.32611382007598877)\n"
     ]
    },
    {
     "name": "stderr",
     "output_type": "stream",
     "text": [
      " 55%|█████▌    | 8999/16359 [2:02:36<1:33:09,  1.32it/s]"
     ]
    },
    {
     "name": "stdout",
     "output_type": "stream",
     "text": [
      "Step 9000, total_loss: 1.040514349937439\n"
     ]
    },
    {
     "name": "stderr",
     "output_type": "stream",
     "text": [
      " 55%|█████▌    | 9023/16359 [2:02:58<1:33:39,  1.31it/s]"
     ]
    },
    {
     "name": "stdout",
     "output_type": "stream",
     "text": [
      "New best loss: 0.31167861819267273 (previous: 0.32181516289711)\n"
     ]
    },
    {
     "name": "stderr",
     "output_type": "stream",
     "text": [
      " 56%|█████▌    | 9099/16359 [2:03:58<1:32:29,  1.31it/s]"
     ]
    },
    {
     "name": "stdout",
     "output_type": "stream",
     "text": [
      "Step 9100, total_loss: 0.9111467003822327\n"
     ]
    },
    {
     "name": "stderr",
     "output_type": "stream",
     "text": [
      " 56%|█████▌    | 9199/16359 [2:05:20<1:29:55,  1.33it/s]"
     ]
    },
    {
     "name": "stdout",
     "output_type": "stream",
     "text": [
      "Step 9200, total_loss: 0.9494462013244629\n"
     ]
    },
    {
     "name": "stderr",
     "output_type": "stream",
     "text": [
      " 57%|█████▋    | 9298/16359 [2:06:41<1:29:24,  1.32it/s]"
     ]
    },
    {
     "name": "stdout",
     "output_type": "stream",
     "text": [
      "New best loss: 0.30221834778785706 (previous: 0.31167861819267273)\n"
     ]
    },
    {
     "name": "stderr",
     "output_type": "stream",
     "text": [
      " 57%|█████▋    | 9299/16359 [2:06:42<1:29:34,  1.31it/s]"
     ]
    },
    {
     "name": "stdout",
     "output_type": "stream",
     "text": [
      "Step 9300, total_loss: 0.8474338054656982\n"
     ]
    },
    {
     "name": "stderr",
     "output_type": "stream",
     "text": [
      " 57%|█████▋    | 9398/16359 [2:08:04<1:28:21,  1.31it/s]"
     ]
    },
    {
     "name": "stdout",
     "output_type": "stream",
     "text": [
      "New best loss: 0.22626137733459473 (previous: 0.30221834778785706)\n"
     ]
    },
    {
     "name": "stderr",
     "output_type": "stream",
     "text": [
      " 57%|█████▋    | 9399/16359 [2:08:04<1:28:27,  1.31it/s]"
     ]
    },
    {
     "name": "stdout",
     "output_type": "stream",
     "text": [
      "Step 9400, total_loss: 1.0693671703338623\n"
     ]
    },
    {
     "name": "stderr",
     "output_type": "stream",
     "text": [
      " 58%|█████▊    | 9499/16359 [2:09:26<1:26:32,  1.32it/s]"
     ]
    },
    {
     "name": "stdout",
     "output_type": "stream",
     "text": [
      "Step 9500, total_loss: 0.8908640146255493\n"
     ]
    },
    {
     "name": "stderr",
     "output_type": "stream",
     "text": [
      " 59%|█████▊    | 9599/16359 [2:10:48<1:25:35,  1.32it/s]"
     ]
    },
    {
     "name": "stdout",
     "output_type": "stream",
     "text": [
      "Step 9600, total_loss: 1.3473080396652222\n"
     ]
    },
    {
     "name": "stderr",
     "output_type": "stream",
     "text": [
      " 59%|█████▉    | 9699/16359 [2:12:11<1:23:43,  1.33it/s]"
     ]
    },
    {
     "name": "stdout",
     "output_type": "stream",
     "text": [
      "Step 9700, total_loss: 0.9428017139434814\n"
     ]
    },
    {
     "name": "stderr",
     "output_type": "stream",
     "text": [
      " 60%|█████▉    | 9799/16359 [2:13:33<1:23:15,  1.31it/s]"
     ]
    },
    {
     "name": "stdout",
     "output_type": "stream",
     "text": [
      "Step 9800, total_loss: 0.9770540595054626\n"
     ]
    },
    {
     "name": "stderr",
     "output_type": "stream",
     "text": [
      " 61%|██████    | 9899/16359 [2:14:54<1:21:14,  1.33it/s]"
     ]
    },
    {
     "name": "stdout",
     "output_type": "stream",
     "text": [
      "Step 9900, total_loss: 1.092768907546997\n"
     ]
    },
    {
     "name": "stderr",
     "output_type": "stream",
     "text": [
      " 61%|██████    | 9999/16359 [2:16:16<1:19:26,  1.33it/s]"
     ]
    },
    {
     "name": "stdout",
     "output_type": "stream",
     "text": [
      "Step 10000, total_loss: 0.8600308299064636\n"
     ]
    },
    {
     "name": "stderr",
     "output_type": "stream",
     "text": [
      " 62%|██████▏   | 10099/16359 [2:17:39<1:17:48,  1.34it/s]"
     ]
    },
    {
     "name": "stdout",
     "output_type": "stream",
     "text": [
      "Step 10100, total_loss: 0.9482225179672241\n"
     ]
    },
    {
     "name": "stderr",
     "output_type": "stream",
     "text": [
      " 62%|██████▏   | 10199/16359 [2:19:02<1:19:09,  1.30it/s]"
     ]
    },
    {
     "name": "stdout",
     "output_type": "stream",
     "text": [
      "Step 10200, total_loss: 0.5256328582763672\n"
     ]
    },
    {
     "name": "stderr",
     "output_type": "stream",
     "text": [
      " 63%|██████▎   | 10299/16359 [2:20:26<1:17:56,  1.30it/s]"
     ]
    },
    {
     "name": "stdout",
     "output_type": "stream",
     "text": [
      "Step 10300, total_loss: 0.9393396377563477\n"
     ]
    },
    {
     "name": "stderr",
     "output_type": "stream",
     "text": [
      " 64%|██████▎   | 10399/16359 [2:21:50<1:16:45,  1.29it/s]"
     ]
    },
    {
     "name": "stdout",
     "output_type": "stream",
     "text": [
      "Step 10400, total_loss: 0.7167413234710693\n"
     ]
    },
    {
     "name": "stderr",
     "output_type": "stream",
     "text": [
      " 64%|██████▍   | 10499/16359 [2:23:15<1:15:24,  1.30it/s]"
     ]
    },
    {
     "name": "stdout",
     "output_type": "stream",
     "text": [
      "Step 10500, total_loss: 0.6499214172363281\n"
     ]
    },
    {
     "name": "stderr",
     "output_type": "stream",
     "text": [
      " 65%|██████▍   | 10599/16359 [2:24:41<1:16:36,  1.25it/s]"
     ]
    },
    {
     "name": "stdout",
     "output_type": "stream",
     "text": [
      "Step 10600, total_loss: 0.6889206171035767\n"
     ]
    },
    {
     "name": "stderr",
     "output_type": "stream",
     "text": [
      " 65%|██████▌   | 10699/16359 [2:26:05<1:13:00,  1.29it/s]"
     ]
    },
    {
     "name": "stdout",
     "output_type": "stream",
     "text": [
      "Step 10700, total_loss: 0.4301990270614624\n"
     ]
    },
    {
     "name": "stderr",
     "output_type": "stream",
     "text": [
      " 66%|██████▌   | 10799/16359 [2:27:29<1:12:25,  1.28it/s]"
     ]
    },
    {
     "name": "stdout",
     "output_type": "stream",
     "text": [
      "Step 10800, total_loss: 0.4852668046951294\n"
     ]
    },
    {
     "name": "stderr",
     "output_type": "stream",
     "text": [
      " 67%|██████▋   | 10899/16359 [2:28:53<1:10:12,  1.30it/s]"
     ]
    },
    {
     "name": "stdout",
     "output_type": "stream",
     "text": [
      "Step 10900, total_loss: 0.6188136339187622\n"
     ]
    },
    {
     "name": "stderr",
     "output_type": "stream",
     "text": [
      " 67%|██████▋   | 10999/16359 [2:30:17<1:08:28,  1.30it/s]"
     ]
    },
    {
     "name": "stdout",
     "output_type": "stream",
     "text": [
      "Step 11000, total_loss: 0.9056320190429688\n"
     ]
    },
    {
     "name": "stderr",
     "output_type": "stream",
     "text": [
      " 68%|██████▊   | 11099/16359 [2:31:41<1:07:20,  1.30it/s]"
     ]
    },
    {
     "name": "stdout",
     "output_type": "stream",
     "text": [
      "Step 11100, total_loss: 0.5256688594818115\n"
     ]
    },
    {
     "name": "stderr",
     "output_type": "stream",
     "text": [
      " 68%|██████▊   | 11199/16359 [2:33:04<1:06:55,  1.28it/s]"
     ]
    },
    {
     "name": "stdout",
     "output_type": "stream",
     "text": [
      "Step 11200, total_loss: 0.45544418692588806\n"
     ]
    },
    {
     "name": "stderr",
     "output_type": "stream",
     "text": [
      " 69%|██████▉   | 11299/16359 [2:34:28<1:04:51,  1.30it/s]"
     ]
    },
    {
     "name": "stdout",
     "output_type": "stream",
     "text": [
      "Step 11300, total_loss: 0.4283469319343567\n"
     ]
    },
    {
     "name": "stderr",
     "output_type": "stream",
     "text": [
      " 70%|██████▉   | 11399/16359 [2:35:53<1:04:22,  1.28it/s]"
     ]
    },
    {
     "name": "stdout",
     "output_type": "stream",
     "text": [
      "Step 11400, total_loss: 0.6565444469451904\n"
     ]
    },
    {
     "name": "stderr",
     "output_type": "stream",
     "text": [
      " 70%|███████   | 11471/16359 [2:36:57<1:04:08,  1.27it/s]"
     ]
    },
    {
     "name": "stdout",
     "output_type": "stream",
     "text": [
      "New best loss: 0.21773403882980347 (previous: 0.22626137733459473)\n"
     ]
    },
    {
     "name": "stderr",
     "output_type": "stream",
     "text": [
      " 70%|███████   | 11499/16359 [2:37:18<1:02:32,  1.30it/s]"
     ]
    },
    {
     "name": "stdout",
     "output_type": "stream",
     "text": [
      "Step 11500, total_loss: 0.32162201404571533\n"
     ]
    },
    {
     "name": "stderr",
     "output_type": "stream",
     "text": [
      " 71%|███████   | 11599/16359 [2:38:42<1:01:39,  1.29it/s]"
     ]
    },
    {
     "name": "stdout",
     "output_type": "stream",
     "text": [
      "Step 11600, total_loss: 0.5340944528579712\n"
     ]
    },
    {
     "name": "stderr",
     "output_type": "stream",
     "text": [
      " 71%|███████   | 11627/16359 [2:39:08<1:02:28,  1.26it/s]"
     ]
    },
    {
     "name": "stdout",
     "output_type": "stream",
     "text": [
      "New best loss: 0.2080584466457367 (previous: 0.21773403882980347)\n"
     ]
    },
    {
     "name": "stderr",
     "output_type": "stream",
     "text": [
      " 71%|███████▏  | 11696/16359 [2:40:03<59:56,  1.30it/s]  "
     ]
    },
    {
     "name": "stdout",
     "output_type": "stream",
     "text": [
      "New best loss: 0.20360788702964783 (previous: 0.2080584466457367)\n"
     ]
    },
    {
     "name": "stderr",
     "output_type": "stream",
     "text": [
      " 72%|███████▏  | 11699/16359 [2:40:05<59:32,  1.30it/s]"
     ]
    },
    {
     "name": "stdout",
     "output_type": "stream",
     "text": [
      "Step 11700, total_loss: 0.34146565198898315\n"
     ]
    },
    {
     "name": "stderr",
     "output_type": "stream",
     "text": [
      " 72%|███████▏  | 11799/16359 [2:41:28<59:04,  1.29it/s]"
     ]
    },
    {
     "name": "stdout",
     "output_type": "stream",
     "text": [
      "Step 11800, total_loss: 0.49316495656967163\n"
     ]
    },
    {
     "name": "stderr",
     "output_type": "stream",
     "text": [
      " 73%|███████▎  | 11899/16359 [2:42:52<57:45,  1.29it/s]"
     ]
    },
    {
     "name": "stdout",
     "output_type": "stream",
     "text": [
      "Step 11900, total_loss: 0.4100702404975891\n"
     ]
    },
    {
     "name": "stderr",
     "output_type": "stream",
     "text": [
      " 73%|███████▎  | 11999/16359 [2:44:15<56:13,  1.29it/s]"
     ]
    },
    {
     "name": "stdout",
     "output_type": "stream",
     "text": [
      "Step 12000, total_loss: 0.3435804545879364\n"
     ]
    },
    {
     "name": "stderr",
     "output_type": "stream",
     "text": [
      " 74%|███████▍  | 12099/16359 [2:45:39<54:55,  1.29it/s]"
     ]
    },
    {
     "name": "stdout",
     "output_type": "stream",
     "text": [
      "Step 12100, total_loss: 0.3210922181606293\n"
     ]
    },
    {
     "name": "stderr",
     "output_type": "stream",
     "text": [
      " 74%|███████▍  | 12151/16359 [2:46:25<56:47,  1.24it/s]"
     ]
    },
    {
     "name": "stdout",
     "output_type": "stream",
     "text": [
      "New best loss: 0.19677144289016724 (previous: 0.20360788702964783)\n"
     ]
    },
    {
     "name": "stderr",
     "output_type": "stream",
     "text": [
      " 75%|███████▍  | 12199/16359 [2:47:02<53:39,  1.29it/s]"
     ]
    },
    {
     "name": "stdout",
     "output_type": "stream",
     "text": [
      "Step 12200, total_loss: 0.33322465419769287\n"
     ]
    },
    {
     "name": "stderr",
     "output_type": "stream",
     "text": [
      " 75%|███████▍  | 12223/16359 [2:47:25<53:55,  1.28it/s]"
     ]
    },
    {
     "name": "stdout",
     "output_type": "stream",
     "text": [
      "New best loss: 0.18837827444076538 (previous: 0.19677144289016724)\n"
     ]
    },
    {
     "name": "stderr",
     "output_type": "stream",
     "text": [
      " 75%|███████▌  | 12299/16359 [2:48:26<52:26,  1.29it/s]"
     ]
    },
    {
     "name": "stdout",
     "output_type": "stream",
     "text": [
      "Step 12300, total_loss: 0.46520674228668213\n"
     ]
    },
    {
     "name": "stderr",
     "output_type": "stream",
     "text": [
      " 75%|███████▌  | 12322/16359 [2:48:49<52:41,  1.28it/s]"
     ]
    },
    {
     "name": "stdout",
     "output_type": "stream",
     "text": [
      "New best loss: 0.15346843004226685 (previous: 0.18837827444076538)\n"
     ]
    },
    {
     "name": "stderr",
     "output_type": "stream",
     "text": [
      " 76%|███████▌  | 12399/16359 [2:49:50<51:03,  1.29it/s]"
     ]
    },
    {
     "name": "stdout",
     "output_type": "stream",
     "text": [
      "Step 12400, total_loss: 0.5296943187713623\n"
     ]
    },
    {
     "name": "stderr",
     "output_type": "stream",
     "text": [
      " 76%|███████▋  | 12499/16359 [2:51:13<49:53,  1.29it/s]"
     ]
    },
    {
     "name": "stdout",
     "output_type": "stream",
     "text": [
      "Step 12500, total_loss: 0.35296744108200073\n"
     ]
    },
    {
     "name": "stderr",
     "output_type": "stream",
     "text": [
      " 77%|███████▋  | 12599/16359 [2:52:41<52:16,  1.20it/s]"
     ]
    },
    {
     "name": "stdout",
     "output_type": "stream",
     "text": [
      "Step 12600, total_loss: 0.437079519033432\n"
     ]
    },
    {
     "name": "stderr",
     "output_type": "stream",
     "text": [
      " 78%|███████▊  | 12699/16359 [2:54:06<48:39,  1.25it/s]"
     ]
    },
    {
     "name": "stdout",
     "output_type": "stream",
     "text": [
      "Step 12700, total_loss: 0.4206457734107971\n"
     ]
    },
    {
     "name": "stderr",
     "output_type": "stream",
     "text": [
      " 78%|███████▊  | 12799/16359 [2:55:31<46:17,  1.28it/s]"
     ]
    },
    {
     "name": "stdout",
     "output_type": "stream",
     "text": [
      "Step 12800, total_loss: 0.319267600774765\n"
     ]
    },
    {
     "name": "stderr",
     "output_type": "stream",
     "text": [
      " 79%|███████▊  | 12862/16359 [2:56:26<47:02,  1.24it/s]"
     ]
    },
    {
     "name": "stdout",
     "output_type": "stream",
     "text": [
      "New best loss: 0.15173965692520142 (previous: 0.15346843004226685)\n"
     ]
    },
    {
     "name": "stderr",
     "output_type": "stream",
     "text": [
      " 79%|███████▊  | 12876/16359 [2:56:38<47:13,  1.23it/s]"
     ]
    },
    {
     "name": "stdout",
     "output_type": "stream",
     "text": [
      "New best loss: 0.13342371582984924 (previous: 0.15173965692520142)\n"
     ]
    },
    {
     "name": "stderr",
     "output_type": "stream",
     "text": [
      " 79%|███████▉  | 12899/16359 [2:56:56<46:39,  1.24it/s]"
     ]
    },
    {
     "name": "stdout",
     "output_type": "stream",
     "text": [
      "Step 12900, total_loss: 0.615349292755127\n"
     ]
    },
    {
     "name": "stderr",
     "output_type": "stream",
     "text": [
      " 79%|███████▉  | 12999/16359 [2:58:21<43:43,  1.28it/s]"
     ]
    },
    {
     "name": "stdout",
     "output_type": "stream",
     "text": [
      "Step 13000, total_loss: 0.3913733959197998\n"
     ]
    },
    {
     "name": "stderr",
     "output_type": "stream",
     "text": [
      " 80%|████████  | 13099/16359 [2:59:45<42:30,  1.28it/s]"
     ]
    },
    {
     "name": "stdout",
     "output_type": "stream",
     "text": [
      "Step 13100, total_loss: 0.37930992245674133\n"
     ]
    },
    {
     "name": "stderr",
     "output_type": "stream",
     "text": [
      " 81%|████████  | 13199/16359 [3:01:09<40:44,  1.29it/s]"
     ]
    },
    {
     "name": "stdout",
     "output_type": "stream",
     "text": [
      "Step 13200, total_loss: 0.42350998520851135\n"
     ]
    },
    {
     "name": "stderr",
     "output_type": "stream",
     "text": [
      " 81%|████████▏ | 13299/16359 [3:02:33<39:32,  1.29it/s]"
     ]
    },
    {
     "name": "stdout",
     "output_type": "stream",
     "text": [
      "Step 13300, total_loss: 0.47047001123428345\n"
     ]
    },
    {
     "name": "stderr",
     "output_type": "stream",
     "text": [
      " 82%|████████▏ | 13387/16359 [3:03:48<38:24,  1.29it/s]"
     ]
    },
    {
     "name": "stdout",
     "output_type": "stream",
     "text": [
      "New best loss: 0.12200698256492615 (previous: 0.13342371582984924)\n"
     ]
    },
    {
     "name": "stderr",
     "output_type": "stream",
     "text": [
      " 82%|████████▏ | 13399/16359 [3:03:57<38:09,  1.29it/s]"
     ]
    },
    {
     "name": "stdout",
     "output_type": "stream",
     "text": [
      "Step 13400, total_loss: 0.24855850636959076\n"
     ]
    },
    {
     "name": "stderr",
     "output_type": "stream",
     "text": [
      " 83%|████████▎ | 13499/16359 [3:05:21<37:00,  1.29it/s]"
     ]
    },
    {
     "name": "stdout",
     "output_type": "stream",
     "text": [
      "Step 13500, total_loss: 0.2729440927505493\n"
     ]
    },
    {
     "name": "stderr",
     "output_type": "stream",
     "text": [
      " 83%|████████▎ | 13599/16359 [3:06:45<35:46,  1.29it/s]"
     ]
    },
    {
     "name": "stdout",
     "output_type": "stream",
     "text": [
      "Step 13600, total_loss: 0.32561129331588745\n"
     ]
    },
    {
     "name": "stderr",
     "output_type": "stream",
     "text": [
      " 84%|████████▎ | 13699/16359 [3:08:09<34:18,  1.29it/s]"
     ]
    },
    {
     "name": "stdout",
     "output_type": "stream",
     "text": [
      "Step 13700, total_loss: 0.38716012239456177\n"
     ]
    },
    {
     "name": "stderr",
     "output_type": "stream",
     "text": [
      " 84%|████████▍ | 13799/16359 [3:09:33<33:08,  1.29it/s]"
     ]
    },
    {
     "name": "stdout",
     "output_type": "stream",
     "text": [
      "Step 13800, total_loss: 0.4721275866031647\n"
     ]
    },
    {
     "name": "stderr",
     "output_type": "stream",
     "text": [
      " 85%|████████▍ | 13899/16359 [3:10:57<31:56,  1.28it/s]"
     ]
    },
    {
     "name": "stdout",
     "output_type": "stream",
     "text": [
      "Step 13900, total_loss: 0.4926617741584778\n"
     ]
    },
    {
     "name": "stderr",
     "output_type": "stream",
     "text": [
      " 86%|████████▌ | 13999/16359 [3:12:21<30:34,  1.29it/s]"
     ]
    },
    {
     "name": "stdout",
     "output_type": "stream",
     "text": [
      "Step 14000, total_loss: 0.23482754826545715\n"
     ]
    },
    {
     "name": "stderr",
     "output_type": "stream",
     "text": [
      " 86%|████████▌ | 14036/16359 [3:12:55<32:29,  1.19it/s]"
     ]
    },
    {
     "name": "stdout",
     "output_type": "stream",
     "text": [
      "New best loss: 0.11638238281011581 (previous: 0.12200698256492615)\n"
     ]
    },
    {
     "name": "stderr",
     "output_type": "stream",
     "text": [
      " 86%|████████▌ | 14047/16359 [3:13:05<34:04,  1.13it/s]"
     ]
    },
    {
     "name": "stdout",
     "output_type": "stream",
     "text": [
      "New best loss: 0.08099118620157242 (previous: 0.11638238281011581)\n"
     ]
    },
    {
     "name": "stderr",
     "output_type": "stream",
     "text": [
      " 86%|████████▌ | 14099/16359 [3:13:47<29:35,  1.27it/s]"
     ]
    },
    {
     "name": "stdout",
     "output_type": "stream",
     "text": [
      "Step 14100, total_loss: 0.3238750696182251\n"
     ]
    },
    {
     "name": "stderr",
     "output_type": "stream",
     "text": [
      " 87%|████████▋ | 14199/16359 [3:15:11<28:02,  1.28it/s]"
     ]
    },
    {
     "name": "stdout",
     "output_type": "stream",
     "text": [
      "Step 14200, total_loss: 0.36124956607818604\n"
     ]
    },
    {
     "name": "stderr",
     "output_type": "stream",
     "text": [
      " 87%|████████▋ | 14299/16359 [3:16:34<26:40,  1.29it/s]"
     ]
    },
    {
     "name": "stdout",
     "output_type": "stream",
     "text": [
      "Step 14300, total_loss: 0.34691521525382996\n"
     ]
    },
    {
     "name": "stderr",
     "output_type": "stream",
     "text": [
      " 88%|████████▊ | 14399/16359 [3:17:59<25:12,  1.30it/s]"
     ]
    },
    {
     "name": "stdout",
     "output_type": "stream",
     "text": [
      "Step 14400, total_loss: 0.346305787563324\n"
     ]
    },
    {
     "name": "stderr",
     "output_type": "stream",
     "text": [
      " 89%|████████▊ | 14499/16359 [3:19:22<23:49,  1.30it/s]"
     ]
    },
    {
     "name": "stdout",
     "output_type": "stream",
     "text": [
      "Step 14500, total_loss: 0.17176693677902222\n"
     ]
    },
    {
     "name": "stderr",
     "output_type": "stream",
     "text": [
      " 89%|████████▉ | 14599/16359 [3:20:46<22:40,  1.29it/s]"
     ]
    },
    {
     "name": "stdout",
     "output_type": "stream",
     "text": [
      "Step 14600, total_loss: 0.13653604686260223\n"
     ]
    },
    {
     "name": "stderr",
     "output_type": "stream",
     "text": [
      " 90%|████████▉ | 14699/16359 [3:22:10<21:11,  1.31it/s]"
     ]
    },
    {
     "name": "stdout",
     "output_type": "stream",
     "text": [
      "Step 14700, total_loss: 0.1740751564502716\n"
     ]
    },
    {
     "name": "stderr",
     "output_type": "stream",
     "text": [
      " 90%|█████████ | 14799/16359 [3:23:34<20:09,  1.29it/s]"
     ]
    },
    {
     "name": "stdout",
     "output_type": "stream",
     "text": [
      "Step 14800, total_loss: 0.5511655807495117\n"
     ]
    },
    {
     "name": "stderr",
     "output_type": "stream",
     "text": [
      " 91%|█████████ | 14899/16359 [3:24:58<18:53,  1.29it/s]"
     ]
    },
    {
     "name": "stdout",
     "output_type": "stream",
     "text": [
      "Step 14900, total_loss: 0.16170796751976013\n"
     ]
    },
    {
     "name": "stderr",
     "output_type": "stream",
     "text": [
      " 92%|█████████▏| 14996/16359 [3:26:20<17:27,  1.30it/s]"
     ]
    },
    {
     "name": "stdout",
     "output_type": "stream",
     "text": [
      "New best loss: 0.0809800773859024 (previous: 0.08099118620157242)\n"
     ]
    },
    {
     "name": "stderr",
     "output_type": "stream",
     "text": [
      " 92%|█████████▏| 14999/16359 [3:26:22<17:20,  1.31it/s]"
     ]
    },
    {
     "name": "stdout",
     "output_type": "stream",
     "text": [
      "Step 15000, total_loss: 0.18096435070037842\n"
     ]
    },
    {
     "name": "stderr",
     "output_type": "stream",
     "text": [
      " 92%|█████████▏| 15099/16359 [3:27:45<16:44,  1.25it/s]"
     ]
    },
    {
     "name": "stdout",
     "output_type": "stream",
     "text": [
      "Step 15100, total_loss: 0.3162330985069275\n"
     ]
    },
    {
     "name": "stderr",
     "output_type": "stream",
     "text": [
      " 93%|█████████▎| 15199/16359 [3:29:15<16:20,  1.18it/s]"
     ]
    },
    {
     "name": "stdout",
     "output_type": "stream",
     "text": [
      "Step 15200, total_loss: 0.2895810604095459\n"
     ]
    },
    {
     "name": "stderr",
     "output_type": "stream",
     "text": [
      " 94%|█████████▎| 15299/16359 [3:30:44<14:19,  1.23it/s]"
     ]
    },
    {
     "name": "stdout",
     "output_type": "stream",
     "text": [
      "Step 15300, total_loss: 0.2715851068496704\n"
     ]
    },
    {
     "name": "stderr",
     "output_type": "stream",
     "text": [
      " 94%|█████████▍| 15399/16359 [3:32:09<12:13,  1.31it/s]"
     ]
    },
    {
     "name": "stdout",
     "output_type": "stream",
     "text": [
      "Step 15400, total_loss: 0.23320619761943817\n"
     ]
    },
    {
     "name": "stderr",
     "output_type": "stream",
     "text": [
      " 95%|█████████▍| 15499/16359 [3:33:33<11:06,  1.29it/s]"
     ]
    },
    {
     "name": "stdout",
     "output_type": "stream",
     "text": [
      "Step 15500, total_loss: 0.16817814111709595\n"
     ]
    },
    {
     "name": "stderr",
     "output_type": "stream",
     "text": [
      " 95%|█████████▌| 15599/16359 [3:34:57<09:43,  1.30it/s]"
     ]
    },
    {
     "name": "stdout",
     "output_type": "stream",
     "text": [
      "Step 15600, total_loss: 0.36170694231987\n"
     ]
    },
    {
     "name": "stderr",
     "output_type": "stream",
     "text": [
      " 96%|█████████▌| 15694/16359 [3:36:17<08:34,  1.29it/s]"
     ]
    },
    {
     "name": "stdout",
     "output_type": "stream",
     "text": [
      "New best loss: 0.08010323345661163 (previous: 0.0809800773859024)\n"
     ]
    },
    {
     "name": "stderr",
     "output_type": "stream",
     "text": [
      " 96%|█████████▌| 15699/16359 [3:36:21<08:30,  1.29it/s]"
     ]
    },
    {
     "name": "stdout",
     "output_type": "stream",
     "text": [
      "Step 15700, total_loss: 0.3156900405883789\n"
     ]
    },
    {
     "name": "stderr",
     "output_type": "stream",
     "text": [
      " 96%|█████████▋| 15776/16359 [3:37:27<07:39,  1.27it/s]"
     ]
    },
    {
     "name": "stdout",
     "output_type": "stream",
     "text": [
      "New best loss: 0.0668879896402359 (previous: 0.08010323345661163)\n"
     ]
    },
    {
     "name": "stderr",
     "output_type": "stream",
     "text": [
      " 97%|█████████▋| 15799/16359 [3:37:45<07:13,  1.29it/s]"
     ]
    },
    {
     "name": "stdout",
     "output_type": "stream",
     "text": [
      "Step 15800, total_loss: 0.1285453736782074\n"
     ]
    },
    {
     "name": "stderr",
     "output_type": "stream",
     "text": [
      " 97%|█████████▋| 15899/16359 [3:39:09<05:56,  1.29it/s]"
     ]
    },
    {
     "name": "stdout",
     "output_type": "stream",
     "text": [
      "Step 15900, total_loss: 0.1322653591632843\n"
     ]
    },
    {
     "name": "stderr",
     "output_type": "stream",
     "text": [
      " 98%|█████████▊| 15999/16359 [3:40:35<04:55,  1.22it/s]"
     ]
    },
    {
     "name": "stdout",
     "output_type": "stream",
     "text": [
      "Step 16000, total_loss: 0.128218412399292\n"
     ]
    },
    {
     "name": "stderr",
     "output_type": "stream",
     "text": [
      " 98%|█████████▊| 16099/16359 [3:42:00<03:22,  1.28it/s]"
     ]
    },
    {
     "name": "stdout",
     "output_type": "stream",
     "text": [
      "Step 16100, total_loss: 0.18470236659049988\n"
     ]
    },
    {
     "name": "stderr",
     "output_type": "stream",
     "text": [
      " 99%|█████████▉| 16199/16359 [3:43:25<02:05,  1.27it/s]"
     ]
    },
    {
     "name": "stdout",
     "output_type": "stream",
     "text": [
      "Step 16200, total_loss: 0.26308974623680115\n"
     ]
    },
    {
     "name": "stderr",
     "output_type": "stream",
     "text": [
      "100%|█████████▉| 16299/16359 [3:44:50<00:48,  1.25it/s]"
     ]
    },
    {
     "name": "stdout",
     "output_type": "stream",
     "text": [
      "Step 16300, total_loss: 0.15562966465950012\n"
     ]
    },
    {
     "name": "stderr",
     "output_type": "stream",
     "text": [
      "100%|██████████| 16359/16359 [3:45:44<00:00,  1.21it/s]\n"
     ]
    }
   ],
   "source": [
    "def train(dataloader, model, optimizer, save_path=\"\"):\n",
    "    train_loader = tqdm(dataloader, total=len(dataloader))\n",
    "    num = 0\n",
    "    best_loss = float('inf')\n",
    "\n",
    "    for batch in train_loader:\n",
    "        num += 1\n",
    "        optimizer.zero_grad()\n",
    "\n",
    "        images, texts = batch\n",
    "        images = images.to(device)\n",
    "        texts = texts.to(device)\n",
    "\n",
    "        image_features, text_features, logit_scale = model(images, texts)\n",
    "        \n",
    "        logits_per_image = logit_scale * image_features @ text_features.t()\n",
    "        logits_per_text = logits_per_image.t()\n",
    "\n",
    "        loss = clip_loss(logits_per_image, logits_per_text)\n",
    "\n",
    "        loss.backward()\n",
    "        optimizer.step()\n",
    "\n",
    "        if num % 100 == 0:\n",
    "            print(f\"Step {num}, total_loss: {loss.item()}\")\n",
    "            torch.save({\n",
    "                'model_state_dict': model.state_dict(),\n",
    "                'optimizer_state_dict': optimizer.state_dict(),\n",
    "                'step': num,\n",
    "                'loss': best_loss\n",
    "            }, save_path)\n",
    "            \n",
    "        if loss.item() < best_loss:\n",
    "            print(f\"New best loss: {loss.item()} (previous: {best_loss})\")\n",
    "            best_loss = loss.item()\n",
    "\n",
    "train(dataloader, clip_model, optimizer, save_path=\"/kaggle/working/clip_cross_attention_model.pt\")    "
   ]
  },
  {
   "cell_type": "code",
   "execution_count": 13,
   "id": "4f4c44d8",
   "metadata": {
    "execution": {
     "iopub.execute_input": "2025-06-08T22:47:38.732258Z",
     "iopub.status.busy": "2025-06-08T22:47:38.731595Z",
     "iopub.status.idle": "2025-06-08T22:47:38.770584Z",
     "shell.execute_reply": "2025-06-08T22:47:38.769712Z"
    },
    "papermill": {
     "duration": 0.827478,
     "end_time": "2025-06-08T22:47:38.772943",
     "exception": false,
     "start_time": "2025-06-08T22:47:37.945465",
     "status": "completed"
    },
    "tags": []
   },
   "outputs": [
    {
     "name": "stdout",
     "output_type": "stream",
     "text": [
      "logit_scale norm: 4.605087757110596\n",
      "clip_model.positional_embedding norm: 2.0288569927215576\n",
      "clip_model.text_projection norm: 11.265134811401367\n",
      "clip_model.visual.class_embedding norm: 5.109840393066406\n",
      "clip_model.visual.positional_embedding norm: 11.497537612915039\n",
      "clip_model.visual.proj norm: 12.942944526672363\n",
      "clip_model.visual.conv1.weight norm: 13.028203010559082\n",
      "clip_model.visual.ln_pre.weight norm: 21.016136169433594\n",
      "clip_model.visual.ln_pre.bias norm: 2.6796717643737793\n",
      "clip_model.visual.transformer.resblocks.0.ln_1.weight norm: 14.776494026184082\n",
      "clip_model.visual.transformer.resblocks.0.ln_1.bias norm: 3.969780683517456\n",
      "clip_model.visual.transformer.resblocks.0.attn.in_proj_weight norm: 17.87546157836914\n",
      "clip_model.visual.transformer.resblocks.0.attn.in_proj_bias norm: 35.37779235839844\n",
      "clip_model.visual.transformer.resblocks.0.attn.out_proj.weight norm: 12.688957214355469\n",
      "clip_model.visual.transformer.resblocks.0.attn.out_proj.bias norm: 2.594679355621338\n",
      "clip_model.visual.transformer.resblocks.0.ln_2.weight norm: 32.28483581542969\n",
      "clip_model.visual.transformer.resblocks.0.ln_2.bias norm: 4.974412441253662\n",
      "clip_model.visual.transformer.resblocks.0.mlp.c_fc.weight norm: 22.41454315185547\n",
      "clip_model.visual.transformer.resblocks.0.mlp.c_fc.bias norm: 40.293209075927734\n",
      "clip_model.visual.transformer.resblocks.0.mlp.c_proj.weight norm: 17.935123443603516\n",
      "clip_model.visual.transformer.resblocks.0.mlp.c_proj.bias norm: 2.591205358505249\n",
      "clip_model.visual.transformer.resblocks.1.ln_1.weight norm: 16.513586044311523\n",
      "clip_model.visual.transformer.resblocks.1.ln_1.bias norm: 4.174954891204834\n",
      "clip_model.visual.transformer.resblocks.1.attn.in_proj_weight norm: 23.088850021362305\n",
      "clip_model.visual.transformer.resblocks.1.attn.in_proj_bias norm: 31.58916473388672\n",
      "clip_model.visual.transformer.resblocks.1.attn.out_proj.weight norm: 12.85926342010498\n",
      "clip_model.visual.transformer.resblocks.1.attn.out_proj.bias norm: 1.8682760000228882\n",
      "clip_model.visual.transformer.resblocks.1.ln_2.weight norm: 22.851858139038086\n",
      "clip_model.visual.transformer.resblocks.1.ln_2.bias norm: 4.953126430511475\n",
      "clip_model.visual.transformer.resblocks.1.mlp.c_fc.weight norm: 27.319562911987305\n",
      "clip_model.visual.transformer.resblocks.1.mlp.c_fc.bias norm: 26.168777465820312\n",
      "clip_model.visual.transformer.resblocks.1.mlp.c_proj.weight norm: 21.351511001586914\n",
      "clip_model.visual.transformer.resblocks.1.mlp.c_proj.bias norm: 1.9278687238693237\n",
      "clip_model.visual.transformer.resblocks.2.ln_1.weight norm: 19.759090423583984\n",
      "clip_model.visual.transformer.resblocks.2.ln_1.bias norm: 5.244530200958252\n",
      "clip_model.visual.transformer.resblocks.2.attn.in_proj_weight norm: 24.85835075378418\n",
      "clip_model.visual.transformer.resblocks.2.attn.in_proj_bias norm: 26.972454071044922\n",
      "clip_model.visual.transformer.resblocks.2.attn.out_proj.weight norm: 12.443117141723633\n",
      "clip_model.visual.transformer.resblocks.2.attn.out_proj.bias norm: 1.716761827468872\n",
      "clip_model.visual.transformer.resblocks.2.ln_2.weight norm: 32.57644271850586\n",
      "clip_model.visual.transformer.resblocks.2.ln_2.bias norm: 3.425961494445801\n",
      "clip_model.visual.transformer.resblocks.2.mlp.c_fc.weight norm: 26.479209899902344\n",
      "clip_model.visual.transformer.resblocks.2.mlp.c_fc.bias norm: 23.702072143554688\n",
      "clip_model.visual.transformer.resblocks.2.mlp.c_proj.weight norm: 21.34030532836914\n",
      "clip_model.visual.transformer.resblocks.2.mlp.c_proj.bias norm: 2.2575411796569824\n",
      "clip_model.visual.transformer.resblocks.3.ln_1.weight norm: 22.479475021362305\n",
      "clip_model.visual.transformer.resblocks.3.ln_1.bias norm: 6.615069389343262\n",
      "clip_model.visual.transformer.resblocks.3.attn.in_proj_weight norm: 26.44070053100586\n",
      "clip_model.visual.transformer.resblocks.3.attn.in_proj_bias norm: 22.787216186523438\n",
      "clip_model.visual.transformer.resblocks.3.attn.out_proj.weight norm: 12.965727806091309\n",
      "clip_model.visual.transformer.resblocks.3.attn.out_proj.bias norm: 2.6015121936798096\n",
      "clip_model.visual.transformer.resblocks.3.ln_2.weight norm: 33.607784271240234\n",
      "clip_model.visual.transformer.resblocks.3.ln_2.bias norm: 4.099748134613037\n",
      "clip_model.visual.transformer.resblocks.3.mlp.c_fc.weight norm: 28.022859573364258\n",
      "clip_model.visual.transformer.resblocks.3.mlp.c_fc.bias norm: 21.04411506652832\n",
      "clip_model.visual.transformer.resblocks.3.mlp.c_proj.weight norm: 22.75672721862793\n",
      "clip_model.visual.transformer.resblocks.3.mlp.c_proj.bias norm: 2.3421566486358643\n",
      "clip_model.visual.transformer.resblocks.4.ln_1.weight norm: 23.601699829101562\n",
      "clip_model.visual.transformer.resblocks.4.ln_1.bias norm: 5.186129093170166\n",
      "clip_model.visual.transformer.resblocks.4.attn.in_proj_weight norm: 26.27352523803711\n",
      "clip_model.visual.transformer.resblocks.4.attn.in_proj_bias norm: 21.78907585144043\n",
      "clip_model.visual.transformer.resblocks.4.attn.out_proj.weight norm: 12.915279388427734\n",
      "clip_model.visual.transformer.resblocks.4.attn.out_proj.bias norm: 2.1214020252227783\n",
      "clip_model.visual.transformer.resblocks.4.ln_2.weight norm: 36.46551513671875\n",
      "clip_model.visual.transformer.resblocks.4.ln_2.bias norm: 3.3481998443603516\n",
      "clip_model.visual.transformer.resblocks.4.mlp.c_fc.weight norm: 29.77733039855957\n",
      "clip_model.visual.transformer.resblocks.4.mlp.c_fc.bias norm: 19.025434494018555\n",
      "clip_model.visual.transformer.resblocks.4.mlp.c_proj.weight norm: 24.541088104248047\n",
      "clip_model.visual.transformer.resblocks.4.mlp.c_proj.bias norm: 2.166346788406372\n",
      "clip_model.visual.transformer.resblocks.5.ln_1.weight norm: 27.957101821899414\n",
      "clip_model.visual.transformer.resblocks.5.ln_1.bias norm: 6.1103668212890625\n",
      "clip_model.visual.transformer.resblocks.5.attn.in_proj_weight norm: 25.836088180541992\n",
      "clip_model.visual.transformer.resblocks.5.attn.in_proj_bias norm: 19.669301986694336\n",
      "clip_model.visual.transformer.resblocks.5.attn.out_proj.weight norm: 13.43117904663086\n",
      "clip_model.visual.transformer.resblocks.5.attn.out_proj.bias norm: 1.8144367933273315\n",
      "clip_model.visual.transformer.resblocks.5.ln_2.weight norm: 35.79679489135742\n",
      "clip_model.visual.transformer.resblocks.5.ln_2.bias norm: 5.016000747680664\n",
      "clip_model.visual.transformer.resblocks.5.mlp.c_fc.weight norm: 30.911836624145508\n",
      "clip_model.visual.transformer.resblocks.5.mlp.c_fc.bias norm: 16.552013397216797\n",
      "clip_model.visual.transformer.resblocks.5.mlp.c_proj.weight norm: 25.509424209594727\n",
      "clip_model.visual.transformer.resblocks.5.mlp.c_proj.bias norm: 1.7628974914550781\n",
      "clip_model.visual.transformer.resblocks.6.ln_1.weight norm: 30.899761199951172\n",
      "clip_model.visual.transformer.resblocks.6.ln_1.bias norm: 7.583768367767334\n",
      "clip_model.visual.transformer.resblocks.6.attn.in_proj_weight norm: 27.762636184692383\n",
      "clip_model.visual.transformer.resblocks.6.attn.in_proj_bias norm: 17.347620010375977\n",
      "clip_model.visual.transformer.resblocks.6.attn.out_proj.weight norm: 14.10318660736084\n",
      "clip_model.visual.transformer.resblocks.6.attn.out_proj.bias norm: 2.4496498107910156\n",
      "clip_model.visual.transformer.resblocks.6.ln_2.weight norm: 36.78116989135742\n",
      "clip_model.visual.transformer.resblocks.6.ln_2.bias norm: 4.87166166305542\n",
      "clip_model.visual.transformer.resblocks.6.mlp.c_fc.weight norm: 30.58543586730957\n",
      "clip_model.visual.transformer.resblocks.6.mlp.c_fc.bias norm: 16.240947723388672\n",
      "clip_model.visual.transformer.resblocks.6.mlp.c_proj.weight norm: 25.799753189086914\n",
      "clip_model.visual.transformer.resblocks.6.mlp.c_proj.bias norm: 1.995492935180664\n",
      "clip_model.visual.transformer.resblocks.7.ln_1.weight norm: 35.940860748291016\n",
      "clip_model.visual.transformer.resblocks.7.ln_1.bias norm: 6.508787631988525\n",
      "clip_model.visual.transformer.resblocks.7.attn.in_proj_weight norm: 27.27517318725586\n",
      "clip_model.visual.transformer.resblocks.7.attn.in_proj_bias norm: 16.009187698364258\n",
      "clip_model.visual.transformer.resblocks.7.attn.out_proj.weight norm: 14.246922492980957\n",
      "clip_model.visual.transformer.resblocks.7.attn.out_proj.bias norm: 2.018068552017212\n",
      "clip_model.visual.transformer.resblocks.7.ln_2.weight norm: 38.110111236572266\n",
      "clip_model.visual.transformer.resblocks.7.ln_2.bias norm: 5.9679670333862305\n",
      "clip_model.visual.transformer.resblocks.7.mlp.c_fc.weight norm: 30.927471160888672\n",
      "clip_model.visual.transformer.resblocks.7.mlp.c_fc.bias norm: 16.15559196472168\n",
      "clip_model.visual.transformer.resblocks.7.mlp.c_proj.weight norm: 26.569217681884766\n",
      "clip_model.visual.transformer.resblocks.7.mlp.c_proj.bias norm: 1.883933424949646\n",
      "clip_model.visual.transformer.resblocks.8.ln_1.weight norm: 36.630706787109375\n",
      "clip_model.visual.transformer.resblocks.8.ln_1.bias norm: 7.033275127410889\n",
      "clip_model.visual.transformer.resblocks.8.attn.in_proj_weight norm: 27.77443504333496\n",
      "clip_model.visual.transformer.resblocks.8.attn.in_proj_bias norm: 15.830535888671875\n",
      "clip_model.visual.transformer.resblocks.8.attn.out_proj.weight norm: 14.34008502960205\n",
      "clip_model.visual.transformer.resblocks.8.attn.out_proj.bias norm: 1.8848096132278442\n",
      "clip_model.visual.transformer.resblocks.8.ln_2.weight norm: 38.49237060546875\n",
      "clip_model.visual.transformer.resblocks.8.ln_2.bias norm: 6.368034362792969\n",
      "clip_model.visual.transformer.resblocks.8.mlp.c_fc.weight norm: 31.144397735595703\n",
      "clip_model.visual.transformer.resblocks.8.mlp.c_fc.bias norm: 16.655725479125977\n",
      "clip_model.visual.transformer.resblocks.8.mlp.c_proj.weight norm: 27.351276397705078\n",
      "clip_model.visual.transformer.resblocks.8.mlp.c_proj.bias norm: 1.7833755016326904\n",
      "clip_model.visual.transformer.resblocks.9.ln_1.weight norm: 36.06562805175781\n",
      "clip_model.visual.transformer.resblocks.9.ln_1.bias norm: 6.934856414794922\n",
      "clip_model.visual.transformer.resblocks.9.attn.in_proj_weight norm: 27.67609214782715\n",
      "clip_model.visual.transformer.resblocks.9.attn.in_proj_bias norm: 15.336235046386719\n",
      "clip_model.visual.transformer.resblocks.9.attn.out_proj.weight norm: 14.53307819366455\n",
      "clip_model.visual.transformer.resblocks.9.attn.out_proj.bias norm: 1.9333301782608032\n",
      "clip_model.visual.transformer.resblocks.9.ln_2.weight norm: 39.52178192138672\n",
      "clip_model.visual.transformer.resblocks.9.ln_2.bias norm: 7.415387153625488\n",
      "clip_model.visual.transformer.resblocks.9.mlp.c_fc.weight norm: 31.35125160217285\n",
      "clip_model.visual.transformer.resblocks.9.mlp.c_fc.bias norm: 17.057382583618164\n",
      "clip_model.visual.transformer.resblocks.9.mlp.c_proj.weight norm: 27.25922203063965\n",
      "clip_model.visual.transformer.resblocks.9.mlp.c_proj.bias norm: 1.8149681091308594\n",
      "clip_model.visual.transformer.resblocks.10.ln_1.weight norm: 37.85416030883789\n",
      "clip_model.visual.transformer.resblocks.10.ln_1.bias norm: 6.24210786819458\n",
      "clip_model.visual.transformer.resblocks.10.attn.in_proj_weight norm: 28.111276626586914\n",
      "clip_model.visual.transformer.resblocks.10.attn.in_proj_bias norm: 14.957064628601074\n",
      "clip_model.visual.transformer.resblocks.10.attn.out_proj.weight norm: 14.23216724395752\n",
      "clip_model.visual.transformer.resblocks.10.attn.out_proj.bias norm: 1.906280517578125\n",
      "clip_model.visual.transformer.resblocks.10.ln_2.weight norm: 41.51412582397461\n",
      "clip_model.visual.transformer.resblocks.10.ln_2.bias norm: 9.094938278198242\n",
      "clip_model.visual.transformer.resblocks.10.mlp.c_fc.weight norm: 31.74209976196289\n",
      "clip_model.visual.transformer.resblocks.10.mlp.c_fc.bias norm: 17.758872985839844\n",
      "clip_model.visual.transformer.resblocks.10.mlp.c_proj.weight norm: 28.09585189819336\n",
      "clip_model.visual.transformer.resblocks.10.mlp.c_proj.bias norm: 1.6964079141616821\n",
      "clip_model.visual.transformer.resblocks.11.ln_1.weight norm: 37.957618713378906\n",
      "clip_model.visual.transformer.resblocks.11.ln_1.bias norm: 5.849092483520508\n",
      "clip_model.visual.transformer.resblocks.11.attn.in_proj_weight norm: 28.297426223754883\n",
      "clip_model.visual.transformer.resblocks.11.attn.in_proj_bias norm: 14.546358108520508\n",
      "clip_model.visual.transformer.resblocks.11.attn.out_proj.weight norm: 14.16706657409668\n",
      "clip_model.visual.transformer.resblocks.11.attn.out_proj.bias norm: 2.2310802936553955\n",
      "clip_model.visual.transformer.resblocks.11.ln_2.weight norm: 44.00398635864258\n",
      "clip_model.visual.transformer.resblocks.11.ln_2.bias norm: 10.174318313598633\n",
      "clip_model.visual.transformer.resblocks.11.mlp.c_fc.weight norm: 31.899620056152344\n",
      "clip_model.visual.transformer.resblocks.11.mlp.c_fc.bias norm: 18.130266189575195\n",
      "clip_model.visual.transformer.resblocks.11.mlp.c_proj.weight norm: 28.389596939086914\n",
      "clip_model.visual.transformer.resblocks.11.mlp.c_proj.bias norm: 1.4893938302993774\n",
      "clip_model.visual.transformer.resblocks.12.ln_1.weight norm: 38.740535736083984\n",
      "clip_model.visual.transformer.resblocks.12.ln_1.bias norm: 4.7105841636657715\n",
      "clip_model.visual.transformer.resblocks.12.attn.in_proj_weight norm: 28.462779998779297\n",
      "clip_model.visual.transformer.resblocks.12.attn.in_proj_bias norm: 16.331541061401367\n",
      "clip_model.visual.transformer.resblocks.12.attn.out_proj.weight norm: 13.766447067260742\n",
      "clip_model.visual.transformer.resblocks.12.attn.out_proj.bias norm: 2.3832151889801025\n",
      "clip_model.visual.transformer.resblocks.12.ln_2.weight norm: 45.030460357666016\n",
      "clip_model.visual.transformer.resblocks.12.ln_2.bias norm: 10.249150276184082\n",
      "clip_model.visual.transformer.resblocks.12.mlp.c_fc.weight norm: 32.21853256225586\n",
      "clip_model.visual.transformer.resblocks.12.mlp.c_fc.bias norm: 18.22588539123535\n",
      "clip_model.visual.transformer.resblocks.12.mlp.c_proj.weight norm: 28.27147102355957\n",
      "clip_model.visual.transformer.resblocks.12.mlp.c_proj.bias norm: 1.3401497602462769\n",
      "clip_model.visual.transformer.resblocks.13.ln_1.weight norm: 40.54048156738281\n",
      "clip_model.visual.transformer.resblocks.13.ln_1.bias norm: 4.904412269592285\n",
      "clip_model.visual.transformer.resblocks.13.attn.in_proj_weight norm: 28.254375457763672\n",
      "clip_model.visual.transformer.resblocks.13.attn.in_proj_bias norm: 17.341819763183594\n",
      "clip_model.visual.transformer.resblocks.13.attn.out_proj.weight norm: 14.169167518615723\n",
      "clip_model.visual.transformer.resblocks.13.attn.out_proj.bias norm: 2.3735506534576416\n",
      "clip_model.visual.transformer.resblocks.13.ln_2.weight norm: 47.13090515136719\n",
      "clip_model.visual.transformer.resblocks.13.ln_2.bias norm: 10.195941925048828\n",
      "clip_model.visual.transformer.resblocks.13.mlp.c_fc.weight norm: 31.643003463745117\n",
      "clip_model.visual.transformer.resblocks.13.mlp.c_fc.bias norm: 18.132909774780273\n",
      "clip_model.visual.transformer.resblocks.13.mlp.c_proj.weight norm: 29.106334686279297\n",
      "clip_model.visual.transformer.resblocks.13.mlp.c_proj.bias norm: 1.6899365186691284\n",
      "clip_model.visual.transformer.resblocks.14.ln_1.weight norm: 40.671470642089844\n",
      "clip_model.visual.transformer.resblocks.14.ln_1.bias norm: 4.323755264282227\n",
      "clip_model.visual.transformer.resblocks.14.attn.in_proj_weight norm: 28.71218490600586\n",
      "clip_model.visual.transformer.resblocks.14.attn.in_proj_bias norm: 17.204601287841797\n",
      "clip_model.visual.transformer.resblocks.14.attn.out_proj.weight norm: 13.999547004699707\n",
      "clip_model.visual.transformer.resblocks.14.attn.out_proj.bias norm: 1.7508419752120972\n",
      "clip_model.visual.transformer.resblocks.14.ln_2.weight norm: 50.72053909301758\n",
      "clip_model.visual.transformer.resblocks.14.ln_2.bias norm: 11.613776206970215\n",
      "clip_model.visual.transformer.resblocks.14.mlp.c_fc.weight norm: 31.58254623413086\n",
      "clip_model.visual.transformer.resblocks.14.mlp.c_fc.bias norm: 18.3216495513916\n",
      "clip_model.visual.transformer.resblocks.14.mlp.c_proj.weight norm: 30.280210494995117\n",
      "clip_model.visual.transformer.resblocks.14.mlp.c_proj.bias norm: 1.8941216468811035\n",
      "clip_model.visual.transformer.resblocks.15.ln_1.weight norm: 41.34160614013672\n",
      "clip_model.visual.transformer.resblocks.15.ln_1.bias norm: 4.1495280265808105\n",
      "clip_model.visual.transformer.resblocks.15.attn.in_proj_weight norm: 28.76788330078125\n",
      "clip_model.visual.transformer.resblocks.15.attn.in_proj_bias norm: 18.028167724609375\n",
      "clip_model.visual.transformer.resblocks.15.attn.out_proj.weight norm: 14.02329158782959\n",
      "clip_model.visual.transformer.resblocks.15.attn.out_proj.bias norm: 1.849316954612732\n",
      "clip_model.visual.transformer.resblocks.15.ln_2.weight norm: 54.88736343383789\n",
      "clip_model.visual.transformer.resblocks.15.ln_2.bias norm: 9.768153190612793\n",
      "clip_model.visual.transformer.resblocks.15.mlp.c_fc.weight norm: 31.431283950805664\n",
      "clip_model.visual.transformer.resblocks.15.mlp.c_fc.bias norm: 18.023605346679688\n",
      "clip_model.visual.transformer.resblocks.15.mlp.c_proj.weight norm: 30.46934700012207\n",
      "clip_model.visual.transformer.resblocks.15.mlp.c_proj.bias norm: 1.7220458984375\n",
      "clip_model.visual.transformer.resblocks.16.ln_1.weight norm: 44.43754577636719\n",
      "clip_model.visual.transformer.resblocks.16.ln_1.bias norm: 4.334395885467529\n",
      "clip_model.visual.transformer.resblocks.16.attn.in_proj_weight norm: 28.6203556060791\n",
      "clip_model.visual.transformer.resblocks.16.attn.in_proj_bias norm: 21.7856388092041\n",
      "clip_model.visual.transformer.resblocks.16.attn.out_proj.weight norm: 14.52053451538086\n",
      "clip_model.visual.transformer.resblocks.16.attn.out_proj.bias norm: 1.503234624862671\n",
      "clip_model.visual.transformer.resblocks.16.ln_2.weight norm: 64.79186248779297\n",
      "clip_model.visual.transformer.resblocks.16.ln_2.bias norm: 11.037487030029297\n",
      "clip_model.visual.transformer.resblocks.16.mlp.c_fc.weight norm: 30.92313575744629\n",
      "clip_model.visual.transformer.resblocks.16.mlp.c_fc.bias norm: 17.93734359741211\n",
      "clip_model.visual.transformer.resblocks.16.mlp.c_proj.weight norm: 32.07493591308594\n",
      "clip_model.visual.transformer.resblocks.16.mlp.c_proj.bias norm: 1.9910792112350464\n",
      "clip_model.visual.transformer.resblocks.17.ln_1.weight norm: 45.576683044433594\n",
      "clip_model.visual.transformer.resblocks.17.ln_1.bias norm: 4.434880256652832\n",
      "clip_model.visual.transformer.resblocks.17.attn.in_proj_weight norm: 28.88271141052246\n",
      "clip_model.visual.transformer.resblocks.17.attn.in_proj_bias norm: 18.6353759765625\n",
      "clip_model.visual.transformer.resblocks.17.attn.out_proj.weight norm: 14.541595458984375\n",
      "clip_model.visual.transformer.resblocks.17.attn.out_proj.bias norm: 1.371951937675476\n",
      "clip_model.visual.transformer.resblocks.17.ln_2.weight norm: 77.84754943847656\n",
      "clip_model.visual.transformer.resblocks.17.ln_2.bias norm: 12.3207426071167\n",
      "clip_model.visual.transformer.resblocks.17.mlp.c_fc.weight norm: 30.711721420288086\n",
      "clip_model.visual.transformer.resblocks.17.mlp.c_fc.bias norm: 17.62626075744629\n",
      "clip_model.visual.transformer.resblocks.17.mlp.c_proj.weight norm: 32.66929244995117\n",
      "clip_model.visual.transformer.resblocks.17.mlp.c_proj.bias norm: 1.9425207376480103\n",
      "clip_model.visual.transformer.resblocks.18.ln_1.weight norm: 48.85292053222656\n",
      "clip_model.visual.transformer.resblocks.18.ln_1.bias norm: 5.305089473724365\n",
      "clip_model.visual.transformer.resblocks.18.attn.in_proj_weight norm: 28.798879623413086\n",
      "clip_model.visual.transformer.resblocks.18.attn.in_proj_bias norm: 36.3265495300293\n",
      "clip_model.visual.transformer.resblocks.18.attn.out_proj.weight norm: 14.922161102294922\n",
      "clip_model.visual.transformer.resblocks.18.attn.out_proj.bias norm: 1.3433667421340942\n",
      "clip_model.visual.transformer.resblocks.18.ln_2.weight norm: 85.27828979492188\n",
      "clip_model.visual.transformer.resblocks.18.ln_2.bias norm: 13.052431106567383\n",
      "clip_model.visual.transformer.resblocks.18.mlp.c_fc.weight norm: 30.759885787963867\n",
      "clip_model.visual.transformer.resblocks.18.mlp.c_fc.bias norm: 17.587282180786133\n",
      "clip_model.visual.transformer.resblocks.18.mlp.c_proj.weight norm: 32.94742965698242\n",
      "clip_model.visual.transformer.resblocks.18.mlp.c_proj.bias norm: 2.210947036743164\n",
      "clip_model.visual.transformer.resblocks.19.ln_1.weight norm: 49.10882568359375\n",
      "clip_model.visual.transformer.resblocks.19.ln_1.bias norm: 5.97845458984375\n",
      "clip_model.visual.transformer.resblocks.19.attn.in_proj_weight norm: 29.071212768554688\n",
      "clip_model.visual.transformer.resblocks.19.attn.in_proj_bias norm: 20.61051368713379\n",
      "clip_model.visual.transformer.resblocks.19.attn.out_proj.weight norm: 15.201722145080566\n",
      "clip_model.visual.transformer.resblocks.19.attn.out_proj.bias norm: 1.8189492225646973\n",
      "clip_model.visual.transformer.resblocks.19.ln_2.weight norm: 89.2220687866211\n",
      "clip_model.visual.transformer.resblocks.19.ln_2.bias norm: 11.083148956298828\n",
      "clip_model.visual.transformer.resblocks.19.mlp.c_fc.weight norm: 31.032556533813477\n",
      "clip_model.visual.transformer.resblocks.19.mlp.c_fc.bias norm: 17.890308380126953\n",
      "clip_model.visual.transformer.resblocks.19.mlp.c_proj.weight norm: 33.57172775268555\n",
      "clip_model.visual.transformer.resblocks.19.mlp.c_proj.bias norm: 2.114365339279175\n",
      "clip_model.visual.transformer.resblocks.20.ln_1.weight norm: 50.39672088623047\n",
      "clip_model.visual.transformer.resblocks.20.ln_1.bias norm: 6.922916889190674\n",
      "clip_model.visual.transformer.resblocks.20.attn.in_proj_weight norm: 28.830366134643555\n",
      "clip_model.visual.transformer.resblocks.20.attn.in_proj_bias norm: 26.197052001953125\n",
      "clip_model.visual.transformer.resblocks.20.attn.out_proj.weight norm: 15.774913787841797\n",
      "clip_model.visual.transformer.resblocks.20.attn.out_proj.bias norm: 2.367065191268921\n",
      "clip_model.visual.transformer.resblocks.20.ln_2.weight norm: 101.0567855834961\n",
      "clip_model.visual.transformer.resblocks.20.ln_2.bias norm: 10.948442459106445\n",
      "clip_model.visual.transformer.resblocks.20.mlp.c_fc.weight norm: 31.606534957885742\n",
      "clip_model.visual.transformer.resblocks.20.mlp.c_fc.bias norm: 17.93798828125\n",
      "clip_model.visual.transformer.resblocks.20.mlp.c_proj.weight norm: 36.0960578918457\n",
      "clip_model.visual.transformer.resblocks.20.mlp.c_proj.bias norm: 2.467040777206421\n",
      "clip_model.visual.transformer.resblocks.21.ln_1.weight norm: 50.02408218383789\n",
      "clip_model.visual.transformer.resblocks.21.ln_1.bias norm: 7.538011074066162\n",
      "clip_model.visual.transformer.resblocks.21.attn.in_proj_weight norm: 29.148988723754883\n",
      "clip_model.visual.transformer.resblocks.21.attn.in_proj_bias norm: 57.67101287841797\n",
      "clip_model.visual.transformer.resblocks.21.attn.out_proj.weight norm: 16.172718048095703\n",
      "clip_model.visual.transformer.resblocks.21.attn.out_proj.bias norm: 2.7637670040130615\n",
      "clip_model.visual.transformer.resblocks.21.ln_2.weight norm: 96.56489562988281\n",
      "clip_model.visual.transformer.resblocks.21.ln_2.bias norm: 11.981264114379883\n",
      "clip_model.visual.transformer.resblocks.21.mlp.c_fc.weight norm: 31.901424407958984\n",
      "clip_model.visual.transformer.resblocks.21.mlp.c_fc.bias norm: 18.461257934570312\n",
      "clip_model.visual.transformer.resblocks.21.mlp.c_proj.weight norm: 37.01428985595703\n",
      "clip_model.visual.transformer.resblocks.21.mlp.c_proj.bias norm: 2.8051722049713135\n",
      "clip_model.visual.transformer.resblocks.22.ln_1.weight norm: 53.31977462768555\n",
      "clip_model.visual.transformer.resblocks.22.ln_1.bias norm: 12.421880722045898\n",
      "clip_model.visual.transformer.resblocks.22.attn.in_proj_weight norm: 39.97884750366211\n",
      "clip_model.visual.transformer.resblocks.22.attn.in_proj_bias norm: 178.88648986816406\n",
      "clip_model.visual.transformer.resblocks.22.attn.out_proj.weight norm: 15.429447174072266\n",
      "clip_model.visual.transformer.resblocks.22.attn.out_proj.bias norm: 3.386183738708496\n",
      "clip_model.visual.transformer.resblocks.22.ln_2.weight norm: 79.85762023925781\n",
      "clip_model.visual.transformer.resblocks.22.ln_2.bias norm: 12.664437294006348\n",
      "clip_model.visual.transformer.resblocks.22.mlp.c_fc.weight norm: 31.314098358154297\n",
      "clip_model.visual.transformer.resblocks.22.mlp.c_fc.bias norm: 19.342973709106445\n",
      "clip_model.visual.transformer.resblocks.22.mlp.c_proj.weight norm: 35.9650764465332\n",
      "clip_model.visual.transformer.resblocks.22.mlp.c_proj.bias norm: 6.298226833343506\n",
      "clip_model.visual.transformer.resblocks.23.ln_1.weight norm: 46.64555740356445\n",
      "clip_model.visual.transformer.resblocks.23.ln_1.bias norm: 6.8445725440979\n",
      "clip_model.visual.transformer.resblocks.23.attn.in_proj_weight norm: 28.303388595581055\n",
      "clip_model.visual.transformer.resblocks.23.attn.in_proj_bias norm: 8.663172721862793\n",
      "clip_model.visual.transformer.resblocks.23.attn.out_proj.weight norm: 18.294157028198242\n",
      "clip_model.visual.transformer.resblocks.23.attn.out_proj.bias norm: 4.277795791625977\n",
      "clip_model.visual.transformer.resblocks.23.ln_2.weight norm: 51.70710372924805\n",
      "clip_model.visual.transformer.resblocks.23.ln_2.bias norm: 6.0322265625\n",
      "clip_model.visual.transformer.resblocks.23.mlp.c_fc.weight norm: 31.654632568359375\n",
      "clip_model.visual.transformer.resblocks.23.mlp.c_fc.bias norm: 19.27204704284668\n",
      "clip_model.visual.transformer.resblocks.23.mlp.c_proj.weight norm: 30.333984375\n",
      "clip_model.visual.transformer.resblocks.23.mlp.c_proj.bias norm: 3.6816046237945557\n",
      "clip_model.visual.ln_post.weight norm: 32.20553207397461\n",
      "clip_model.visual.ln_post.bias norm: 7.6549763679504395\n",
      "clip_model.transformer.resblocks.0.ln_1.weight norm: 48.23323440551758\n",
      "clip_model.transformer.resblocks.0.ln_1.bias norm: 6.487492084503174\n",
      "clip_model.transformer.resblocks.0.attn.in_proj_weight norm: 25.31568145751953\n",
      "clip_model.transformer.resblocks.0.attn.in_proj_bias norm: 10.052103042602539\n",
      "clip_model.transformer.resblocks.0.attn.out_proj.weight norm: 9.7584228515625\n",
      "clip_model.transformer.resblocks.0.attn.out_proj.bias norm: 2.1496410369873047\n",
      "clip_model.transformer.resblocks.0.ln_2.weight norm: 46.30031204223633\n",
      "clip_model.transformer.resblocks.0.ln_2.bias norm: 11.89057731628418\n",
      "clip_model.transformer.resblocks.0.mlp.c_fc.weight norm: 26.1268253326416\n",
      "clip_model.transformer.resblocks.0.mlp.c_fc.bias norm: 20.5567684173584\n",
      "clip_model.transformer.resblocks.0.mlp.c_proj.weight norm: 18.84624481201172\n",
      "clip_model.transformer.resblocks.0.mlp.c_proj.bias norm: 2.4048094749450684\n",
      "clip_model.transformer.resblocks.1.ln_1.weight norm: 31.20911979675293\n",
      "clip_model.transformer.resblocks.1.ln_1.bias norm: 4.714117527008057\n",
      "clip_model.transformer.resblocks.1.attn.in_proj_weight norm: 25.374189376831055\n",
      "clip_model.transformer.resblocks.1.attn.in_proj_bias norm: 12.573801040649414\n",
      "clip_model.transformer.resblocks.1.attn.out_proj.weight norm: 9.551695823669434\n",
      "clip_model.transformer.resblocks.1.attn.out_proj.bias norm: 1.0124244689941406\n",
      "clip_model.transformer.resblocks.1.ln_2.weight norm: 52.48035430908203\n",
      "clip_model.transformer.resblocks.1.ln_2.bias norm: 14.386946678161621\n",
      "clip_model.transformer.resblocks.1.mlp.c_fc.weight norm: 25.452096939086914\n",
      "clip_model.transformer.resblocks.1.mlp.c_fc.bias norm: 17.421449661254883\n",
      "clip_model.transformer.resblocks.1.mlp.c_proj.weight norm: 19.617820739746094\n",
      "clip_model.transformer.resblocks.1.mlp.c_proj.bias norm: 1.6287388801574707\n",
      "clip_model.transformer.resblocks.2.ln_1.weight norm: 37.02851867675781\n",
      "clip_model.transformer.resblocks.2.ln_1.bias norm: 7.309730052947998\n",
      "clip_model.transformer.resblocks.2.attn.in_proj_weight norm: 24.4049015045166\n",
      "clip_model.transformer.resblocks.2.attn.in_proj_bias norm: 10.607417106628418\n",
      "clip_model.transformer.resblocks.2.attn.out_proj.weight norm: 10.491559982299805\n",
      "clip_model.transformer.resblocks.2.attn.out_proj.bias norm: 1.1078767776489258\n",
      "clip_model.transformer.resblocks.2.ln_2.weight norm: 55.71249771118164\n",
      "clip_model.transformer.resblocks.2.ln_2.bias norm: 13.692480087280273\n",
      "clip_model.transformer.resblocks.2.mlp.c_fc.weight norm: 25.36627960205078\n",
      "clip_model.transformer.resblocks.2.mlp.c_fc.bias norm: 17.371397018432617\n",
      "clip_model.transformer.resblocks.2.mlp.c_proj.weight norm: 20.14874839782715\n",
      "clip_model.transformer.resblocks.2.mlp.c_proj.bias norm: 1.5081334114074707\n",
      "clip_model.transformer.resblocks.3.ln_1.weight norm: 37.29906463623047\n",
      "clip_model.transformer.resblocks.3.ln_1.bias norm: 7.101716041564941\n",
      "clip_model.transformer.resblocks.3.attn.in_proj_weight norm: 24.500667572021484\n",
      "clip_model.transformer.resblocks.3.attn.in_proj_bias norm: 9.969091415405273\n",
      "clip_model.transformer.resblocks.3.attn.out_proj.weight norm: 10.468145370483398\n",
      "clip_model.transformer.resblocks.3.attn.out_proj.bias norm: 0.8911875486373901\n",
      "clip_model.transformer.resblocks.3.ln_2.weight norm: 57.620269775390625\n",
      "clip_model.transformer.resblocks.3.ln_2.bias norm: 13.916260719299316\n",
      "clip_model.transformer.resblocks.3.mlp.c_fc.weight norm: 25.274356842041016\n",
      "clip_model.transformer.resblocks.3.mlp.c_fc.bias norm: 17.09723663330078\n",
      "clip_model.transformer.resblocks.3.mlp.c_proj.weight norm: 20.51967430114746\n",
      "clip_model.transformer.resblocks.3.mlp.c_proj.bias norm: 1.5442782640457153\n",
      "clip_model.transformer.resblocks.4.ln_1.weight norm: 39.916358947753906\n",
      "clip_model.transformer.resblocks.4.ln_1.bias norm: 6.772028923034668\n",
      "clip_model.transformer.resblocks.4.attn.in_proj_weight norm: 24.01230812072754\n",
      "clip_model.transformer.resblocks.4.attn.in_proj_bias norm: 10.050741195678711\n",
      "clip_model.transformer.resblocks.4.attn.out_proj.weight norm: 10.835052490234375\n",
      "clip_model.transformer.resblocks.4.attn.out_proj.bias norm: 0.8907585144042969\n",
      "clip_model.transformer.resblocks.4.ln_2.weight norm: 58.98666763305664\n",
      "clip_model.transformer.resblocks.4.ln_2.bias norm: 14.629817008972168\n",
      "clip_model.transformer.resblocks.4.mlp.c_fc.weight norm: 25.087203979492188\n",
      "clip_model.transformer.resblocks.4.mlp.c_fc.bias norm: 17.319917678833008\n",
      "clip_model.transformer.resblocks.4.mlp.c_proj.weight norm: 21.12583351135254\n",
      "clip_model.transformer.resblocks.4.mlp.c_proj.bias norm: 1.4901920557022095\n",
      "clip_model.transformer.resblocks.5.ln_1.weight norm: 41.546939849853516\n",
      "clip_model.transformer.resblocks.5.ln_1.bias norm: 6.88997220993042\n",
      "clip_model.transformer.resblocks.5.attn.in_proj_weight norm: 23.686521530151367\n",
      "clip_model.transformer.resblocks.5.attn.in_proj_bias norm: 9.883766174316406\n",
      "clip_model.transformer.resblocks.5.attn.out_proj.weight norm: 10.938239097595215\n",
      "clip_model.transformer.resblocks.5.attn.out_proj.bias norm: 0.8925686478614807\n",
      "clip_model.transformer.resblocks.5.ln_2.weight norm: 58.95792770385742\n",
      "clip_model.transformer.resblocks.5.ln_2.bias norm: 14.04976749420166\n",
      "clip_model.transformer.resblocks.5.mlp.c_fc.weight norm: 25.04279327392578\n",
      "clip_model.transformer.resblocks.5.mlp.c_fc.bias norm: 17.291414260864258\n",
      "clip_model.transformer.resblocks.5.mlp.c_proj.weight norm: 21.72531509399414\n",
      "clip_model.transformer.resblocks.5.mlp.c_proj.bias norm: 1.5384501218795776\n",
      "clip_model.transformer.resblocks.6.ln_1.weight norm: 44.03043746948242\n",
      "clip_model.transformer.resblocks.6.ln_1.bias norm: 7.139475345611572\n",
      "clip_model.transformer.resblocks.6.attn.in_proj_weight norm: 23.417329788208008\n",
      "clip_model.transformer.resblocks.6.attn.in_proj_bias norm: 10.32133960723877\n",
      "clip_model.transformer.resblocks.6.attn.out_proj.weight norm: 11.119423866271973\n",
      "clip_model.transformer.resblocks.6.attn.out_proj.bias norm: 1.113033413887024\n",
      "clip_model.transformer.resblocks.6.ln_2.weight norm: 60.38026809692383\n",
      "clip_model.transformer.resblocks.6.ln_2.bias norm: 14.309654235839844\n",
      "clip_model.transformer.resblocks.6.mlp.c_fc.weight norm: 24.851621627807617\n",
      "clip_model.transformer.resblocks.6.mlp.c_fc.bias norm: 17.307729721069336\n",
      "clip_model.transformer.resblocks.6.mlp.c_proj.weight norm: 23.021390914916992\n",
      "clip_model.transformer.resblocks.6.mlp.c_proj.bias norm: 1.6239269971847534\n",
      "clip_model.transformer.resblocks.7.ln_1.weight norm: 44.2908821105957\n",
      "clip_model.transformer.resblocks.7.ln_1.bias norm: 6.823606967926025\n",
      "clip_model.transformer.resblocks.7.attn.in_proj_weight norm: 23.38243865966797\n",
      "clip_model.transformer.resblocks.7.attn.in_proj_bias norm: 10.4410982131958\n",
      "clip_model.transformer.resblocks.7.attn.out_proj.weight norm: 11.35149097442627\n",
      "clip_model.transformer.resblocks.7.attn.out_proj.bias norm: 1.100996732711792\n",
      "clip_model.transformer.resblocks.7.ln_2.weight norm: 62.28268814086914\n",
      "clip_model.transformer.resblocks.7.ln_2.bias norm: 12.409381866455078\n",
      "clip_model.transformer.resblocks.7.mlp.c_fc.weight norm: 24.660541534423828\n",
      "clip_model.transformer.resblocks.7.mlp.c_fc.bias norm: 17.184707641601562\n",
      "clip_model.transformer.resblocks.7.mlp.c_proj.weight norm: 23.80385971069336\n",
      "clip_model.transformer.resblocks.7.mlp.c_proj.bias norm: 1.6553961038589478\n",
      "clip_model.transformer.resblocks.8.ln_1.weight norm: 48.477745056152344\n",
      "clip_model.transformer.resblocks.8.ln_1.bias norm: 8.063379287719727\n",
      "clip_model.transformer.resblocks.8.attn.in_proj_weight norm: 23.144563674926758\n",
      "clip_model.transformer.resblocks.8.attn.in_proj_bias norm: 9.833728790283203\n",
      "clip_model.transformer.resblocks.8.attn.out_proj.weight norm: 11.71756649017334\n",
      "clip_model.transformer.resblocks.8.attn.out_proj.bias norm: 1.5300424098968506\n",
      "clip_model.transformer.resblocks.8.ln_2.weight norm: 63.996768951416016\n",
      "clip_model.transformer.resblocks.8.ln_2.bias norm: 11.714378356933594\n",
      "clip_model.transformer.resblocks.8.mlp.c_fc.weight norm: 24.54339027404785\n",
      "clip_model.transformer.resblocks.8.mlp.c_fc.bias norm: 17.41006851196289\n",
      "clip_model.transformer.resblocks.8.mlp.c_proj.weight norm: 24.719154357910156\n",
      "clip_model.transformer.resblocks.8.mlp.c_proj.bias norm: 1.9036481380462646\n",
      "clip_model.transformer.resblocks.9.ln_1.weight norm: 47.42156982421875\n",
      "clip_model.transformer.resblocks.9.ln_1.bias norm: 7.029470920562744\n",
      "clip_model.transformer.resblocks.9.attn.in_proj_weight norm: 22.861127853393555\n",
      "clip_model.transformer.resblocks.9.attn.in_proj_bias norm: 10.54754638671875\n",
      "clip_model.transformer.resblocks.9.attn.out_proj.weight norm: 11.896199226379395\n",
      "clip_model.transformer.resblocks.9.attn.out_proj.bias norm: 2.1859169006347656\n",
      "clip_model.transformer.resblocks.9.ln_2.weight norm: 67.09716796875\n",
      "clip_model.transformer.resblocks.9.ln_2.bias norm: 10.61978530883789\n",
      "clip_model.transformer.resblocks.9.mlp.c_fc.weight norm: 24.455961227416992\n",
      "clip_model.transformer.resblocks.9.mlp.c_fc.bias norm: 16.998361587524414\n",
      "clip_model.transformer.resblocks.9.mlp.c_proj.weight norm: 25.792116165161133\n",
      "clip_model.transformer.resblocks.9.mlp.c_proj.bias norm: 2.532953977584839\n",
      "clip_model.transformer.resblocks.10.ln_1.weight norm: 48.9234733581543\n",
      "clip_model.transformer.resblocks.10.ln_1.bias norm: 5.942650318145752\n",
      "clip_model.transformer.resblocks.10.attn.in_proj_weight norm: 22.533143997192383\n",
      "clip_model.transformer.resblocks.10.attn.in_proj_bias norm: 10.329341888427734\n",
      "clip_model.transformer.resblocks.10.attn.out_proj.weight norm: 12.913084983825684\n",
      "clip_model.transformer.resblocks.10.attn.out_proj.bias norm: 3.3537888526916504\n",
      "clip_model.transformer.resblocks.10.ln_2.weight norm: 65.28447723388672\n",
      "clip_model.transformer.resblocks.10.ln_2.bias norm: 5.865417957305908\n",
      "clip_model.transformer.resblocks.10.mlp.c_fc.weight norm: 24.611610412597656\n",
      "clip_model.transformer.resblocks.10.mlp.c_fc.bias norm: 16.153093338012695\n",
      "clip_model.transformer.resblocks.10.mlp.c_proj.weight norm: 25.921674728393555\n",
      "clip_model.transformer.resblocks.10.mlp.c_proj.bias norm: 2.361626625061035\n",
      "clip_model.transformer.resblocks.11.ln_1.weight norm: 52.20705032348633\n",
      "clip_model.transformer.resblocks.11.ln_1.bias norm: 5.2628936767578125\n",
      "clip_model.transformer.resblocks.11.attn.in_proj_weight norm: 22.79184341430664\n",
      "clip_model.transformer.resblocks.11.attn.in_proj_bias norm: 8.058107376098633\n",
      "clip_model.transformer.resblocks.11.attn.out_proj.weight norm: 14.671961784362793\n",
      "clip_model.transformer.resblocks.11.attn.out_proj.bias norm: 5.717508316040039\n",
      "clip_model.transformer.resblocks.11.ln_2.weight norm: 48.804264068603516\n",
      "clip_model.transformer.resblocks.11.ln_2.bias norm: 4.60460090637207\n",
      "clip_model.transformer.resblocks.11.mlp.c_fc.weight norm: 24.89081573486328\n",
      "clip_model.transformer.resblocks.11.mlp.c_fc.bias norm: 16.412071228027344\n",
      "clip_model.transformer.resblocks.11.mlp.c_proj.weight norm: 25.19438362121582\n",
      "clip_model.transformer.resblocks.11.mlp.c_proj.bias norm: 4.40059757232666\n",
      "clip_model.token_embedding.weight norm: 85.4888916015625\n",
      "clip_model.ln_final.weight norm: 27.67142105102539\n",
      "clip_model.ln_final.bias norm: 4.976181983947754\n",
      "img_to_text_attn.multihead_attn.in_proj_weight norm: 33.98497009277344\n",
      "img_to_text_attn.multihead_attn.in_proj_bias norm: 0.026940854266285896\n",
      "img_to_text_attn.multihead_attn.out_proj.weight norm: 16.077781677246094\n",
      "img_to_text_attn.multihead_attn.out_proj.bias norm: 0.021185973659157753\n",
      "img_to_text_attn.norm1.weight norm: 27.7124080657959\n",
      "img_to_text_attn.norm1.bias norm: 0.03610651195049286\n",
      "img_to_text_attn.norm2.weight norm: 27.711071014404297\n",
      "img_to_text_attn.norm2.bias norm: 0.05323696881532669\n",
      "img_to_text_attn.mlp.0.weight norm: 32.03025817871094\n",
      "img_to_text_attn.mlp.0.bias norm: 1.1569602489471436\n",
      "img_to_text_attn.mlp.3.weight norm: 16.03421974182129\n",
      "img_to_text_attn.mlp.3.bias norm: 0.2946760058403015\n",
      "text_to_img_attn.multihead_attn.in_proj_weight norm: 33.95155715942383\n",
      "text_to_img_attn.multihead_attn.in_proj_bias norm: 0.017987631261348724\n",
      "text_to_img_attn.multihead_attn.out_proj.weight norm: 16.00666618347168\n",
      "text_to_img_attn.multihead_attn.out_proj.bias norm: 0.026310596615076065\n",
      "text_to_img_attn.norm1.weight norm: 27.711427688598633\n",
      "text_to_img_attn.norm1.bias norm: 0.03718438372015953\n",
      "text_to_img_attn.norm2.weight norm: 27.710256576538086\n",
      "text_to_img_attn.norm2.bias norm: 0.05310594663023949\n",
      "text_to_img_attn.mlp.0.weight norm: 32.02248764038086\n",
      "text_to_img_attn.mlp.0.bias norm: 1.1715612411499023\n",
      "text_to_img_attn.mlp.3.weight norm: 16.05132484436035\n",
      "text_to_img_attn.mlp.3.bias norm: 0.3008477985858917\n",
      "img_proj.weight norm: 15.965596199035645\n",
      "img_proj.bias norm: 0.571149468421936\n",
      "text_proj.weight norm: 16.023408889770508\n",
      "text_proj.bias norm: 0.5817644596099854\n",
      "final_img_proj.weight norm: 15.99697208404541\n",
      "final_img_proj.bias norm: 0.5623782277107239\n",
      "final_text_proj.weight norm: 15.994200706481934\n",
      "final_text_proj.bias norm: 0.5745764374732971\n"
     ]
    }
   ],
   "source": [
    "\n",
    "for name, param in clip_model.named_parameters():\n",
    "    print(f\"{name} norm: {param.norm().item()}\")"
   ]
  }
 ],
 "metadata": {
  "kaggle": {
   "accelerator": "nvidiaTeslaT4",
   "dataSources": [
    {
     "datasetId": 7604493,
     "sourceId": 12080066,
     "sourceType": "datasetVersion"
    },
    {
     "datasetId": 7608410,
     "sourceId": 12086383,
     "sourceType": "datasetVersion"
    },
    {
     "isSourceIdPinned": true,
     "modelId": 369677,
     "modelInstanceId": 348413,
     "sourceId": 427398,
     "sourceType": "modelInstanceVersion"
    }
   ],
   "dockerImageVersionId": 31041,
   "isGpuEnabled": true,
   "isInternetEnabled": true,
   "language": "python",
   "sourceType": "notebook"
  },
  "kernelspec": {
   "display_name": "Python 3",
   "language": "python",
   "name": "python3"
  },
  "language_info": {
   "codemirror_mode": {
    "name": "ipython",
    "version": 3
   },
   "file_extension": ".py",
   "mimetype": "text/x-python",
   "name": "python",
   "nbconvert_exporter": "python",
   "pygments_lexer": "ipython3",
   "version": "3.11.11"
  },
  "papermill": {
   "default_parameters": {},
   "duration": 13744.33745,
   "end_time": "2025-06-08T22:47:43.334760",
   "environment_variables": {},
   "exception": null,
   "input_path": "__notebook__.ipynb",
   "output_path": "__notebook__.ipynb",
   "parameters": {},
   "start_time": "2025-06-08T18:58:38.997310",
   "version": "2.6.0"
  },
  "widgets": {
   "application/vnd.jupyter.widget-state+json": {
    "state": {
     "1864272e211444a6b26635e66860fc24": {
      "model_module": "@jupyter-widgets/controls",
      "model_module_version": "2.0.0",
      "model_name": "HBoxModel",
      "state": {
       "_dom_classes": [],
       "_model_module": "@jupyter-widgets/controls",
       "_model_module_version": "2.0.0",
       "_model_name": "HBoxModel",
       "_view_count": null,
       "_view_module": "@jupyter-widgets/controls",
       "_view_module_version": "2.0.0",
       "_view_name": "HBoxView",
       "box_style": "",
       "children": [
        "IPY_MODEL_4aaa9ea5db3f4b87ad1dc9b7c361063a",
        "IPY_MODEL_7cb9e9fd0df24eca8d172827950ac6c8",
        "IPY_MODEL_b5332b209ef54313872abf9681fdbd75"
       ],
       "layout": "IPY_MODEL_6caf92a6e5144f71a5b8490f4ddb728c",
       "tabbable": null,
       "tooltip": null
      }
     },
     "2d163d3f72674109b7707ed81e04a7ae": {
      "model_module": "@jupyter-widgets/controls",
      "model_module_version": "2.0.0",
      "model_name": "HTMLStyleModel",
      "state": {
       "_model_module": "@jupyter-widgets/controls",
       "_model_module_version": "2.0.0",
       "_model_name": "HTMLStyleModel",
       "_view_count": null,
       "_view_module": "@jupyter-widgets/base",
       "_view_module_version": "2.0.0",
       "_view_name": "StyleView",
       "background": null,
       "description_width": "",
       "font_size": null,
       "text_color": null
      }
     },
     "38e596581b0e4406928d36bf8c48366e": {
      "model_module": "@jupyter-widgets/base",
      "model_module_version": "2.0.0",
      "model_name": "LayoutModel",
      "state": {
       "_model_module": "@jupyter-widgets/base",
       "_model_module_version": "2.0.0",
       "_model_name": "LayoutModel",
       "_view_count": null,
       "_view_module": "@jupyter-widgets/base",
       "_view_module_version": "2.0.0",
       "_view_name": "LayoutView",
       "align_content": null,
       "align_items": null,
       "align_self": null,
       "border_bottom": null,
       "border_left": null,
       "border_right": null,
       "border_top": null,
       "bottom": null,
       "display": null,
       "flex": null,
       "flex_flow": null,
       "grid_area": null,
       "grid_auto_columns": null,
       "grid_auto_flow": null,
       "grid_auto_rows": null,
       "grid_column": null,
       "grid_gap": null,
       "grid_row": null,
       "grid_template_areas": null,
       "grid_template_columns": null,
       "grid_template_rows": null,
       "height": null,
       "justify_content": null,
       "justify_items": null,
       "left": null,
       "margin": null,
       "max_height": null,
       "max_width": null,
       "min_height": null,
       "min_width": null,
       "object_fit": null,
       "object_position": null,
       "order": null,
       "overflow": null,
       "padding": null,
       "right": null,
       "top": null,
       "visibility": null,
       "width": null
      }
     },
     "4aaa9ea5db3f4b87ad1dc9b7c361063a": {
      "model_module": "@jupyter-widgets/controls",
      "model_module_version": "2.0.0",
      "model_name": "HTMLModel",
      "state": {
       "_dom_classes": [],
       "_model_module": "@jupyter-widgets/controls",
       "_model_module_version": "2.0.0",
       "_model_name": "HTMLModel",
       "_view_count": null,
       "_view_module": "@jupyter-widgets/controls",
       "_view_module_version": "2.0.0",
       "_view_name": "HTMLView",
       "description": "",
       "description_allow_html": false,
       "layout": "IPY_MODEL_dfe5c76b873341ff9e0a210ad044f7d4",
       "placeholder": "​",
       "style": "IPY_MODEL_2d163d3f72674109b7707ed81e04a7ae",
       "tabbable": null,
       "tooltip": null,
       "value": "open_clip_model.safetensors: 100%"
      }
     },
     "4afeb981fa07403586f8358841d73c6e": {
      "model_module": "@jupyter-widgets/base",
      "model_module_version": "2.0.0",
      "model_name": "LayoutModel",
      "state": {
       "_model_module": "@jupyter-widgets/base",
       "_model_module_version": "2.0.0",
       "_model_name": "LayoutModel",
       "_view_count": null,
       "_view_module": "@jupyter-widgets/base",
       "_view_module_version": "2.0.0",
       "_view_name": "LayoutView",
       "align_content": null,
       "align_items": null,
       "align_self": null,
       "border_bottom": null,
       "border_left": null,
       "border_right": null,
       "border_top": null,
       "bottom": null,
       "display": null,
       "flex": null,
       "flex_flow": null,
       "grid_area": null,
       "grid_auto_columns": null,
       "grid_auto_flow": null,
       "grid_auto_rows": null,
       "grid_column": null,
       "grid_gap": null,
       "grid_row": null,
       "grid_template_areas": null,
       "grid_template_columns": null,
       "grid_template_rows": null,
       "height": null,
       "justify_content": null,
       "justify_items": null,
       "left": null,
       "margin": null,
       "max_height": null,
       "max_width": null,
       "min_height": null,
       "min_width": null,
       "object_fit": null,
       "object_position": null,
       "order": null,
       "overflow": null,
       "padding": null,
       "right": null,
       "top": null,
       "visibility": null,
       "width": null
      }
     },
     "6caf92a6e5144f71a5b8490f4ddb728c": {
      "model_module": "@jupyter-widgets/base",
      "model_module_version": "2.0.0",
      "model_name": "LayoutModel",
      "state": {
       "_model_module": "@jupyter-widgets/base",
       "_model_module_version": "2.0.0",
       "_model_name": "LayoutModel",
       "_view_count": null,
       "_view_module": "@jupyter-widgets/base",
       "_view_module_version": "2.0.0",
       "_view_name": "LayoutView",
       "align_content": null,
       "align_items": null,
       "align_self": null,
       "border_bottom": null,
       "border_left": null,
       "border_right": null,
       "border_top": null,
       "bottom": null,
       "display": null,
       "flex": null,
       "flex_flow": null,
       "grid_area": null,
       "grid_auto_columns": null,
       "grid_auto_flow": null,
       "grid_auto_rows": null,
       "grid_column": null,
       "grid_gap": null,
       "grid_row": null,
       "grid_template_areas": null,
       "grid_template_columns": null,
       "grid_template_rows": null,
       "height": null,
       "justify_content": null,
       "justify_items": null,
       "left": null,
       "margin": null,
       "max_height": null,
       "max_width": null,
       "min_height": null,
       "min_width": null,
       "object_fit": null,
       "object_position": null,
       "order": null,
       "overflow": null,
       "padding": null,
       "right": null,
       "top": null,
       "visibility": null,
       "width": null
      }
     },
     "7cb9e9fd0df24eca8d172827950ac6c8": {
      "model_module": "@jupyter-widgets/controls",
      "model_module_version": "2.0.0",
      "model_name": "FloatProgressModel",
      "state": {
       "_dom_classes": [],
       "_model_module": "@jupyter-widgets/controls",
       "_model_module_version": "2.0.0",
       "_model_name": "FloatProgressModel",
       "_view_count": null,
       "_view_module": "@jupyter-widgets/controls",
       "_view_module_version": "2.0.0",
       "_view_name": "ProgressView",
       "bar_style": "success",
       "description": "",
       "description_allow_html": false,
       "layout": "IPY_MODEL_38e596581b0e4406928d36bf8c48366e",
       "max": 1710517724.0,
       "min": 0.0,
       "orientation": "horizontal",
       "style": "IPY_MODEL_97afdd2cfcda4beba39666cbe36dc368",
       "tabbable": null,
       "tooltip": null,
       "value": 1710517724.0
      }
     },
     "97afdd2cfcda4beba39666cbe36dc368": {
      "model_module": "@jupyter-widgets/controls",
      "model_module_version": "2.0.0",
      "model_name": "ProgressStyleModel",
      "state": {
       "_model_module": "@jupyter-widgets/controls",
       "_model_module_version": "2.0.0",
       "_model_name": "ProgressStyleModel",
       "_view_count": null,
       "_view_module": "@jupyter-widgets/base",
       "_view_module_version": "2.0.0",
       "_view_name": "StyleView",
       "bar_color": null,
       "description_width": ""
      }
     },
     "b5332b209ef54313872abf9681fdbd75": {
      "model_module": "@jupyter-widgets/controls",
      "model_module_version": "2.0.0",
      "model_name": "HTMLModel",
      "state": {
       "_dom_classes": [],
       "_model_module": "@jupyter-widgets/controls",
       "_model_module_version": "2.0.0",
       "_model_name": "HTMLModel",
       "_view_count": null,
       "_view_module": "@jupyter-widgets/controls",
       "_view_module_version": "2.0.0",
       "_view_name": "HTMLView",
       "description": "",
       "description_allow_html": false,
       "layout": "IPY_MODEL_4afeb981fa07403586f8358841d73c6e",
       "placeholder": "​",
       "style": "IPY_MODEL_e48591977f0645cdab4061ffa7860c57",
       "tabbable": null,
       "tooltip": null,
       "value": " 1.71G/1.71G [00:07&lt;00:00, 239MB/s]"
      }
     },
     "dfe5c76b873341ff9e0a210ad044f7d4": {
      "model_module": "@jupyter-widgets/base",
      "model_module_version": "2.0.0",
      "model_name": "LayoutModel",
      "state": {
       "_model_module": "@jupyter-widgets/base",
       "_model_module_version": "2.0.0",
       "_model_name": "LayoutModel",
       "_view_count": null,
       "_view_module": "@jupyter-widgets/base",
       "_view_module_version": "2.0.0",
       "_view_name": "LayoutView",
       "align_content": null,
       "align_items": null,
       "align_self": null,
       "border_bottom": null,
       "border_left": null,
       "border_right": null,
       "border_top": null,
       "bottom": null,
       "display": null,
       "flex": null,
       "flex_flow": null,
       "grid_area": null,
       "grid_auto_columns": null,
       "grid_auto_flow": null,
       "grid_auto_rows": null,
       "grid_column": null,
       "grid_gap": null,
       "grid_row": null,
       "grid_template_areas": null,
       "grid_template_columns": null,
       "grid_template_rows": null,
       "height": null,
       "justify_content": null,
       "justify_items": null,
       "left": null,
       "margin": null,
       "max_height": null,
       "max_width": null,
       "min_height": null,
       "min_width": null,
       "object_fit": null,
       "object_position": null,
       "order": null,
       "overflow": null,
       "padding": null,
       "right": null,
       "top": null,
       "visibility": null,
       "width": null
      }
     },
     "e48591977f0645cdab4061ffa7860c57": {
      "model_module": "@jupyter-widgets/controls",
      "model_module_version": "2.0.0",
      "model_name": "HTMLStyleModel",
      "state": {
       "_model_module": "@jupyter-widgets/controls",
       "_model_module_version": "2.0.0",
       "_model_name": "HTMLStyleModel",
       "_view_count": null,
       "_view_module": "@jupyter-widgets/base",
       "_view_module_version": "2.0.0",
       "_view_name": "StyleView",
       "background": null,
       "description_width": "",
       "font_size": null,
       "text_color": null
      }
     }
    },
    "version_major": 2,
    "version_minor": 0
   }
  }
 },
 "nbformat": 4,
 "nbformat_minor": 5
}
